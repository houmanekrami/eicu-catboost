{
 "cells": [
  {
   "cell_type": "code",
   "execution_count": 1,
   "id": "3e3f702e",
   "metadata": {},
   "outputs": [],
   "source": [
    "import pandas as pd\n",
    "import numpy as np\n",
    "from sklearn import metrics"
   ]
  },
  {
   "cell_type": "code",
   "execution_count": 2,
   "id": "5e8e51f8",
   "metadata": {},
   "outputs": [],
   "source": [
    "burns=pd.read_csv(\"data2/surgery.csv\")"
   ]
  },
  {
   "cell_type": "code",
   "execution_count": 3,
   "id": "66e12dd5",
   "metadata": {},
   "outputs": [],
   "source": [
    "apachepredvar = pd.read_csv('apachePredVar.csv.gz')"
   ]
  },
  {
   "cell_type": "code",
   "execution_count": 4,
   "id": "f90a88da",
   "metadata": {},
   "outputs": [],
   "source": [
    "burns_merged = pd.merge(apachepredvar[['patientunitstayid','pao2','fio2']], burns, how='right', on='patientunitstayid')"
   ]
  },
  {
   "cell_type": "code",
   "execution_count": 5,
   "id": "9ba06321",
   "metadata": {},
   "outputs": [],
   "source": [
    "burns_merged['sofa_ratio'] = 0"
   ]
  },
  {
   "cell_type": "code",
   "execution_count": 6,
   "id": "d1faba22",
   "metadata": {},
   "outputs": [
    {
     "name": "stderr",
     "output_type": "stream",
     "text": [
      "C:\\Users\\nsafa\\Anaconda3\\lib\\site-packages\\pandas\\core\\indexing.py:1637: SettingWithCopyWarning: \n",
      "A value is trying to be set on a copy of a slice from a DataFrame\n",
      "\n",
      "See the caveats in the documentation: https://pandas.pydata.org/pandas-docs/stable/user_guide/indexing.html#returning-a-view-versus-a-copy\n",
      "  self._setitem_single_block(indexer, value, name)\n"
     ]
    }
   ],
   "source": [
    "for i in range(len(burns_merged)):\n",
    "    if (burns_merged.iloc[i]['pao2'] != -1) & (burns_merged.iloc[i]['fio2'] != -1):\n",
    "        if ((burns_merged.iloc[i]['pao2']/burns_merged.iloc[i]['fio2']) * 100 <= 399) & ((burns_merged.iloc[i]['pao2']/burns_merged.iloc[i]['fio2']) * 100 >= 300):\n",
    "            burns_merged['sofa_ratio'].iloc[i] = 1\n",
    "        if ((burns_merged.iloc[i]['pao2']/burns_merged.iloc[i]['fio2']) * 100 <= 299) & ((burns_merged.iloc[i]['pao2']/burns_merged.iloc[i]['fio2']) * 100 >= 200):\n",
    "            burns_merged['sofa_ratio'].iloc[i] = 2\n",
    "        if ((burns_merged.iloc[i]['pao2']/burns_merged.iloc[i]['fio2']) * 100 <= 199) & (burns_merged.iloc[i]['ventday1'] != 1):\n",
    "            burns_merged['sofa_ratio'].iloc[i] = 2\n",
    "        if ((burns_merged.iloc[i]['pao2']/burns_merged.iloc[i]['fio2']) * 100 >= 100) & ((burns_merged.iloc[i]['pao2']/burns_merged.iloc[i]['fio2']) * 100 <= 199) & (burns_merged.iloc[i]['ventday1'] == 1):\n",
    "            burns_merged['sofa_ratio'].iloc[i] = 3\n",
    "        if ((burns_merged.iloc[i]['pao2']/burns_merged.iloc[i]['fio2']) * 100 < 100) & (burns_merged.iloc[i]['ventday1'] == 1):\n",
    "            burns_merged['sofa_ratio'].iloc[i] = 4"
   ]
  },
  {
   "cell_type": "code",
   "execution_count": 7,
   "id": "4ab53d03",
   "metadata": {},
   "outputs": [],
   "source": [
    "def platelets(item):\n",
    "    temp = 0\n",
    "    if (item >= 100) & (item <= 149):\n",
    "        temp += 1\n",
    "    elif (50 <= item) & (item <= 99):\n",
    "        temp += 2\n",
    "    elif (20 <= item) & (item <= 49):\n",
    "        temp += 3\n",
    "    elif (20 > item):\n",
    "        temp += 4\n",
    "    return temp"
   ]
  },
  {
   "cell_type": "code",
   "execution_count": 8,
   "id": "1c8f1a6d",
   "metadata": {},
   "outputs": [],
   "source": [
    "burns_merged['sofa_platelets'] = burns_merged['platelets x 1000'].apply(platelets)"
   ]
  },
  {
   "cell_type": "code",
   "execution_count": 9,
   "id": "ae20a609",
   "metadata": {},
   "outputs": [],
   "source": [
    "burns_merged['GCS'] = burns_merged['eyes'] + burns_merged['motor'] + burns_merged['verbal']"
   ]
  },
  {
   "cell_type": "code",
   "execution_count": 10,
   "id": "0a6908ba",
   "metadata": {},
   "outputs": [],
   "source": [
    "def GCS(item):\n",
    "    temp = 0\n",
    "    if (item >= 13) & (item <= 14):\n",
    "        temp += 1\n",
    "    elif (10 <= item) & (item <= 12):\n",
    "        temp += 2\n",
    "    elif (6 <= item) & (item <= 9):\n",
    "        temp += 3\n",
    "    elif (6 > item):\n",
    "        temp += 4\n",
    "    return temp"
   ]
  },
  {
   "cell_type": "code",
   "execution_count": 11,
   "id": "3da4264a",
   "metadata": {},
   "outputs": [],
   "source": [
    "burns_merged['sofa_GCS'] = burns_merged['GCS'].apply(GCS)"
   ]
  },
  {
   "cell_type": "code",
   "execution_count": 12,
   "id": "9a8c836e",
   "metadata": {},
   "outputs": [],
   "source": [
    "apacheapsdvar = pd.read_csv('ApacheApsVar.csv.gz')"
   ]
  },
  {
   "cell_type": "code",
   "execution_count": 13,
   "id": "24e23004",
   "metadata": {},
   "outputs": [],
   "source": [
    "burns_merged_1 = pd.merge(apacheapsdvar[['patientunitstayid','bilirubin']], burns_merged, how='right', on='patientunitstayid')"
   ]
  },
  {
   "cell_type": "code",
   "execution_count": 14,
   "id": "a9471226",
   "metadata": {},
   "outputs": [],
   "source": [
    "def bilirubin(item):\n",
    "    temp = 0\n",
    "    if (item >= 1.2) & (item <= 1.9):\n",
    "        temp += 1\n",
    "    elif (2 <= item) & (item <= 5.9):\n",
    "        temp += 2\n",
    "    elif (6 <= item) & (item <= 11.9):\n",
    "        temp += 3\n",
    "    elif (12 <= item):\n",
    "        temp += 4\n",
    "    return temp"
   ]
  },
  {
   "cell_type": "code",
   "execution_count": 15,
   "id": "3e849b4c",
   "metadata": {},
   "outputs": [],
   "source": [
    "burns_merged_1['sofa_bilirubin'] = burns_merged_1['bilirubin'].apply(bilirubin)"
   ]
  },
  {
   "cell_type": "code",
   "execution_count": 16,
   "id": "1d3e9bc9",
   "metadata": {},
   "outputs": [],
   "source": [
    "def meanbp(item):\n",
    "    temp = 0\n",
    "    if (item < 70):\n",
    "        temp += 1\n",
    "    return temp"
   ]
  },
  {
   "cell_type": "code",
   "execution_count": 17,
   "id": "7330d678",
   "metadata": {},
   "outputs": [],
   "source": [
    "burns_merged_1['sofa_meanbp'] = burns_merged_1['meanbp'].apply(meanbp)"
   ]
  },
  {
   "cell_type": "code",
   "execution_count": 18,
   "id": "8d9f4c7f",
   "metadata": {},
   "outputs": [
    {
     "data": {
      "text/plain": [
       "1.2628464713370715"
      ]
     },
     "execution_count": 18,
     "metadata": {},
     "output_type": "execute_result"
    }
   ],
   "source": [
    "burns_merged_1['creatinine'].mean()"
   ]
  },
  {
   "cell_type": "code",
   "execution_count": 19,
   "id": "6959c23a",
   "metadata": {},
   "outputs": [],
   "source": [
    "apacheapsdvar = pd.read_csv('ApacheApsVar.csv.gz')"
   ]
  },
  {
   "cell_type": "code",
   "execution_count": 20,
   "id": "ea227dd4",
   "metadata": {},
   "outputs": [],
   "source": [
    "burns_merged_2 = pd.merge(apacheapsdvar[['patientunitstayid','urine']], burns_merged_1, how='right', on='patientunitstayid')"
   ]
  },
  {
   "cell_type": "code",
   "execution_count": 21,
   "id": "4e218a6e",
   "metadata": {},
   "outputs": [],
   "source": [
    "burns_merged_2['sofa_creatinine_urine'] = 0"
   ]
  },
  {
   "cell_type": "code",
   "execution_count": 22,
   "id": "d9e09452",
   "metadata": {},
   "outputs": [],
   "source": [
    "for i in range(len(burns_merged_2)):\n",
    "    if (burns_merged_2['creatinine'].iloc[i] >= 1.2) & (burns_merged_2['creatinine'].iloc[i] <= 1.9):\n",
    "        burns_merged_2['sofa_creatinine_urine'].iloc[i] = 1\n",
    "    elif (burns_merged_2['creatinine'].iloc[i] >= 2) & (burns_merged_2['creatinine'].iloc[i] <= 3.4):\n",
    "        burns_merged_2['sofa_creatinine_urine'].iloc[i] = 2\n",
    "    elif ((burns_merged_2['creatinine'].iloc[i] >= 3.5) & (burns_merged_2['creatinine'].iloc[i] <= 4.9)) | ((burns_merged_2['urine'].iloc[i] < 500) & (burns_merged_2['urine'].iloc[i] != -1)):\n",
    "        burns_merged_2['sofa_creatinine_urine'].iloc[i] = 3\n",
    "    elif (burns_merged_2['creatinine'].iloc[i] >= 5) | ((burns_merged_2['urine'].iloc[i] < 200) & (burns_merged_2['urine'].iloc[i] != -1)):\n",
    "        burns_merged_2['sofa_creatinine_urine'].iloc[i] = 4"
   ]
  },
  {
   "cell_type": "code",
   "execution_count": 23,
   "id": "559a80d0",
   "metadata": {},
   "outputs": [],
   "source": [
    "burns_merged_2['sofa'] = burns_merged_2[['sofa_ratio', 'sofa_platelets', 'sofa_GCS', 'sofa_bilirubin',\n",
    "       'sofa_meanbp', 'sofa_creatinine_urine']].sum(axis=1)"
   ]
  },
  {
   "cell_type": "code",
   "execution_count": 24,
   "id": "e40ce06d",
   "metadata": {},
   "outputs": [],
   "source": [
    "def sofa_mortality(item):\n",
    "    if (0 <= item) & (item <=1):\n",
    "        return 0\n",
    "    elif (2 <= item) & (item <=3):\n",
    "        return 1.5\n",
    "    elif (4 <= item) & (item <=5):\n",
    "        return 6.7\n",
    "    elif (6 <= item) & (item <=7):\n",
    "        return 18.2\n",
    "    elif (8 <= item) & (item <=9):\n",
    "        return 26.3\n",
    "    elif (10 <= item) & (item <=11):\n",
    "        return 45.8\n",
    "    elif (12 <= item) & (item <=14):\n",
    "        return 80\n",
    "    elif (14 < item):\n",
    "        return 89.7"
   ]
  },
  {
   "cell_type": "code",
   "execution_count": 25,
   "id": "7ba63579",
   "metadata": {},
   "outputs": [],
   "source": [
    "burns_merged_2['sofa_mortality'] = burns_merged_2['sofa'].apply(sofa_mortality)"
   ]
  },
  {
   "cell_type": "code",
   "execution_count": 26,
   "id": "63b1b8d3",
   "metadata": {},
   "outputs": [
    {
     "data": {
      "text/html": [
       "<div>\n",
       "<style scoped>\n",
       "    .dataframe tbody tr th:only-of-type {\n",
       "        vertical-align: middle;\n",
       "    }\n",
       "\n",
       "    .dataframe tbody tr th {\n",
       "        vertical-align: top;\n",
       "    }\n",
       "\n",
       "    .dataframe thead th {\n",
       "        text-align: right;\n",
       "    }\n",
       "</style>\n",
       "<table border=\"1\" class=\"dataframe\">\n",
       "  <thead>\n",
       "    <tr style=\"text-align: right;\">\n",
       "      <th></th>\n",
       "      <th>patientunitstayid</th>\n",
       "      <th>urine</th>\n",
       "      <th>bilirubin</th>\n",
       "      <th>pao2</th>\n",
       "      <th>fio2</th>\n",
       "      <th>gender</th>\n",
       "      <th>age</th>\n",
       "      <th>ethnicity</th>\n",
       "      <th>apacheadmissiondx</th>\n",
       "      <th>admissionheight</th>\n",
       "      <th>...</th>\n",
       "      <th>anion gap</th>\n",
       "      <th>sofa_ratio</th>\n",
       "      <th>sofa_platelets</th>\n",
       "      <th>GCS</th>\n",
       "      <th>sofa_GCS</th>\n",
       "      <th>sofa_bilirubin</th>\n",
       "      <th>sofa_meanbp</th>\n",
       "      <th>sofa_creatinine_urine</th>\n",
       "      <th>sofa</th>\n",
       "      <th>sofa_mortality</th>\n",
       "    </tr>\n",
       "  </thead>\n",
       "  <tbody>\n",
       "    <tr>\n",
       "      <th>0</th>\n",
       "      <td>142476</td>\n",
       "      <td>-1.0000</td>\n",
       "      <td>-1.0</td>\n",
       "      <td>-1.0</td>\n",
       "      <td>-1.0</td>\n",
       "      <td>Male</td>\n",
       "      <td>78</td>\n",
       "      <td>Caucasian</td>\n",
       "      <td>Knee replacement, total (non-traumatic)</td>\n",
       "      <td>175.3</td>\n",
       "      <td>...</td>\n",
       "      <td>9.733549</td>\n",
       "      <td>0</td>\n",
       "      <td>0</td>\n",
       "      <td>15.0</td>\n",
       "      <td>0</td>\n",
       "      <td>0</td>\n",
       "      <td>0</td>\n",
       "      <td>1</td>\n",
       "      <td>1</td>\n",
       "      <td>0.0</td>\n",
       "    </tr>\n",
       "    <tr>\n",
       "      <th>1</th>\n",
       "      <td>143274</td>\n",
       "      <td>-1.0000</td>\n",
       "      <td>-1.0</td>\n",
       "      <td>-1.0</td>\n",
       "      <td>-1.0</td>\n",
       "      <td>Male</td>\n",
       "      <td>22</td>\n",
       "      <td>Caucasian</td>\n",
       "      <td>Head/extremity trauma</td>\n",
       "      <td>195.6</td>\n",
       "      <td>...</td>\n",
       "      <td>11.500000</td>\n",
       "      <td>0</td>\n",
       "      <td>0</td>\n",
       "      <td>13.0</td>\n",
       "      <td>1</td>\n",
       "      <td>0</td>\n",
       "      <td>0</td>\n",
       "      <td>1</td>\n",
       "      <td>2</td>\n",
       "      <td>1.5</td>\n",
       "    </tr>\n",
       "    <tr>\n",
       "      <th>2</th>\n",
       "      <td>143573</td>\n",
       "      <td>-1.0000</td>\n",
       "      <td>0.3</td>\n",
       "      <td>-1.0</td>\n",
       "      <td>-1.0</td>\n",
       "      <td>Male</td>\n",
       "      <td>80</td>\n",
       "      <td>Caucasian</td>\n",
       "      <td>Hip replacement, total (non-traumatic)</td>\n",
       "      <td>175.2</td>\n",
       "      <td>...</td>\n",
       "      <td>15.000000</td>\n",
       "      <td>0</td>\n",
       "      <td>0</td>\n",
       "      <td>15.0</td>\n",
       "      <td>0</td>\n",
       "      <td>0</td>\n",
       "      <td>0</td>\n",
       "      <td>2</td>\n",
       "      <td>2</td>\n",
       "      <td>1.5</td>\n",
       "    </tr>\n",
       "    <tr>\n",
       "      <th>3</th>\n",
       "      <td>144173</td>\n",
       "      <td>-1.0000</td>\n",
       "      <td>0.7</td>\n",
       "      <td>46.0</td>\n",
       "      <td>50.0</td>\n",
       "      <td>Female</td>\n",
       "      <td>40</td>\n",
       "      <td>Asian</td>\n",
       "      <td>Genitourinary surgery, other</td>\n",
       "      <td>154.9</td>\n",
       "      <td>...</td>\n",
       "      <td>20.750000</td>\n",
       "      <td>4</td>\n",
       "      <td>1</td>\n",
       "      <td>15.0</td>\n",
       "      <td>0</td>\n",
       "      <td>0</td>\n",
       "      <td>1</td>\n",
       "      <td>1</td>\n",
       "      <td>7</td>\n",
       "      <td>18.2</td>\n",
       "    </tr>\n",
       "    <tr>\n",
       "      <th>4</th>\n",
       "      <td>144275</td>\n",
       "      <td>-1.0000</td>\n",
       "      <td>-1.0</td>\n",
       "      <td>-1.0</td>\n",
       "      <td>-1.0</td>\n",
       "      <td>Male</td>\n",
       "      <td>66</td>\n",
       "      <td>Caucasian</td>\n",
       "      <td>Aneurysm/pseudoaneurysm, other</td>\n",
       "      <td>167.6</td>\n",
       "      <td>...</td>\n",
       "      <td>9.733549</td>\n",
       "      <td>0</td>\n",
       "      <td>0</td>\n",
       "      <td>15.0</td>\n",
       "      <td>0</td>\n",
       "      <td>0</td>\n",
       "      <td>0</td>\n",
       "      <td>1</td>\n",
       "      <td>1</td>\n",
       "      <td>0.0</td>\n",
       "    </tr>\n",
       "    <tr>\n",
       "      <th>...</th>\n",
       "      <td>...</td>\n",
       "      <td>...</td>\n",
       "      <td>...</td>\n",
       "      <td>...</td>\n",
       "      <td>...</td>\n",
       "      <td>...</td>\n",
       "      <td>...</td>\n",
       "      <td>...</td>\n",
       "      <td>...</td>\n",
       "      <td>...</td>\n",
       "      <td>...</td>\n",
       "      <td>...</td>\n",
       "      <td>...</td>\n",
       "      <td>...</td>\n",
       "      <td>...</td>\n",
       "      <td>...</td>\n",
       "      <td>...</td>\n",
       "      <td>...</td>\n",
       "      <td>...</td>\n",
       "      <td>...</td>\n",
       "      <td>...</td>\n",
       "    </tr>\n",
       "    <tr>\n",
       "      <th>2650</th>\n",
       "      <td>3351763</td>\n",
       "      <td>3344.5440</td>\n",
       "      <td>0.4</td>\n",
       "      <td>104.0</td>\n",
       "      <td>60.0</td>\n",
       "      <td>Female</td>\n",
       "      <td>62</td>\n",
       "      <td>Caucasian</td>\n",
       "      <td>Fistula/abscess, surgery for (not inflammatory...</td>\n",
       "      <td>165.1</td>\n",
       "      <td>...</td>\n",
       "      <td>9.000000</td>\n",
       "      <td>3</td>\n",
       "      <td>0</td>\n",
       "      <td>10.0</td>\n",
       "      <td>2</td>\n",
       "      <td>0</td>\n",
       "      <td>1</td>\n",
       "      <td>0</td>\n",
       "      <td>6</td>\n",
       "      <td>18.2</td>\n",
       "    </tr>\n",
       "    <tr>\n",
       "      <th>2651</th>\n",
       "      <td>3352092</td>\n",
       "      <td>2220.9984</td>\n",
       "      <td>1.6</td>\n",
       "      <td>-1.0</td>\n",
       "      <td>-1.0</td>\n",
       "      <td>Male</td>\n",
       "      <td>64</td>\n",
       "      <td>Caucasian</td>\n",
       "      <td>Vascular surgery, other</td>\n",
       "      <td>160.0</td>\n",
       "      <td>...</td>\n",
       "      <td>3.000000</td>\n",
       "      <td>0</td>\n",
       "      <td>2</td>\n",
       "      <td>15.0</td>\n",
       "      <td>0</td>\n",
       "      <td>1</td>\n",
       "      <td>0</td>\n",
       "      <td>0</td>\n",
       "      <td>3</td>\n",
       "      <td>1.5</td>\n",
       "    </tr>\n",
       "    <tr>\n",
       "      <th>2652</th>\n",
       "      <td>3352757</td>\n",
       "      <td>823.1328</td>\n",
       "      <td>-1.0</td>\n",
       "      <td>-1.0</td>\n",
       "      <td>-1.0</td>\n",
       "      <td>Female</td>\n",
       "      <td>64</td>\n",
       "      <td>Caucasian</td>\n",
       "      <td>Complications of prev. peripheral vasc. surger...</td>\n",
       "      <td>162.6</td>\n",
       "      <td>...</td>\n",
       "      <td>6.000000</td>\n",
       "      <td>0</td>\n",
       "      <td>0</td>\n",
       "      <td>15.0</td>\n",
       "      <td>0</td>\n",
       "      <td>0</td>\n",
       "      <td>0</td>\n",
       "      <td>0</td>\n",
       "      <td>0</td>\n",
       "      <td>0.0</td>\n",
       "    </tr>\n",
       "    <tr>\n",
       "      <th>2653</th>\n",
       "      <td>3353043</td>\n",
       "      <td>1977.9552</td>\n",
       "      <td>-1.0</td>\n",
       "      <td>78.0</td>\n",
       "      <td>28.0</td>\n",
       "      <td>Female</td>\n",
       "      <td>27</td>\n",
       "      <td>African American</td>\n",
       "      <td>Cesarean section</td>\n",
       "      <td>165.1</td>\n",
       "      <td>...</td>\n",
       "      <td>9.733549</td>\n",
       "      <td>2</td>\n",
       "      <td>0</td>\n",
       "      <td>15.0</td>\n",
       "      <td>0</td>\n",
       "      <td>0</td>\n",
       "      <td>0</td>\n",
       "      <td>1</td>\n",
       "      <td>3</td>\n",
       "      <td>1.5</td>\n",
       "    </tr>\n",
       "    <tr>\n",
       "      <th>2654</th>\n",
       "      <td>3353044</td>\n",
       "      <td>1169.8560</td>\n",
       "      <td>-1.0</td>\n",
       "      <td>-1.0</td>\n",
       "      <td>-1.0</td>\n",
       "      <td>Male</td>\n",
       "      <td>52</td>\n",
       "      <td>Caucasian</td>\n",
       "      <td>Drug withdrawal</td>\n",
       "      <td>175.0</td>\n",
       "      <td>...</td>\n",
       "      <td>9.000000</td>\n",
       "      <td>0</td>\n",
       "      <td>0</td>\n",
       "      <td>14.0</td>\n",
       "      <td>1</td>\n",
       "      <td>0</td>\n",
       "      <td>0</td>\n",
       "      <td>0</td>\n",
       "      <td>1</td>\n",
       "      <td>0.0</td>\n",
       "    </tr>\n",
       "  </tbody>\n",
       "</table>\n",
       "<p>2655 rows × 70 columns</p>\n",
       "</div>"
      ],
      "text/plain": [
       "      patientunitstayid      urine  bilirubin   pao2  fio2  gender  age  \\\n",
       "0                142476    -1.0000       -1.0   -1.0  -1.0    Male   78   \n",
       "1                143274    -1.0000       -1.0   -1.0  -1.0    Male   22   \n",
       "2                143573    -1.0000        0.3   -1.0  -1.0    Male   80   \n",
       "3                144173    -1.0000        0.7   46.0  50.0  Female   40   \n",
       "4                144275    -1.0000       -1.0   -1.0  -1.0    Male   66   \n",
       "...                 ...        ...        ...    ...   ...     ...  ...   \n",
       "2650            3351763  3344.5440        0.4  104.0  60.0  Female   62   \n",
       "2651            3352092  2220.9984        1.6   -1.0  -1.0    Male   64   \n",
       "2652            3352757   823.1328       -1.0   -1.0  -1.0  Female   64   \n",
       "2653            3353043  1977.9552       -1.0   78.0  28.0  Female   27   \n",
       "2654            3353044  1169.8560       -1.0   -1.0  -1.0    Male   52   \n",
       "\n",
       "             ethnicity                                  apacheadmissiondx  \\\n",
       "0            Caucasian            Knee replacement, total (non-traumatic)   \n",
       "1            Caucasian                              Head/extremity trauma   \n",
       "2            Caucasian             Hip replacement, total (non-traumatic)   \n",
       "3                Asian                       Genitourinary surgery, other   \n",
       "4            Caucasian                     Aneurysm/pseudoaneurysm, other   \n",
       "...                ...                                                ...   \n",
       "2650         Caucasian  Fistula/abscess, surgery for (not inflammatory...   \n",
       "2651         Caucasian                            Vascular surgery, other   \n",
       "2652         Caucasian  Complications of prev. peripheral vasc. surger...   \n",
       "2653  African American                                   Cesarean section   \n",
       "2654         Caucasian                                    Drug withdrawal   \n",
       "\n",
       "      admissionheight  ...  anion gap sofa_ratio sofa_platelets   GCS  \\\n",
       "0               175.3  ...   9.733549          0              0  15.0   \n",
       "1               195.6  ...  11.500000          0              0  13.0   \n",
       "2               175.2  ...  15.000000          0              0  15.0   \n",
       "3               154.9  ...  20.750000          4              1  15.0   \n",
       "4               167.6  ...   9.733549          0              0  15.0   \n",
       "...               ...  ...        ...        ...            ...   ...   \n",
       "2650            165.1  ...   9.000000          3              0  10.0   \n",
       "2651            160.0  ...   3.000000          0              2  15.0   \n",
       "2652            162.6  ...   6.000000          0              0  15.0   \n",
       "2653            165.1  ...   9.733549          2              0  15.0   \n",
       "2654            175.0  ...   9.000000          0              0  14.0   \n",
       "\n",
       "      sofa_GCS  sofa_bilirubin  sofa_meanbp  sofa_creatinine_urine  sofa  \\\n",
       "0            0               0            0                      1     1   \n",
       "1            1               0            0                      1     2   \n",
       "2            0               0            0                      2     2   \n",
       "3            0               0            1                      1     7   \n",
       "4            0               0            0                      1     1   \n",
       "...        ...             ...          ...                    ...   ...   \n",
       "2650         2               0            1                      0     6   \n",
       "2651         0               1            0                      0     3   \n",
       "2652         0               0            0                      0     0   \n",
       "2653         0               0            0                      1     3   \n",
       "2654         1               0            0                      0     1   \n",
       "\n",
       "      sofa_mortality  \n",
       "0                0.0  \n",
       "1                1.5  \n",
       "2                1.5  \n",
       "3               18.2  \n",
       "4                0.0  \n",
       "...              ...  \n",
       "2650            18.2  \n",
       "2651             1.5  \n",
       "2652             0.0  \n",
       "2653             1.5  \n",
       "2654             0.0  \n",
       "\n",
       "[2655 rows x 70 columns]"
      ]
     },
     "execution_count": 26,
     "metadata": {},
     "output_type": "execute_result"
    }
   ],
   "source": [
    "burns_merged_2"
   ]
  },
  {
   "cell_type": "code",
   "execution_count": 27,
   "id": "be4efa0c",
   "metadata": {},
   "outputs": [],
   "source": [
    "burns_merged_2['actualicumortality_label'] = burns_merged_2['actualicumortality'].apply(lambda x: 1 if x =='EXPIRED' else 0)"
   ]
  },
  {
   "cell_type": "code",
   "execution_count": 28,
   "id": "1088a23c",
   "metadata": {},
   "outputs": [],
   "source": [
    "fpr, tpr, thresholds = metrics.roc_curve(burns_merged_2['actualicumortality_label'].values, burns_merged_2['sofa_mortality'].values, pos_label=1)"
   ]
  },
  {
   "cell_type": "code",
   "execution_count": 29,
   "id": "b68c1972",
   "metadata": {},
   "outputs": [
    {
     "data": {
      "text/plain": [
       "0.7718807932138644"
      ]
     },
     "execution_count": 29,
     "metadata": {},
     "output_type": "execute_result"
    }
   ],
   "source": [
    "metrics.auc(fpr, tpr)"
   ]
  },
  {
   "cell_type": "code",
   "execution_count": null,
   "id": "fe7a7149",
   "metadata": {},
   "outputs": [],
   "source": []
  }
 ],
 "metadata": {
  "kernelspec": {
   "display_name": "Python 3",
   "language": "python",
   "name": "python3"
  },
  "language_info": {
   "codemirror_mode": {
    "name": "ipython",
    "version": 3
   },
   "file_extension": ".py",
   "mimetype": "text/x-python",
   "name": "python",
   "nbconvert_exporter": "python",
   "pygments_lexer": "ipython3",
   "version": "3.7.0"
  }
 },
 "nbformat": 4,
 "nbformat_minor": 5
}
