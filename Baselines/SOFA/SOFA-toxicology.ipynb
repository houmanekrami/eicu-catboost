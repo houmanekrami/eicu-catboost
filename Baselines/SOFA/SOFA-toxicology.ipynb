{
 "cells": [
  {
   "cell_type": "code",
   "execution_count": 1,
   "id": "3e3f702e",
   "metadata": {},
   "outputs": [],
   "source": [
    "import pandas as pd\n",
    "import numpy as np\n",
    "from sklearn import metrics"
   ]
  },
  {
   "cell_type": "code",
   "execution_count": 2,
   "id": "5e8e51f8",
   "metadata": {},
   "outputs": [],
   "source": [
    "burns=pd.read_csv(\"data2/toxicology.csv\")"
   ]
  },
  {
   "cell_type": "code",
   "execution_count": 3,
   "id": "66e12dd5",
   "metadata": {},
   "outputs": [],
   "source": [
    "apachepredvar = pd.read_csv('apachePredVar.csv.gz')"
   ]
  },
  {
   "cell_type": "code",
   "execution_count": 4,
   "id": "f90a88da",
   "metadata": {},
   "outputs": [],
   "source": [
    "burns_merged = pd.merge(apachepredvar[['patientunitstayid','pao2','fio2']], burns, how='right', on='patientunitstayid')"
   ]
  },
  {
   "cell_type": "code",
   "execution_count": 5,
   "id": "9ba06321",
   "metadata": {},
   "outputs": [],
   "source": [
    "burns_merged['sofa_ratio'] = 0"
   ]
  },
  {
   "cell_type": "code",
   "execution_count": 6,
   "id": "d1faba22",
   "metadata": {},
   "outputs": [
    {
     "name": "stderr",
     "output_type": "stream",
     "text": [
      "C:\\Users\\nsafa\\Anaconda3\\lib\\site-packages\\pandas\\core\\indexing.py:1637: SettingWithCopyWarning: \n",
      "A value is trying to be set on a copy of a slice from a DataFrame\n",
      "\n",
      "See the caveats in the documentation: https://pandas.pydata.org/pandas-docs/stable/user_guide/indexing.html#returning-a-view-versus-a-copy\n",
      "  self._setitem_single_block(indexer, value, name)\n"
     ]
    }
   ],
   "source": [
    "for i in range(len(burns_merged)):\n",
    "    if (burns_merged.iloc[i]['pao2'] != -1) & (burns_merged.iloc[i]['fio2'] != -1):\n",
    "        if ((burns_merged.iloc[i]['pao2']/burns_merged.iloc[i]['fio2']) * 100 <= 399) & ((burns_merged.iloc[i]['pao2']/burns_merged.iloc[i]['fio2']) * 100 >= 300):\n",
    "            burns_merged['sofa_ratio'].iloc[i] = 1\n",
    "        if ((burns_merged.iloc[i]['pao2']/burns_merged.iloc[i]['fio2']) * 100 <= 299) & ((burns_merged.iloc[i]['pao2']/burns_merged.iloc[i]['fio2']) * 100 >= 200):\n",
    "            burns_merged['sofa_ratio'].iloc[i] = 2\n",
    "        if ((burns_merged.iloc[i]['pao2']/burns_merged.iloc[i]['fio2']) * 100 <= 199) & (burns_merged.iloc[i]['ventday1'] != 1):\n",
    "            burns_merged['sofa_ratio'].iloc[i] = 2\n",
    "        if ((burns_merged.iloc[i]['pao2']/burns_merged.iloc[i]['fio2']) * 100 >= 100) & ((burns_merged.iloc[i]['pao2']/burns_merged.iloc[i]['fio2']) * 100 <= 199) & (burns_merged.iloc[i]['ventday1'] == 1):\n",
    "            burns_merged['sofa_ratio'].iloc[i] = 3\n",
    "        if ((burns_merged.iloc[i]['pao2']/burns_merged.iloc[i]['fio2']) * 100 < 100) & (burns_merged.iloc[i]['ventday1'] == 1):\n",
    "            burns_merged['sofa_ratio'].iloc[i] = 4"
   ]
  },
  {
   "cell_type": "code",
   "execution_count": 7,
   "id": "4ab53d03",
   "metadata": {},
   "outputs": [],
   "source": [
    "def platelets(item):\n",
    "    temp = 0\n",
    "    if (item >= 100) & (item <= 149):\n",
    "        temp += 1\n",
    "    elif (50 <= item) & (item <= 99):\n",
    "        temp += 2\n",
    "    elif (20 <= item) & (item <= 49):\n",
    "        temp += 3\n",
    "    elif (20 > item):\n",
    "        temp += 4\n",
    "    return temp"
   ]
  },
  {
   "cell_type": "code",
   "execution_count": 8,
   "id": "1c8f1a6d",
   "metadata": {},
   "outputs": [],
   "source": [
    "burns_merged['sofa_platelets'] = burns_merged['platelets x 1000'].apply(platelets)"
   ]
  },
  {
   "cell_type": "code",
   "execution_count": 9,
   "id": "ae20a609",
   "metadata": {},
   "outputs": [],
   "source": [
    "burns_merged['GCS'] = burns_merged['eyes'] + burns_merged['motor'] + burns_merged['verbal']"
   ]
  },
  {
   "cell_type": "code",
   "execution_count": 10,
   "id": "0a6908ba",
   "metadata": {},
   "outputs": [],
   "source": [
    "def GCS(item):\n",
    "    temp = 0\n",
    "    if (item >= 13) & (item <= 14):\n",
    "        temp += 1\n",
    "    elif (10 <= item) & (item <= 12):\n",
    "        temp += 2\n",
    "    elif (6 <= item) & (item <= 9):\n",
    "        temp += 3\n",
    "    elif (6 > item):\n",
    "        temp += 4\n",
    "    return temp"
   ]
  },
  {
   "cell_type": "code",
   "execution_count": 11,
   "id": "3da4264a",
   "metadata": {},
   "outputs": [],
   "source": [
    "burns_merged['sofa_GCS'] = burns_merged['GCS'].apply(GCS)"
   ]
  },
  {
   "cell_type": "code",
   "execution_count": 12,
   "id": "9a8c836e",
   "metadata": {},
   "outputs": [],
   "source": [
    "apacheapsdvar = pd.read_csv('ApacheApsVar.csv.gz')"
   ]
  },
  {
   "cell_type": "code",
   "execution_count": 13,
   "id": "24e23004",
   "metadata": {},
   "outputs": [],
   "source": [
    "burns_merged_1 = pd.merge(apacheapsdvar[['patientunitstayid','bilirubin']], burns_merged, how='right', on='patientunitstayid')"
   ]
  },
  {
   "cell_type": "code",
   "execution_count": 14,
   "id": "a9471226",
   "metadata": {},
   "outputs": [],
   "source": [
    "def bilirubin(item):\n",
    "    temp = 0\n",
    "    if (item >= 1.2) & (item <= 1.9):\n",
    "        temp += 1\n",
    "    elif (2 <= item) & (item <= 5.9):\n",
    "        temp += 2\n",
    "    elif (6 <= item) & (item <= 11.9):\n",
    "        temp += 3\n",
    "    elif (12 <= item):\n",
    "        temp += 4\n",
    "    return temp"
   ]
  },
  {
   "cell_type": "code",
   "execution_count": 15,
   "id": "3e849b4c",
   "metadata": {},
   "outputs": [],
   "source": [
    "burns_merged_1['sofa_bilirubin'] = burns_merged_1['bilirubin'].apply(bilirubin)"
   ]
  },
  {
   "cell_type": "code",
   "execution_count": 16,
   "id": "1d3e9bc9",
   "metadata": {},
   "outputs": [],
   "source": [
    "def meanbp(item):\n",
    "    temp = 0\n",
    "    if (item < 70):\n",
    "        temp += 1\n",
    "    return temp"
   ]
  },
  {
   "cell_type": "code",
   "execution_count": 17,
   "id": "7330d678",
   "metadata": {},
   "outputs": [],
   "source": [
    "burns_merged_1['sofa_meanbp'] = burns_merged_1['meanbp'].apply(meanbp)"
   ]
  },
  {
   "cell_type": "code",
   "execution_count": 18,
   "id": "8d9f4c7f",
   "metadata": {},
   "outputs": [
    {
     "data": {
      "text/plain": [
       "1.0184971482378138"
      ]
     },
     "execution_count": 18,
     "metadata": {},
     "output_type": "execute_result"
    }
   ],
   "source": [
    "burns_merged_1['creatinine'].mean()"
   ]
  },
  {
   "cell_type": "code",
   "execution_count": 19,
   "id": "6959c23a",
   "metadata": {},
   "outputs": [],
   "source": [
    "apacheapsdvar = pd.read_csv('ApacheApsVar.csv.gz')"
   ]
  },
  {
   "cell_type": "code",
   "execution_count": 20,
   "id": "ea227dd4",
   "metadata": {},
   "outputs": [],
   "source": [
    "burns_merged_2 = pd.merge(apacheapsdvar[['patientunitstayid','urine']], burns_merged_1, how='right', on='patientunitstayid')"
   ]
  },
  {
   "cell_type": "code",
   "execution_count": 21,
   "id": "4e218a6e",
   "metadata": {},
   "outputs": [],
   "source": [
    "burns_merged_2['sofa_creatinine_urine'] = 0"
   ]
  },
  {
   "cell_type": "code",
   "execution_count": 22,
   "id": "d9e09452",
   "metadata": {},
   "outputs": [],
   "source": [
    "for i in range(len(burns_merged_2)):\n",
    "    if (burns_merged_2['creatinine'].iloc[i] >= 1.2) & (burns_merged_2['creatinine'].iloc[i] <= 1.9):\n",
    "        burns_merged_2['sofa_creatinine_urine'].iloc[i] = 1\n",
    "    elif (burns_merged_2['creatinine'].iloc[i] >= 2) & (burns_merged_2['creatinine'].iloc[i] <= 3.4):\n",
    "        burns_merged_2['sofa_creatinine_urine'].iloc[i] = 2\n",
    "    elif ((burns_merged_2['creatinine'].iloc[i] >= 3.5) & (burns_merged_2['creatinine'].iloc[i] <= 4.9)) | ((burns_merged_2['urine'].iloc[i] < 500) & (burns_merged_2['urine'].iloc[i] != -1)):\n",
    "        burns_merged_2['sofa_creatinine_urine'].iloc[i] = 3\n",
    "    elif (burns_merged_2['creatinine'].iloc[i] >= 5) | ((burns_merged_2['urine'].iloc[i] < 200) & (burns_merged_2['urine'].iloc[i] != -1)):\n",
    "        burns_merged_2['sofa_creatinine_urine'].iloc[i] = 4"
   ]
  },
  {
   "cell_type": "code",
   "execution_count": 23,
   "id": "559a80d0",
   "metadata": {},
   "outputs": [],
   "source": [
    "burns_merged_2['sofa'] = burns_merged_2[['sofa_ratio', 'sofa_platelets', 'sofa_GCS', 'sofa_bilirubin',\n",
    "       'sofa_meanbp', 'sofa_creatinine_urine']].sum(axis=1)"
   ]
  },
  {
   "cell_type": "code",
   "execution_count": 24,
   "id": "e40ce06d",
   "metadata": {},
   "outputs": [],
   "source": [
    "def sofa_mortality(item):\n",
    "    if (0 <= item) & (item <=1):\n",
    "        return 0\n",
    "    elif (2 <= item) & (item <=3):\n",
    "        return 1.5\n",
    "    elif (4 <= item) & (item <=5):\n",
    "        return 6.7\n",
    "    elif (6 <= item) & (item <=7):\n",
    "        return 18.2\n",
    "    elif (8 <= item) & (item <=9):\n",
    "        return 26.3\n",
    "    elif (10 <= item) & (item <=11):\n",
    "        return 45.8\n",
    "    elif (12 <= item) & (item <=14):\n",
    "        return 80\n",
    "    elif (14 < item):\n",
    "        return 89.7"
   ]
  },
  {
   "cell_type": "code",
   "execution_count": 25,
   "id": "7ba63579",
   "metadata": {},
   "outputs": [],
   "source": [
    "burns_merged_2['sofa_mortality'] = burns_merged_2['sofa'].apply(sofa_mortality)"
   ]
  },
  {
   "cell_type": "code",
   "execution_count": 26,
   "id": "63b1b8d3",
   "metadata": {},
   "outputs": [
    {
     "data": {
      "text/html": [
       "<div>\n",
       "<style scoped>\n",
       "    .dataframe tbody tr th:only-of-type {\n",
       "        vertical-align: middle;\n",
       "    }\n",
       "\n",
       "    .dataframe tbody tr th {\n",
       "        vertical-align: top;\n",
       "    }\n",
       "\n",
       "    .dataframe thead th {\n",
       "        text-align: right;\n",
       "    }\n",
       "</style>\n",
       "<table border=\"1\" class=\"dataframe\">\n",
       "  <thead>\n",
       "    <tr style=\"text-align: right;\">\n",
       "      <th></th>\n",
       "      <th>patientunitstayid</th>\n",
       "      <th>urine</th>\n",
       "      <th>bilirubin</th>\n",
       "      <th>pao2</th>\n",
       "      <th>fio2</th>\n",
       "      <th>gender</th>\n",
       "      <th>age</th>\n",
       "      <th>ethnicity</th>\n",
       "      <th>apacheadmissiondx</th>\n",
       "      <th>admissionheight</th>\n",
       "      <th>...</th>\n",
       "      <th>MCHC</th>\n",
       "      <th>sofa_ratio</th>\n",
       "      <th>sofa_platelets</th>\n",
       "      <th>GCS</th>\n",
       "      <th>sofa_GCS</th>\n",
       "      <th>sofa_bilirubin</th>\n",
       "      <th>sofa_meanbp</th>\n",
       "      <th>sofa_creatinine_urine</th>\n",
       "      <th>sofa</th>\n",
       "      <th>sofa_mortality</th>\n",
       "    </tr>\n",
       "  </thead>\n",
       "  <tbody>\n",
       "    <tr>\n",
       "      <th>0</th>\n",
       "      <td>142505</td>\n",
       "      <td>-1.0000</td>\n",
       "      <td>-1.0</td>\n",
       "      <td>-1.0</td>\n",
       "      <td>-1.0</td>\n",
       "      <td>Female</td>\n",
       "      <td>54</td>\n",
       "      <td>African American</td>\n",
       "      <td>Overdose, street drugs (opiates, cocaine, amph...</td>\n",
       "      <td>157.5</td>\n",
       "      <td>...</td>\n",
       "      <td>30.100000</td>\n",
       "      <td>0</td>\n",
       "      <td>0</td>\n",
       "      <td>10.000000</td>\n",
       "      <td>2</td>\n",
       "      <td>0</td>\n",
       "      <td>0</td>\n",
       "      <td>0</td>\n",
       "      <td>2</td>\n",
       "      <td>1.5</td>\n",
       "    </tr>\n",
       "    <tr>\n",
       "      <th>1</th>\n",
       "      <td>142974</td>\n",
       "      <td>-1.0000</td>\n",
       "      <td>-1.0</td>\n",
       "      <td>140.0</td>\n",
       "      <td>50.0</td>\n",
       "      <td>Female</td>\n",
       "      <td>54</td>\n",
       "      <td>African American</td>\n",
       "      <td>CVA, cerebrovascular accident/stroke</td>\n",
       "      <td>157.5</td>\n",
       "      <td>...</td>\n",
       "      <td>29.400000</td>\n",
       "      <td>2</td>\n",
       "      <td>0</td>\n",
       "      <td>12.000000</td>\n",
       "      <td>2</td>\n",
       "      <td>0</td>\n",
       "      <td>1</td>\n",
       "      <td>1</td>\n",
       "      <td>6</td>\n",
       "      <td>18.2</td>\n",
       "    </tr>\n",
       "    <tr>\n",
       "      <th>2</th>\n",
       "      <td>143103</td>\n",
       "      <td>-1.0000</td>\n",
       "      <td>0.3</td>\n",
       "      <td>346.0</td>\n",
       "      <td>100.0</td>\n",
       "      <td>Female</td>\n",
       "      <td>46</td>\n",
       "      <td>Asian</td>\n",
       "      <td>Head only trauma</td>\n",
       "      <td>167.6</td>\n",
       "      <td>...</td>\n",
       "      <td>35.400000</td>\n",
       "      <td>1</td>\n",
       "      <td>0</td>\n",
       "      <td>6.000000</td>\n",
       "      <td>3</td>\n",
       "      <td>0</td>\n",
       "      <td>0</td>\n",
       "      <td>0</td>\n",
       "      <td>4</td>\n",
       "      <td>6.7</td>\n",
       "    </tr>\n",
       "    <tr>\n",
       "      <th>3</th>\n",
       "      <td>143990</td>\n",
       "      <td>-1.0000</td>\n",
       "      <td>0.2</td>\n",
       "      <td>-1.0</td>\n",
       "      <td>-1.0</td>\n",
       "      <td>Female</td>\n",
       "      <td>28</td>\n",
       "      <td>Caucasian</td>\n",
       "      <td>Overdose, analgesic (aspirin, acetaminophen)</td>\n",
       "      <td>162.6</td>\n",
       "      <td>...</td>\n",
       "      <td>33.600000</td>\n",
       "      <td>0</td>\n",
       "      <td>0</td>\n",
       "      <td>15.000000</td>\n",
       "      <td>0</td>\n",
       "      <td>0</td>\n",
       "      <td>1</td>\n",
       "      <td>0</td>\n",
       "      <td>1</td>\n",
       "      <td>0.0</td>\n",
       "    </tr>\n",
       "    <tr>\n",
       "      <th>4</th>\n",
       "      <td>144427</td>\n",
       "      <td>-1.0000</td>\n",
       "      <td>0.6</td>\n",
       "      <td>-1.0</td>\n",
       "      <td>-1.0</td>\n",
       "      <td>Female</td>\n",
       "      <td>35</td>\n",
       "      <td>Caucasian</td>\n",
       "      <td>Overdose, street drugs (opiates, cocaine, amph...</td>\n",
       "      <td>173.0</td>\n",
       "      <td>...</td>\n",
       "      <td>33.000000</td>\n",
       "      <td>0</td>\n",
       "      <td>1</td>\n",
       "      <td>3.000000</td>\n",
       "      <td>4</td>\n",
       "      <td>0</td>\n",
       "      <td>0</td>\n",
       "      <td>0</td>\n",
       "      <td>5</td>\n",
       "      <td>6.7</td>\n",
       "    </tr>\n",
       "    <tr>\n",
       "      <th>...</th>\n",
       "      <td>...</td>\n",
       "      <td>...</td>\n",
       "      <td>...</td>\n",
       "      <td>...</td>\n",
       "      <td>...</td>\n",
       "      <td>...</td>\n",
       "      <td>...</td>\n",
       "      <td>...</td>\n",
       "      <td>...</td>\n",
       "      <td>...</td>\n",
       "      <td>...</td>\n",
       "      <td>...</td>\n",
       "      <td>...</td>\n",
       "      <td>...</td>\n",
       "      <td>...</td>\n",
       "      <td>...</td>\n",
       "      <td>...</td>\n",
       "      <td>...</td>\n",
       "      <td>...</td>\n",
       "      <td>...</td>\n",
       "      <td>...</td>\n",
       "    </tr>\n",
       "    <tr>\n",
       "      <th>4148</th>\n",
       "      <td>3351551</td>\n",
       "      <td>-1.0000</td>\n",
       "      <td>-1.0</td>\n",
       "      <td>-1.0</td>\n",
       "      <td>-1.0</td>\n",
       "      <td>Male</td>\n",
       "      <td>42</td>\n",
       "      <td>Caucasian</td>\n",
       "      <td>Overdose, sedatives, hypnotics, antipsychotics...</td>\n",
       "      <td>188.0</td>\n",
       "      <td>...</td>\n",
       "      <td>35.000000</td>\n",
       "      <td>0</td>\n",
       "      <td>0</td>\n",
       "      <td>15.000000</td>\n",
       "      <td>0</td>\n",
       "      <td>0</td>\n",
       "      <td>0</td>\n",
       "      <td>0</td>\n",
       "      <td>0</td>\n",
       "      <td>0.0</td>\n",
       "    </tr>\n",
       "    <tr>\n",
       "      <th>4149</th>\n",
       "      <td>3352119</td>\n",
       "      <td>1275.3504</td>\n",
       "      <td>0.6</td>\n",
       "      <td>304.0</td>\n",
       "      <td>100.0</td>\n",
       "      <td>Male</td>\n",
       "      <td>57</td>\n",
       "      <td>Caucasian</td>\n",
       "      <td>Overdose, sedatives, hypnotics, antipsychotics...</td>\n",
       "      <td>188.0</td>\n",
       "      <td>...</td>\n",
       "      <td>33.000000</td>\n",
       "      <td>1</td>\n",
       "      <td>0</td>\n",
       "      <td>13.000000</td>\n",
       "      <td>1</td>\n",
       "      <td>0</td>\n",
       "      <td>1</td>\n",
       "      <td>0</td>\n",
       "      <td>3</td>\n",
       "      <td>1.5</td>\n",
       "    </tr>\n",
       "    <tr>\n",
       "      <th>4150</th>\n",
       "      <td>3352193</td>\n",
       "      <td>-1.0000</td>\n",
       "      <td>-1.0</td>\n",
       "      <td>98.0</td>\n",
       "      <td>30.0</td>\n",
       "      <td>Female</td>\n",
       "      <td>19</td>\n",
       "      <td>Other/Unknown</td>\n",
       "      <td>Head/face trauma</td>\n",
       "      <td>157.5</td>\n",
       "      <td>...</td>\n",
       "      <td>33.395358</td>\n",
       "      <td>1</td>\n",
       "      <td>0</td>\n",
       "      <td>11.776014</td>\n",
       "      <td>2</td>\n",
       "      <td>0</td>\n",
       "      <td>1</td>\n",
       "      <td>0</td>\n",
       "      <td>4</td>\n",
       "      <td>6.7</td>\n",
       "    </tr>\n",
       "    <tr>\n",
       "      <th>4151</th>\n",
       "      <td>3352563</td>\n",
       "      <td>1348.6176</td>\n",
       "      <td>0.3</td>\n",
       "      <td>-1.0</td>\n",
       "      <td>-1.0</td>\n",
       "      <td>Female</td>\n",
       "      <td>34</td>\n",
       "      <td>Caucasian</td>\n",
       "      <td>Overdose, sedatives, hypnotics, antipsychotics...</td>\n",
       "      <td>172.7</td>\n",
       "      <td>...</td>\n",
       "      <td>31.000000</td>\n",
       "      <td>0</td>\n",
       "      <td>1</td>\n",
       "      <td>10.000000</td>\n",
       "      <td>2</td>\n",
       "      <td>0</td>\n",
       "      <td>0</td>\n",
       "      <td>0</td>\n",
       "      <td>3</td>\n",
       "      <td>1.5</td>\n",
       "    </tr>\n",
       "    <tr>\n",
       "      <th>4152</th>\n",
       "      <td>3353113</td>\n",
       "      <td>1724.2848</td>\n",
       "      <td>1.3</td>\n",
       "      <td>-1.0</td>\n",
       "      <td>-1.0</td>\n",
       "      <td>Male</td>\n",
       "      <td>50</td>\n",
       "      <td>Caucasian</td>\n",
       "      <td>Drug withdrawal</td>\n",
       "      <td>188.0</td>\n",
       "      <td>...</td>\n",
       "      <td>33.395358</td>\n",
       "      <td>0</td>\n",
       "      <td>0</td>\n",
       "      <td>15.000000</td>\n",
       "      <td>0</td>\n",
       "      <td>1</td>\n",
       "      <td>0</td>\n",
       "      <td>0</td>\n",
       "      <td>1</td>\n",
       "      <td>0.0</td>\n",
       "    </tr>\n",
       "  </tbody>\n",
       "</table>\n",
       "<p>4153 rows × 67 columns</p>\n",
       "</div>"
      ],
      "text/plain": [
       "      patientunitstayid      urine  bilirubin   pao2   fio2  gender  age  \\\n",
       "0                142505    -1.0000       -1.0   -1.0   -1.0  Female   54   \n",
       "1                142974    -1.0000       -1.0  140.0   50.0  Female   54   \n",
       "2                143103    -1.0000        0.3  346.0  100.0  Female   46   \n",
       "3                143990    -1.0000        0.2   -1.0   -1.0  Female   28   \n",
       "4                144427    -1.0000        0.6   -1.0   -1.0  Female   35   \n",
       "...                 ...        ...        ...    ...    ...     ...  ...   \n",
       "4148            3351551    -1.0000       -1.0   -1.0   -1.0    Male   42   \n",
       "4149            3352119  1275.3504        0.6  304.0  100.0    Male   57   \n",
       "4150            3352193    -1.0000       -1.0   98.0   30.0  Female   19   \n",
       "4151            3352563  1348.6176        0.3   -1.0   -1.0  Female   34   \n",
       "4152            3353113  1724.2848        1.3   -1.0   -1.0    Male   50   \n",
       "\n",
       "             ethnicity                                  apacheadmissiondx  \\\n",
       "0     African American  Overdose, street drugs (opiates, cocaine, amph...   \n",
       "1     African American               CVA, cerebrovascular accident/stroke   \n",
       "2                Asian                                   Head only trauma   \n",
       "3            Caucasian       Overdose, analgesic (aspirin, acetaminophen)   \n",
       "4            Caucasian  Overdose, street drugs (opiates, cocaine, amph...   \n",
       "...                ...                                                ...   \n",
       "4148         Caucasian  Overdose, sedatives, hypnotics, antipsychotics...   \n",
       "4149         Caucasian  Overdose, sedatives, hypnotics, antipsychotics...   \n",
       "4150     Other/Unknown                                   Head/face trauma   \n",
       "4151         Caucasian  Overdose, sedatives, hypnotics, antipsychotics...   \n",
       "4152         Caucasian                                    Drug withdrawal   \n",
       "\n",
       "      admissionheight  ...       MCHC sofa_ratio sofa_platelets        GCS  \\\n",
       "0               157.5  ...  30.100000          0              0  10.000000   \n",
       "1               157.5  ...  29.400000          2              0  12.000000   \n",
       "2               167.6  ...  35.400000          1              0   6.000000   \n",
       "3               162.6  ...  33.600000          0              0  15.000000   \n",
       "4               173.0  ...  33.000000          0              1   3.000000   \n",
       "...               ...  ...        ...        ...            ...        ...   \n",
       "4148            188.0  ...  35.000000          0              0  15.000000   \n",
       "4149            188.0  ...  33.000000          1              0  13.000000   \n",
       "4150            157.5  ...  33.395358          1              0  11.776014   \n",
       "4151            172.7  ...  31.000000          0              1  10.000000   \n",
       "4152            188.0  ...  33.395358          0              0  15.000000   \n",
       "\n",
       "      sofa_GCS  sofa_bilirubin  sofa_meanbp  sofa_creatinine_urine  sofa  \\\n",
       "0            2               0            0                      0     2   \n",
       "1            2               0            1                      1     6   \n",
       "2            3               0            0                      0     4   \n",
       "3            0               0            1                      0     1   \n",
       "4            4               0            0                      0     5   \n",
       "...        ...             ...          ...                    ...   ...   \n",
       "4148         0               0            0                      0     0   \n",
       "4149         1               0            1                      0     3   \n",
       "4150         2               0            1                      0     4   \n",
       "4151         2               0            0                      0     3   \n",
       "4152         0               1            0                      0     1   \n",
       "\n",
       "      sofa_mortality  \n",
       "0                1.5  \n",
       "1               18.2  \n",
       "2                6.7  \n",
       "3                0.0  \n",
       "4                6.7  \n",
       "...              ...  \n",
       "4148             0.0  \n",
       "4149             1.5  \n",
       "4150             6.7  \n",
       "4151             1.5  \n",
       "4152             0.0  \n",
       "\n",
       "[4153 rows x 67 columns]"
      ]
     },
     "execution_count": 26,
     "metadata": {},
     "output_type": "execute_result"
    }
   ],
   "source": [
    "burns_merged_2"
   ]
  },
  {
   "cell_type": "code",
   "execution_count": 27,
   "id": "be4efa0c",
   "metadata": {},
   "outputs": [],
   "source": [
    "burns_merged_2['actualicumortality_label'] = burns_merged_2['actualicumortality'].apply(lambda x: 1 if x =='EXPIRED' else 0)"
   ]
  },
  {
   "cell_type": "code",
   "execution_count": 28,
   "id": "1088a23c",
   "metadata": {},
   "outputs": [],
   "source": [
    "fpr, tpr, thresholds = metrics.roc_curve(burns_merged_2['actualicumortality_label'].values, burns_merged_2['sofa_mortality'].values, pos_label=1)"
   ]
  },
  {
   "cell_type": "code",
   "execution_count": 29,
   "id": "b68c1972",
   "metadata": {},
   "outputs": [
    {
     "data": {
      "text/plain": [
       "0.8490908564000232"
      ]
     },
     "execution_count": 29,
     "metadata": {},
     "output_type": "execute_result"
    }
   ],
   "source": [
    "metrics.auc(fpr, tpr)"
   ]
  },
  {
   "cell_type": "code",
   "execution_count": null,
   "id": "fe7a7149",
   "metadata": {},
   "outputs": [],
   "source": []
  }
 ],
 "metadata": {
  "kernelspec": {
   "display_name": "Python 3",
   "language": "python",
   "name": "python3"
  },
  "language_info": {
   "codemirror_mode": {
    "name": "ipython",
    "version": 3
   },
   "file_extension": ".py",
   "mimetype": "text/x-python",
   "name": "python",
   "nbconvert_exporter": "python",
   "pygments_lexer": "ipython3",
   "version": "3.7.0"
  }
 },
 "nbformat": 4,
 "nbformat_minor": 5
}
