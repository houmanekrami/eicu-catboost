{
 "cells": [
  {
   "cell_type": "code",
   "execution_count": 1,
   "id": "5c279948",
   "metadata": {},
   "outputs": [],
   "source": [
    "import pandas as pd\n",
    "import numpy as np\n",
    "from sklearn import metrics"
   ]
  },
  {
   "cell_type": "code",
   "execution_count": 2,
   "id": "cf8a142d",
   "metadata": {},
   "outputs": [],
   "source": [
    "burns=pd.read_csv(\"data2/neurologic.csv\")"
   ]
  },
  {
   "cell_type": "code",
   "execution_count": 3,
   "id": "22ab7885",
   "metadata": {},
   "outputs": [],
   "source": [
    "cvp=pd.read_csv(\"CVP.csv\")"
   ]
  },
  {
   "cell_type": "code",
   "execution_count": 4,
   "id": "0b98c2bc",
   "metadata": {},
   "outputs": [],
   "source": [
    "burns_merged = pd.merge(cvp[['patientunitstayid','val']], burns, how='right', on='patientunitstayid')"
   ]
  },
  {
   "cell_type": "code",
   "execution_count": 5,
   "id": "16bc57f3",
   "metadata": {},
   "outputs": [],
   "source": [
    "apachepredvar = pd.read_csv('apachePredVar.csv.gz')"
   ]
  },
  {
   "cell_type": "code",
   "execution_count": 6,
   "id": "3b6d400a",
   "metadata": {},
   "outputs": [],
   "source": [
    "burns_merged_2 = pd.merge(apachepredvar[['patientunitstayid','pao2','fio2']], burns_merged, how='right', on='patientunitstayid')"
   ]
  },
  {
   "cell_type": "code",
   "execution_count": 7,
   "id": "4ad83714",
   "metadata": {},
   "outputs": [],
   "source": [
    "burns_merged_2['mods_ratio'] = 0"
   ]
  },
  {
   "cell_type": "code",
   "execution_count": 8,
   "id": "6f9c8fed",
   "metadata": {},
   "outputs": [
    {
     "data": {
      "text/html": [
       "<div>\n",
       "<style scoped>\n",
       "    .dataframe tbody tr th:only-of-type {\n",
       "        vertical-align: middle;\n",
       "    }\n",
       "\n",
       "    .dataframe tbody tr th {\n",
       "        vertical-align: top;\n",
       "    }\n",
       "\n",
       "    .dataframe thead th {\n",
       "        text-align: right;\n",
       "    }\n",
       "</style>\n",
       "<table border=\"1\" class=\"dataframe\">\n",
       "  <thead>\n",
       "    <tr style=\"text-align: right;\">\n",
       "      <th></th>\n",
       "      <th>patientunitstayid</th>\n",
       "      <th>pao2</th>\n",
       "      <th>fio2</th>\n",
       "      <th>val</th>\n",
       "      <th>gender</th>\n",
       "      <th>age</th>\n",
       "      <th>ethnicity</th>\n",
       "      <th>apacheadmissiondx</th>\n",
       "      <th>admissionheight</th>\n",
       "      <th>hospitaladmitoffset</th>\n",
       "      <th>...</th>\n",
       "      <th>Hgb</th>\n",
       "      <th>WBC x 1000</th>\n",
       "      <th>platelets x 1000</th>\n",
       "      <th>RBC</th>\n",
       "      <th>bicarbonate</th>\n",
       "      <th>MCV</th>\n",
       "      <th>MCHC</th>\n",
       "      <th>MCH</th>\n",
       "      <th>RDW</th>\n",
       "      <th>mods_ratio</th>\n",
       "    </tr>\n",
       "  </thead>\n",
       "  <tbody>\n",
       "    <tr>\n",
       "      <th>0</th>\n",
       "      <td>141340</td>\n",
       "      <td>-1.0</td>\n",
       "      <td>-1.0</td>\n",
       "      <td>NaN</td>\n",
       "      <td>Female</td>\n",
       "      <td>80</td>\n",
       "      <td>Caucasian</td>\n",
       "      <td>Transphenoidal surgery</td>\n",
       "      <td>160.0</td>\n",
       "      <td>-1831.0</td>\n",
       "      <td>...</td>\n",
       "      <td>11.48523</td>\n",
       "      <td>11.355995</td>\n",
       "      <td>205.787863</td>\n",
       "      <td>3.844413</td>\n",
       "      <td>20.000000</td>\n",
       "      <td>90.406483</td>\n",
       "      <td>33.19197</td>\n",
       "      <td>30.001841</td>\n",
       "      <td>14.897614</td>\n",
       "      <td>0</td>\n",
       "    </tr>\n",
       "    <tr>\n",
       "      <th>1</th>\n",
       "      <td>141448</td>\n",
       "      <td>-1.0</td>\n",
       "      <td>-1.0</td>\n",
       "      <td>NaN</td>\n",
       "      <td>Male</td>\n",
       "      <td>65</td>\n",
       "      <td>Hispanic</td>\n",
       "      <td>Coma/change in level of consciousness (for hep...</td>\n",
       "      <td>167.6</td>\n",
       "      <td>0.0</td>\n",
       "      <td>...</td>\n",
       "      <td>11.60000</td>\n",
       "      <td>5.000000</td>\n",
       "      <td>217.000000</td>\n",
       "      <td>3.740000</td>\n",
       "      <td>24.180218</td>\n",
       "      <td>89.000000</td>\n",
       "      <td>34.80000</td>\n",
       "      <td>31.000000</td>\n",
       "      <td>13.400000</td>\n",
       "      <td>0</td>\n",
       "    </tr>\n",
       "    <tr>\n",
       "      <th>2</th>\n",
       "      <td>141454</td>\n",
       "      <td>-1.0</td>\n",
       "      <td>-1.0</td>\n",
       "      <td>NaN</td>\n",
       "      <td>Female</td>\n",
       "      <td>79</td>\n",
       "      <td>Caucasian</td>\n",
       "      <td>Biopsy, brain</td>\n",
       "      <td>170.2</td>\n",
       "      <td>-1287.0</td>\n",
       "      <td>...</td>\n",
       "      <td>11.48523</td>\n",
       "      <td>11.355995</td>\n",
       "      <td>205.787863</td>\n",
       "      <td>3.844413</td>\n",
       "      <td>24.180218</td>\n",
       "      <td>90.406483</td>\n",
       "      <td>33.19197</td>\n",
       "      <td>30.001841</td>\n",
       "      <td>14.897614</td>\n",
       "      <td>0</td>\n",
       "    </tr>\n",
       "    <tr>\n",
       "      <th>3</th>\n",
       "      <td>141515</td>\n",
       "      <td>85.0</td>\n",
       "      <td>70.0</td>\n",
       "      <td>6.974684</td>\n",
       "      <td>Female</td>\n",
       "      <td>68</td>\n",
       "      <td>Caucasian</td>\n",
       "      <td>Sepsis, unknown</td>\n",
       "      <td>165.1</td>\n",
       "      <td>-1092.0</td>\n",
       "      <td>...</td>\n",
       "      <td>10.40000</td>\n",
       "      <td>10.000000</td>\n",
       "      <td>30.000000</td>\n",
       "      <td>3.290000</td>\n",
       "      <td>20.000000</td>\n",
       "      <td>92.100000</td>\n",
       "      <td>34.30000</td>\n",
       "      <td>31.600000</td>\n",
       "      <td>16.700000</td>\n",
       "      <td>0</td>\n",
       "    </tr>\n",
       "    <tr>\n",
       "      <th>4</th>\n",
       "      <td>141677</td>\n",
       "      <td>-1.0</td>\n",
       "      <td>-1.0</td>\n",
       "      <td>NaN</td>\n",
       "      <td>Female</td>\n",
       "      <td>71</td>\n",
       "      <td>Caucasian</td>\n",
       "      <td>Shunts and revisions</td>\n",
       "      <td>175.3</td>\n",
       "      <td>-69.0</td>\n",
       "      <td>...</td>\n",
       "      <td>11.55000</td>\n",
       "      <td>11.700000</td>\n",
       "      <td>236.000000</td>\n",
       "      <td>3.735000</td>\n",
       "      <td>22.000000</td>\n",
       "      <td>92.000000</td>\n",
       "      <td>33.60000</td>\n",
       "      <td>30.950000</td>\n",
       "      <td>14.350000</td>\n",
       "      <td>0</td>\n",
       "    </tr>\n",
       "    <tr>\n",
       "      <th>...</th>\n",
       "      <td>...</td>\n",
       "      <td>...</td>\n",
       "      <td>...</td>\n",
       "      <td>...</td>\n",
       "      <td>...</td>\n",
       "      <td>...</td>\n",
       "      <td>...</td>\n",
       "      <td>...</td>\n",
       "      <td>...</td>\n",
       "      <td>...</td>\n",
       "      <td>...</td>\n",
       "      <td>...</td>\n",
       "      <td>...</td>\n",
       "      <td>...</td>\n",
       "      <td>...</td>\n",
       "      <td>...</td>\n",
       "      <td>...</td>\n",
       "      <td>...</td>\n",
       "      <td>...</td>\n",
       "      <td>...</td>\n",
       "      <td>...</td>\n",
       "    </tr>\n",
       "    <tr>\n",
       "      <th>25774</th>\n",
       "      <td>3353067</td>\n",
       "      <td>-1.0</td>\n",
       "      <td>-1.0</td>\n",
       "      <td>NaN</td>\n",
       "      <td>Male</td>\n",
       "      <td>63</td>\n",
       "      <td>Caucasian</td>\n",
       "      <td>Drug withdrawal</td>\n",
       "      <td>172.7</td>\n",
       "      <td>0.0</td>\n",
       "      <td>...</td>\n",
       "      <td>12.80000</td>\n",
       "      <td>7.700000</td>\n",
       "      <td>203.000000</td>\n",
       "      <td>4.160000</td>\n",
       "      <td>27.000000</td>\n",
       "      <td>91.000000</td>\n",
       "      <td>34.00000</td>\n",
       "      <td>31.000000</td>\n",
       "      <td>13.400000</td>\n",
       "      <td>0</td>\n",
       "    </tr>\n",
       "    <tr>\n",
       "      <th>25775</th>\n",
       "      <td>3353077</td>\n",
       "      <td>-1.0</td>\n",
       "      <td>-1.0</td>\n",
       "      <td>NaN</td>\n",
       "      <td>Female</td>\n",
       "      <td>60</td>\n",
       "      <td>African American</td>\n",
       "      <td>Neoplasm, neurologic</td>\n",
       "      <td>165.1</td>\n",
       "      <td>-646.0</td>\n",
       "      <td>...</td>\n",
       "      <td>13.00000</td>\n",
       "      <td>15.450000</td>\n",
       "      <td>342.500000</td>\n",
       "      <td>4.875000</td>\n",
       "      <td>23.000000</td>\n",
       "      <td>83.000000</td>\n",
       "      <td>32.00000</td>\n",
       "      <td>27.000000</td>\n",
       "      <td>14.550000</td>\n",
       "      <td>0</td>\n",
       "    </tr>\n",
       "    <tr>\n",
       "      <th>25776</th>\n",
       "      <td>3353113</td>\n",
       "      <td>-1.0</td>\n",
       "      <td>-1.0</td>\n",
       "      <td>NaN</td>\n",
       "      <td>Male</td>\n",
       "      <td>50</td>\n",
       "      <td>Caucasian</td>\n",
       "      <td>Drug withdrawal</td>\n",
       "      <td>188.0</td>\n",
       "      <td>-1698.0</td>\n",
       "      <td>...</td>\n",
       "      <td>11.48523</td>\n",
       "      <td>11.355995</td>\n",
       "      <td>205.787863</td>\n",
       "      <td>3.844413</td>\n",
       "      <td>23.000000</td>\n",
       "      <td>90.406483</td>\n",
       "      <td>33.19197</td>\n",
       "      <td>30.001841</td>\n",
       "      <td>14.897614</td>\n",
       "      <td>0</td>\n",
       "    </tr>\n",
       "    <tr>\n",
       "      <th>25777</th>\n",
       "      <td>3353145</td>\n",
       "      <td>46.0</td>\n",
       "      <td>40.0</td>\n",
       "      <td>NaN</td>\n",
       "      <td>Male</td>\n",
       "      <td>51</td>\n",
       "      <td>African American</td>\n",
       "      <td>CVA, cerebrovascular accident/stroke</td>\n",
       "      <td>180.3</td>\n",
       "      <td>-16044.0</td>\n",
       "      <td>...</td>\n",
       "      <td>6.80000</td>\n",
       "      <td>37.650000</td>\n",
       "      <td>295.000000</td>\n",
       "      <td>2.220000</td>\n",
       "      <td>33.500000</td>\n",
       "      <td>95.000000</td>\n",
       "      <td>32.50000</td>\n",
       "      <td>30.500000</td>\n",
       "      <td>18.900000</td>\n",
       "      <td>0</td>\n",
       "    </tr>\n",
       "    <tr>\n",
       "      <th>25778</th>\n",
       "      <td>3353200</td>\n",
       "      <td>70.0</td>\n",
       "      <td>30.0</td>\n",
       "      <td>NaN</td>\n",
       "      <td>Female</td>\n",
       "      <td>66</td>\n",
       "      <td>Caucasian</td>\n",
       "      <td>Hypovolemia (including dehydration, Do not inc...</td>\n",
       "      <td>157.5</td>\n",
       "      <td>-133891.0</td>\n",
       "      <td>...</td>\n",
       "      <td>8.80000</td>\n",
       "      <td>12.300000</td>\n",
       "      <td>179.000000</td>\n",
       "      <td>2.340000</td>\n",
       "      <td>28.000000</td>\n",
       "      <td>87.000000</td>\n",
       "      <td>34.00000</td>\n",
       "      <td>29.000000</td>\n",
       "      <td>18.500000</td>\n",
       "      <td>0</td>\n",
       "    </tr>\n",
       "  </tbody>\n",
       "</table>\n",
       "<p>25779 rows × 60 columns</p>\n",
       "</div>"
      ],
      "text/plain": [
       "       patientunitstayid  pao2  fio2       val  gender  age         ethnicity  \\\n",
       "0                 141340  -1.0  -1.0       NaN  Female   80         Caucasian   \n",
       "1                 141448  -1.0  -1.0       NaN    Male   65          Hispanic   \n",
       "2                 141454  -1.0  -1.0       NaN  Female   79         Caucasian   \n",
       "3                 141515  85.0  70.0  6.974684  Female   68         Caucasian   \n",
       "4                 141677  -1.0  -1.0       NaN  Female   71         Caucasian   \n",
       "...                  ...   ...   ...       ...     ...  ...               ...   \n",
       "25774            3353067  -1.0  -1.0       NaN    Male   63         Caucasian   \n",
       "25775            3353077  -1.0  -1.0       NaN  Female   60  African American   \n",
       "25776            3353113  -1.0  -1.0       NaN    Male   50         Caucasian   \n",
       "25777            3353145  46.0  40.0       NaN    Male   51  African American   \n",
       "25778            3353200  70.0  30.0       NaN  Female   66         Caucasian   \n",
       "\n",
       "                                       apacheadmissiondx  admissionheight  \\\n",
       "0                                 Transphenoidal surgery            160.0   \n",
       "1      Coma/change in level of consciousness (for hep...            167.6   \n",
       "2                                          Biopsy, brain            170.2   \n",
       "3                                        Sepsis, unknown            165.1   \n",
       "4                                   Shunts and revisions            175.3   \n",
       "...                                                  ...              ...   \n",
       "25774                                    Drug withdrawal            172.7   \n",
       "25775                               Neoplasm, neurologic            165.1   \n",
       "25776                                    Drug withdrawal            188.0   \n",
       "25777               CVA, cerebrovascular accident/stroke            180.3   \n",
       "25778  Hypovolemia (including dehydration, Do not inc...            157.5   \n",
       "\n",
       "       hospitaladmitoffset  ...       Hgb WBC x 1000 platelets x 1000  \\\n",
       "0                  -1831.0  ...  11.48523  11.355995       205.787863   \n",
       "1                      0.0  ...  11.60000   5.000000       217.000000   \n",
       "2                  -1287.0  ...  11.48523  11.355995       205.787863   \n",
       "3                  -1092.0  ...  10.40000  10.000000        30.000000   \n",
       "4                    -69.0  ...  11.55000  11.700000       236.000000   \n",
       "...                    ...  ...       ...        ...              ...   \n",
       "25774                  0.0  ...  12.80000   7.700000       203.000000   \n",
       "25775               -646.0  ...  13.00000  15.450000       342.500000   \n",
       "25776              -1698.0  ...  11.48523  11.355995       205.787863   \n",
       "25777             -16044.0  ...   6.80000  37.650000       295.000000   \n",
       "25778            -133891.0  ...   8.80000  12.300000       179.000000   \n",
       "\n",
       "            RBC  bicarbonate        MCV      MCHC        MCH        RDW  \\\n",
       "0      3.844413    20.000000  90.406483  33.19197  30.001841  14.897614   \n",
       "1      3.740000    24.180218  89.000000  34.80000  31.000000  13.400000   \n",
       "2      3.844413    24.180218  90.406483  33.19197  30.001841  14.897614   \n",
       "3      3.290000    20.000000  92.100000  34.30000  31.600000  16.700000   \n",
       "4      3.735000    22.000000  92.000000  33.60000  30.950000  14.350000   \n",
       "...         ...          ...        ...       ...        ...        ...   \n",
       "25774  4.160000    27.000000  91.000000  34.00000  31.000000  13.400000   \n",
       "25775  4.875000    23.000000  83.000000  32.00000  27.000000  14.550000   \n",
       "25776  3.844413    23.000000  90.406483  33.19197  30.001841  14.897614   \n",
       "25777  2.220000    33.500000  95.000000  32.50000  30.500000  18.900000   \n",
       "25778  2.340000    28.000000  87.000000  34.00000  29.000000  18.500000   \n",
       "\n",
       "       mods_ratio  \n",
       "0               0  \n",
       "1               0  \n",
       "2               0  \n",
       "3               0  \n",
       "4               0  \n",
       "...           ...  \n",
       "25774           0  \n",
       "25775           0  \n",
       "25776           0  \n",
       "25777           0  \n",
       "25778           0  \n",
       "\n",
       "[25779 rows x 60 columns]"
      ]
     },
     "execution_count": 8,
     "metadata": {},
     "output_type": "execute_result"
    }
   ],
   "source": [
    "burns_merged_2"
   ]
  },
  {
   "cell_type": "code",
   "execution_count": 9,
   "id": "759a3322",
   "metadata": {},
   "outputs": [
    {
     "name": "stderr",
     "output_type": "stream",
     "text": [
      "C:\\Users\\nsafa\\Anaconda3\\lib\\site-packages\\pandas\\core\\indexing.py:1637: SettingWithCopyWarning: \n",
      "A value is trying to be set on a copy of a slice from a DataFrame\n",
      "\n",
      "See the caveats in the documentation: https://pandas.pydata.org/pandas-docs/stable/user_guide/indexing.html#returning-a-view-versus-a-copy\n",
      "  self._setitem_single_block(indexer, value, name)\n"
     ]
    }
   ],
   "source": [
    "for i in range(len(burns_merged_2)):\n",
    "    if (burns_merged_2.iloc[i]['pao2'] != -1) & (burns_merged_2.iloc[i]['fio2'] != -1):\n",
    "        if ((burns_merged_2.iloc[i]['pao2']/burns_merged_2.iloc[i]['fio2']) * 100 <= 300) & ((burns_merged_2.iloc[i]['pao2']/burns_merged_2.iloc[i]['fio2']) * 100 >= 226):\n",
    "            burns_merged_2['mods_ratio'].iloc[i] = 1\n",
    "        if ((burns_merged_2.iloc[i]['pao2']/burns_merged_2.iloc[i]['fio2']) * 100 <= 225) & ((burns_merged_2.iloc[i]['pao2']/burns_merged_2.iloc[i]['fio2']) * 100 >= 151):\n",
    "            burns_merged_2['mods_ratio'].iloc[i] = 2\n",
    "        if ((burns_merged_2.iloc[i]['pao2']/burns_merged_2.iloc[i]['fio2']) * 100 <= 150) & ((burns_merged_2.iloc[i]['pao2']/burns_merged_2.iloc[i]['fio2']) * 100 >= 76):\n",
    "            burns_merged_2['mods_ratio'].iloc[i] = 3\n",
    "        if ((burns_merged_2.iloc[i]['pao2']/burns_merged_2.iloc[i]['fio2']) * 100 >= 0) & ((burns_merged_2.iloc[i]['pao2']/burns_merged_2.iloc[i]['fio2']) * 100 <= 75):\n",
    "            burns_merged_2['mods_ratio'].iloc[i] = 4"
   ]
  },
  {
   "cell_type": "code",
   "execution_count": 10,
   "id": "9685e956",
   "metadata": {},
   "outputs": [],
   "source": [
    "def platelets(item):\n",
    "    temp = 0\n",
    "    if (item >= 81) & (item <= 120):\n",
    "        temp += 1\n",
    "    elif (51 <= item) & (item <= 80):\n",
    "        temp += 2\n",
    "    elif (21 <= item) & (item <= 50):\n",
    "        temp += 3\n",
    "    elif (20 >= item):\n",
    "        temp += 4\n",
    "    return temp"
   ]
  },
  {
   "cell_type": "code",
   "execution_count": 11,
   "id": "f22c582c",
   "metadata": {},
   "outputs": [],
   "source": [
    "burns_merged_2['mods_platelets'] = burns_merged_2['platelets x 1000'].apply(platelets)"
   ]
  },
  {
   "cell_type": "code",
   "execution_count": 12,
   "id": "5407040c",
   "metadata": {},
   "outputs": [],
   "source": [
    "apacheapsdvar = pd.read_csv('ApacheApsVar.csv.gz')"
   ]
  },
  {
   "cell_type": "code",
   "execution_count": 13,
   "id": "36885b6c",
   "metadata": {},
   "outputs": [],
   "source": [
    "burns_merged_3 = pd.merge(apacheapsdvar[['patientunitstayid','bilirubin']], burns_merged_2, how='right', on='patientunitstayid')"
   ]
  },
  {
   "cell_type": "code",
   "execution_count": 14,
   "id": "ce0a1f26",
   "metadata": {},
   "outputs": [],
   "source": [
    "def bilirubin(item):\n",
    "    temp = 0\n",
    "    if (item >= 1.3) & (item <= 3.5):\n",
    "        temp += 1\n",
    "    elif (3.6 <= item) & (item <= 7.0):\n",
    "        temp += 2\n",
    "    elif (7.0 <= item) & (item <= 14.0):\n",
    "        temp += 3\n",
    "    elif (14.0 <= item):\n",
    "        temp += 4\n",
    "    return temp"
   ]
  },
  {
   "cell_type": "code",
   "execution_count": 15,
   "id": "25ec9920",
   "metadata": {},
   "outputs": [],
   "source": [
    "burns_merged_3['mods_bilirubin'] = burns_merged_3['bilirubin'].apply(bilirubin)"
   ]
  },
  {
   "cell_type": "code",
   "execution_count": 16,
   "id": "3a4e3cf3",
   "metadata": {},
   "outputs": [],
   "source": [
    "burns_merged_3['val_fill'] = burns_merged_3['val'].fillna(burns_merged_3['val'].mean())"
   ]
  },
  {
   "cell_type": "code",
   "execution_count": 17,
   "id": "fbc98188",
   "metadata": {},
   "outputs": [],
   "source": [
    "burns_merged_3['PAHR'] = (burns_merged_3['heartrate'] * burns_merged_3['val'])/burns_merged_3['meanbp']"
   ]
  },
  {
   "cell_type": "code",
   "execution_count": 18,
   "id": "43a38e9c",
   "metadata": {},
   "outputs": [],
   "source": [
    "burns_merged_3['PAHRF'] = (burns_merged_3['heartrate'] * burns_merged_3['val_fill'])/burns_merged_3['meanbp']"
   ]
  },
  {
   "cell_type": "code",
   "execution_count": 19,
   "id": "0b443193",
   "metadata": {},
   "outputs": [
    {
     "data": {
      "text/plain": [
       "20.267992936495983"
      ]
     },
     "execution_count": 19,
     "metadata": {},
     "output_type": "execute_result"
    }
   ],
   "source": [
    "burns_merged_3['PAHRF'].mean()"
   ]
  },
  {
   "cell_type": "code",
   "execution_count": 20,
   "id": "528f7df2",
   "metadata": {},
   "outputs": [],
   "source": [
    "def ad_pressure(item):\n",
    "    temp = 0\n",
    "    if (item >= 10.1) & (item <= 15):\n",
    "        temp += 1\n",
    "    elif (item >= 15.1) & (item <= 20):\n",
    "        temp += 2\n",
    "    elif (item >= 20.1) & (item <= 30):\n",
    "        temp += 3\n",
    "    elif (item >= 30.1):\n",
    "        temp += 4\n",
    "    return temp"
   ]
  },
  {
   "cell_type": "code",
   "execution_count": 21,
   "id": "71879df0",
   "metadata": {},
   "outputs": [],
   "source": [
    "burns_merged_3['mods_pressure'] = burns_merged_3['PAHR'].apply(ad_pressure)"
   ]
  },
  {
   "cell_type": "code",
   "execution_count": 22,
   "id": "b192fda7",
   "metadata": {},
   "outputs": [],
   "source": [
    "pd.set_option('display.max_rows', 1000)"
   ]
  },
  {
   "cell_type": "code",
   "execution_count": 23,
   "id": "342ab7a4",
   "metadata": {},
   "outputs": [
    {
     "data": {
      "text/plain": [
       "patientunitstayid          0\n",
       "bilirubin                  0\n",
       "pao2                       0\n",
       "fio2                       0\n",
       "val                    24490\n",
       "gender                     0\n",
       "age                        0\n",
       "ethnicity                  0\n",
       "apacheadmissiondx          0\n",
       "admissionheight            0\n",
       "hospitaladmitoffset        0\n",
       "unittype                   0\n",
       "unitadmitsource            0\n",
       "unitstaytype               0\n",
       "admissionweight            0\n",
       "intubated                  0\n",
       "dialysis                   0\n",
       "temperature                0\n",
       "respiratoryrate            0\n",
       "heartrate                  0\n",
       "meanbp                     0\n",
       "hematocrit                 0\n",
       "actualicumortality         0\n",
       "preopmi                    0\n",
       "preopcardiaccath           0\n",
       "ptcawithin24h              0\n",
       "meds                       0\n",
       "verbal                     0\n",
       "motor                      0\n",
       "eyes                       0\n",
       "thrombolytics              0\n",
       "aids                       0\n",
       "hepaticfailure             0\n",
       "lymphoma                   0\n",
       "immunosuppression          0\n",
       "cirrhosis                  0\n",
       "activetx                   0\n",
       "ima                        0\n",
       "midur                      0\n",
       "ventday1                   0\n",
       "oobventday1                0\n",
       "oobintubday1               0\n",
       "diabetes                   0\n",
       "diagnosisstring            0\n",
       "potassium                  0\n",
       "creatinine                 0\n",
       "sodium                     0\n",
       "BUN                        0\n",
       "glucose                    0\n",
       "chloride                   0\n",
       "calcium                    0\n",
       "Hgb                        0\n",
       "WBC x 1000                 0\n",
       "platelets x 1000           0\n",
       "RBC                        0\n",
       "bicarbonate                0\n",
       "MCV                        0\n",
       "MCHC                       0\n",
       "MCH                        0\n",
       "RDW                        0\n",
       "mods_ratio                 0\n",
       "mods_platelets             0\n",
       "mods_bilirubin             0\n",
       "val_fill                   0\n",
       "PAHR                   24490\n",
       "PAHRF                      0\n",
       "mods_pressure              0\n",
       "dtype: int64"
      ]
     },
     "execution_count": 23,
     "metadata": {},
     "output_type": "execute_result"
    }
   ],
   "source": [
    "burns_merged_3.isna().sum()"
   ]
  },
  {
   "cell_type": "code",
   "execution_count": 24,
   "id": "2bee6be5",
   "metadata": {},
   "outputs": [],
   "source": [
    "burns_merged_3['GCS'] = burns_merged_3['eyes'] + burns_merged_3['motor'] + burns_merged_3['verbal']"
   ]
  },
  {
   "cell_type": "code",
   "execution_count": 25,
   "id": "4484540a",
   "metadata": {},
   "outputs": [],
   "source": [
    "def GCS(item):\n",
    "    temp = 0\n",
    "    if (item >= 13) & (item <= 14):\n",
    "        temp += 1\n",
    "    elif (10 <= item) & (item <= 12):\n",
    "        temp += 2\n",
    "    elif (6 <= item) & (item <= 9):\n",
    "        temp += 3\n",
    "    elif (6 > item):\n",
    "        temp += 4\n",
    "    return temp"
   ]
  },
  {
   "cell_type": "code",
   "execution_count": 26,
   "id": "c7442780",
   "metadata": {},
   "outputs": [],
   "source": [
    "burns_merged_3['mods_GCS'] = burns_merged_3['GCS'].apply(GCS)"
   ]
  },
  {
   "cell_type": "code",
   "execution_count": 27,
   "id": "ba2ec65c",
   "metadata": {},
   "outputs": [],
   "source": [
    "def creatinine(item):\n",
    "    temp = 0\n",
    "    if (item >= 1.2) & (item <= 2.2):\n",
    "        temp += 1\n",
    "    elif (2.3 <= item) & (item <= 3.9):\n",
    "        temp += 2\n",
    "    elif (4 <= item) & (item <= 5.7):\n",
    "        temp += 3\n",
    "    elif (5.7 < item):\n",
    "        temp += 4\n",
    "    return temp"
   ]
  },
  {
   "cell_type": "code",
   "execution_count": 28,
   "id": "2078dbac",
   "metadata": {},
   "outputs": [],
   "source": [
    "burns_merged_3['mods_creatinine'] = burns_merged_3['creatinine'].apply(creatinine)"
   ]
  },
  {
   "cell_type": "code",
   "execution_count": 29,
   "id": "35c8bddd",
   "metadata": {},
   "outputs": [
    {
     "data": {
      "text/plain": [
       "Index(['patientunitstayid', 'bilirubin', 'pao2', 'fio2', 'val', 'gender',\n",
       "       'age', 'ethnicity', 'apacheadmissiondx', 'admissionheight',\n",
       "       'hospitaladmitoffset', 'unittype', 'unitadmitsource', 'unitstaytype',\n",
       "       'admissionweight', 'intubated', 'dialysis', 'temperature',\n",
       "       'respiratoryrate', 'heartrate', 'meanbp', 'hematocrit',\n",
       "       'actualicumortality', 'preopmi', 'preopcardiaccath', 'ptcawithin24h',\n",
       "       'meds', 'verbal', 'motor', 'eyes', 'thrombolytics', 'aids',\n",
       "       'hepaticfailure', 'lymphoma', 'immunosuppression', 'cirrhosis',\n",
       "       'activetx', 'ima', 'midur', 'ventday1', 'oobventday1', 'oobintubday1',\n",
       "       'diabetes', 'diagnosisstring', 'potassium', 'creatinine', 'sodium',\n",
       "       'BUN', 'glucose', 'chloride', 'calcium', 'Hgb', 'WBC x 1000',\n",
       "       'platelets x 1000', 'RBC', 'bicarbonate', 'MCV', 'MCHC', 'MCH', 'RDW',\n",
       "       'mods_ratio', 'mods_platelets', 'mods_bilirubin', 'val_fill', 'PAHR',\n",
       "       'PAHRF', 'mods_pressure', 'GCS', 'mods_GCS', 'mods_creatinine'],\n",
       "      dtype='object')"
      ]
     },
     "execution_count": 29,
     "metadata": {},
     "output_type": "execute_result"
    }
   ],
   "source": [
    "burns_merged_3.columns"
   ]
  },
  {
   "cell_type": "code",
   "execution_count": 30,
   "id": "d6e4a762",
   "metadata": {},
   "outputs": [],
   "source": [
    "burns_merged_3['mods_score'] = burns_merged_3[['mods_ratio', 'mods_platelets', 'mods_bilirubin',\n",
    "        'mods_pressure', 'mods_GCS', 'mods_creatinine']].sum(axis=1)"
   ]
  },
  {
   "cell_type": "code",
   "execution_count": 31,
   "id": "84f9c23a",
   "metadata": {},
   "outputs": [],
   "source": [
    "burns_merged_3['actualicumortality_label'] = burns_merged_3['actualicumortality'].apply(lambda x: 1 if x =='EXPIRED' else 0)"
   ]
  },
  {
   "cell_type": "code",
   "execution_count": 32,
   "id": "dc3c13af",
   "metadata": {},
   "outputs": [],
   "source": [
    "def mods_predict(item):\n",
    "    temp = 0\n",
    "    if (item >= 1) & (item <= 4):\n",
    "        temp = 1.5\n",
    "    elif (item >= 5) & (item <= 8):\n",
    "        temp = 4.0\n",
    "    elif (item >= 9) & (item <= 12):\n",
    "        temp = 25\n",
    "    elif (item >= 13) & (item <= 16):\n",
    "        temp = 50\n",
    "    elif (item >= 17) & (item <= 20):\n",
    "        temp = 75\n",
    "    elif (item >= 21) & (item <= 24):\n",
    "        temp = 100\n",
    "    return temp"
   ]
  },
  {
   "cell_type": "code",
   "execution_count": 33,
   "id": "e187ecda",
   "metadata": {},
   "outputs": [
    {
     "data": {
      "text/plain": [
       "18"
      ]
     },
     "execution_count": 33,
     "metadata": {},
     "output_type": "execute_result"
    }
   ],
   "source": [
    "burns_merged_3['mods_score'].max()"
   ]
  },
  {
   "cell_type": "code",
   "execution_count": 34,
   "id": "c2f58505",
   "metadata": {},
   "outputs": [],
   "source": [
    "burns_merged_3['mods_prob'] = burns_merged_3['mods_score'].apply(mods_predict)"
   ]
  },
  {
   "cell_type": "code",
   "execution_count": 35,
   "id": "16d22461",
   "metadata": {},
   "outputs": [],
   "source": [
    "fpr, tpr, thresholds = metrics.roc_curve(burns_merged_3['actualicumortality_label'].values, burns_merged_3['mods_prob'].values, pos_label=1)"
   ]
  },
  {
   "cell_type": "code",
   "execution_count": 36,
   "id": "ca2a35d8",
   "metadata": {},
   "outputs": [
    {
     "data": {
      "text/plain": [
       "0.773287182932"
      ]
     },
     "execution_count": 36,
     "metadata": {},
     "output_type": "execute_result"
    }
   ],
   "source": [
    "metrics.auc(fpr, tpr)"
   ]
  },
  {
   "cell_type": "code",
   "execution_count": 37,
   "id": "6072b3bb",
   "metadata": {},
   "outputs": [
    {
     "data": {
      "text/plain": [
       "0         1.5\n",
       "1         1.5\n",
       "2         1.5\n",
       "3        25.0\n",
       "4         0.0\n",
       "         ... \n",
       "25774     1.5\n",
       "25775     0.0\n",
       "25776     1.5\n",
       "25777     1.5\n",
       "25778     1.5\n",
       "Name: mods_prob, Length: 25779, dtype: float64"
      ]
     },
     "execution_count": 37,
     "metadata": {},
     "output_type": "execute_result"
    }
   ],
   "source": [
    "burns_merged_3['mods_prob']"
   ]
  },
  {
   "cell_type": "code",
   "execution_count": null,
   "id": "d7ca8c7a",
   "metadata": {},
   "outputs": [],
   "source": []
  }
 ],
 "metadata": {
  "kernelspec": {
   "display_name": "Python 3",
   "language": "python",
   "name": "python3"
  },
  "language_info": {
   "codemirror_mode": {
    "name": "ipython",
    "version": 3
   },
   "file_extension": ".py",
   "mimetype": "text/x-python",
   "name": "python",
   "nbconvert_exporter": "python",
   "pygments_lexer": "ipython3",
   "version": "3.7.0"
  }
 },
 "nbformat": 4,
 "nbformat_minor": 5
}
