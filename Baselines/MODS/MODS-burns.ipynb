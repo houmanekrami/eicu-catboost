{
 "cells": [
  {
   "cell_type": "code",
   "execution_count": 1,
   "id": "5c279948",
   "metadata": {},
   "outputs": [],
   "source": [
    "import pandas as pd\n",
    "import numpy as np\n",
    "from sklearn import metrics"
   ]
  },
  {
   "cell_type": "code",
   "execution_count": 2,
   "id": "cf8a142d",
   "metadata": {},
   "outputs": [],
   "source": [
    "burns=pd.read_csv(\"data2/burns-trauma.csv\")"
   ]
  },
  {
   "cell_type": "code",
   "execution_count": 3,
   "id": "22ab7885",
   "metadata": {},
   "outputs": [],
   "source": [
    "cvp=pd.read_csv(\"CVP.csv\")"
   ]
  },
  {
   "cell_type": "code",
   "execution_count": 4,
   "id": "0b98c2bc",
   "metadata": {},
   "outputs": [],
   "source": [
    "burns_merged = pd.merge(cvp[['patientunitstayid','val']], burns, how='right', on='patientunitstayid')"
   ]
  },
  {
   "cell_type": "code",
   "execution_count": 5,
   "id": "82d45c51",
   "metadata": {},
   "outputs": [],
   "source": [
    "apachepredvar = pd.read_csv('apachePredVar.csv.gz')"
   ]
  },
  {
   "cell_type": "code",
   "execution_count": 6,
   "id": "a3f69371",
   "metadata": {},
   "outputs": [],
   "source": [
    "burns_merged_2 = pd.merge(apachepredvar[['patientunitstayid','pao2','fio2']], burns_merged, how='right', on='patientunitstayid')"
   ]
  },
  {
   "cell_type": "code",
   "execution_count": 7,
   "id": "826e7e31",
   "metadata": {},
   "outputs": [],
   "source": [
    "burns_merged_2['mods_ratio'] = 0"
   ]
  },
  {
   "cell_type": "code",
   "execution_count": 8,
   "id": "5e03261c",
   "metadata": {},
   "outputs": [
    {
     "data": {
      "text/html": [
       "<div>\n",
       "<style scoped>\n",
       "    .dataframe tbody tr th:only-of-type {\n",
       "        vertical-align: middle;\n",
       "    }\n",
       "\n",
       "    .dataframe tbody tr th {\n",
       "        vertical-align: top;\n",
       "    }\n",
       "\n",
       "    .dataframe thead th {\n",
       "        text-align: right;\n",
       "    }\n",
       "</style>\n",
       "<table border=\"1\" class=\"dataframe\">\n",
       "  <thead>\n",
       "    <tr style=\"text-align: right;\">\n",
       "      <th></th>\n",
       "      <th>patientunitstayid</th>\n",
       "      <th>pao2</th>\n",
       "      <th>fio2</th>\n",
       "      <th>val</th>\n",
       "      <th>gender</th>\n",
       "      <th>age</th>\n",
       "      <th>ethnicity</th>\n",
       "      <th>apacheadmissiondx</th>\n",
       "      <th>admissionheight</th>\n",
       "      <th>hospitaladmitoffset</th>\n",
       "      <th>...</th>\n",
       "      <th>Hgb</th>\n",
       "      <th>WBC x 1000</th>\n",
       "      <th>platelets x 1000</th>\n",
       "      <th>RBC</th>\n",
       "      <th>bicarbonate</th>\n",
       "      <th>MCV</th>\n",
       "      <th>MCHC</th>\n",
       "      <th>MCH</th>\n",
       "      <th>RDW</th>\n",
       "      <th>mods_ratio</th>\n",
       "    </tr>\n",
       "  </thead>\n",
       "  <tbody>\n",
       "    <tr>\n",
       "      <th>0</th>\n",
       "      <td>143103</td>\n",
       "      <td>346.0</td>\n",
       "      <td>100.0</td>\n",
       "      <td>5.333333</td>\n",
       "      <td>Female</td>\n",
       "      <td>46</td>\n",
       "      <td>Asian</td>\n",
       "      <td>Head only trauma</td>\n",
       "      <td>167.6</td>\n",
       "      <td>-3.0</td>\n",
       "      <td>...</td>\n",
       "      <td>12.10</td>\n",
       "      <td>19.50</td>\n",
       "      <td>258.0</td>\n",
       "      <td>3.98</td>\n",
       "      <td>20.0</td>\n",
       "      <td>85.9</td>\n",
       "      <td>35.4</td>\n",
       "      <td>30.4</td>\n",
       "      <td>13.50</td>\n",
       "      <td>0</td>\n",
       "    </tr>\n",
       "    <tr>\n",
       "      <th>1</th>\n",
       "      <td>143258</td>\n",
       "      <td>-1.0</td>\n",
       "      <td>-1.0</td>\n",
       "      <td>NaN</td>\n",
       "      <td>Male</td>\n",
       "      <td>90</td>\n",
       "      <td>Caucasian</td>\n",
       "      <td>Rhythm disturbance (atrial, supraventricular)</td>\n",
       "      <td>180.3</td>\n",
       "      <td>0.0</td>\n",
       "      <td>...</td>\n",
       "      <td>11.90</td>\n",
       "      <td>8.60</td>\n",
       "      <td>175.0</td>\n",
       "      <td>3.48</td>\n",
       "      <td>28.0</td>\n",
       "      <td>102.0</td>\n",
       "      <td>33.5</td>\n",
       "      <td>34.2</td>\n",
       "      <td>12.10</td>\n",
       "      <td>0</td>\n",
       "    </tr>\n",
       "    <tr>\n",
       "      <th>2</th>\n",
       "      <td>143274</td>\n",
       "      <td>-1.0</td>\n",
       "      <td>-1.0</td>\n",
       "      <td>NaN</td>\n",
       "      <td>Male</td>\n",
       "      <td>22</td>\n",
       "      <td>Caucasian</td>\n",
       "      <td>Head/extremity trauma</td>\n",
       "      <td>195.6</td>\n",
       "      <td>-179.0</td>\n",
       "      <td>...</td>\n",
       "      <td>12.10</td>\n",
       "      <td>14.50</td>\n",
       "      <td>218.0</td>\n",
       "      <td>4.44</td>\n",
       "      <td>30.0</td>\n",
       "      <td>84.0</td>\n",
       "      <td>32.4</td>\n",
       "      <td>27.3</td>\n",
       "      <td>12.70</td>\n",
       "      <td>0</td>\n",
       "    </tr>\n",
       "    <tr>\n",
       "      <th>3</th>\n",
       "      <td>145180</td>\n",
       "      <td>-1.0</td>\n",
       "      <td>-1.0</td>\n",
       "      <td>NaN</td>\n",
       "      <td>Female</td>\n",
       "      <td>77</td>\n",
       "      <td>-</td>\n",
       "      <td>Extremity only trauma, surgery for</td>\n",
       "      <td>167.6</td>\n",
       "      <td>-1891.0</td>\n",
       "      <td>...</td>\n",
       "      <td>10.00</td>\n",
       "      <td>5.40</td>\n",
       "      <td>173.0</td>\n",
       "      <td>3.29</td>\n",
       "      <td>25.0</td>\n",
       "      <td>94.2</td>\n",
       "      <td>32.3</td>\n",
       "      <td>30.4</td>\n",
       "      <td>13.70</td>\n",
       "      <td>0</td>\n",
       "    </tr>\n",
       "    <tr>\n",
       "      <th>4</th>\n",
       "      <td>146784</td>\n",
       "      <td>80.0</td>\n",
       "      <td>40.0</td>\n",
       "      <td>NaN</td>\n",
       "      <td>Male</td>\n",
       "      <td>50</td>\n",
       "      <td>Caucasian</td>\n",
       "      <td>Spinal/face trauma</td>\n",
       "      <td>177.8</td>\n",
       "      <td>-2.0</td>\n",
       "      <td>...</td>\n",
       "      <td>11.50</td>\n",
       "      <td>14.00</td>\n",
       "      <td>164.0</td>\n",
       "      <td>3.66</td>\n",
       "      <td>25.0</td>\n",
       "      <td>93.4</td>\n",
       "      <td>33.6</td>\n",
       "      <td>31.4</td>\n",
       "      <td>12.90</td>\n",
       "      <td>0</td>\n",
       "    </tr>\n",
       "    <tr>\n",
       "      <th>...</th>\n",
       "      <td>...</td>\n",
       "      <td>...</td>\n",
       "      <td>...</td>\n",
       "      <td>...</td>\n",
       "      <td>...</td>\n",
       "      <td>...</td>\n",
       "      <td>...</td>\n",
       "      <td>...</td>\n",
       "      <td>...</td>\n",
       "      <td>...</td>\n",
       "      <td>...</td>\n",
       "      <td>...</td>\n",
       "      <td>...</td>\n",
       "      <td>...</td>\n",
       "      <td>...</td>\n",
       "      <td>...</td>\n",
       "      <td>...</td>\n",
       "      <td>...</td>\n",
       "      <td>...</td>\n",
       "      <td>...</td>\n",
       "      <td>...</td>\n",
       "    </tr>\n",
       "    <tr>\n",
       "      <th>4910</th>\n",
       "      <td>3352198</td>\n",
       "      <td>-1.0</td>\n",
       "      <td>-1.0</td>\n",
       "      <td>NaN</td>\n",
       "      <td>Male</td>\n",
       "      <td>61</td>\n",
       "      <td>Other/Unknown</td>\n",
       "      <td>Chest/face trauma</td>\n",
       "      <td>188.0</td>\n",
       "      <td>-276.0</td>\n",
       "      <td>...</td>\n",
       "      <td>14.80</td>\n",
       "      <td>13.80</td>\n",
       "      <td>256.0</td>\n",
       "      <td>4.95</td>\n",
       "      <td>27.5</td>\n",
       "      <td>89.0</td>\n",
       "      <td>34.0</td>\n",
       "      <td>30.0</td>\n",
       "      <td>13.60</td>\n",
       "      <td>0</td>\n",
       "    </tr>\n",
       "    <tr>\n",
       "      <th>4911</th>\n",
       "      <td>3352519</td>\n",
       "      <td>-1.0</td>\n",
       "      <td>-1.0</td>\n",
       "      <td>NaN</td>\n",
       "      <td>Male</td>\n",
       "      <td>46</td>\n",
       "      <td>Caucasian</td>\n",
       "      <td>Head/multiple trauma</td>\n",
       "      <td>172.7</td>\n",
       "      <td>-232.0</td>\n",
       "      <td>...</td>\n",
       "      <td>13.20</td>\n",
       "      <td>12.40</td>\n",
       "      <td>178.0</td>\n",
       "      <td>4.47</td>\n",
       "      <td>27.0</td>\n",
       "      <td>87.0</td>\n",
       "      <td>34.0</td>\n",
       "      <td>30.0</td>\n",
       "      <td>13.30</td>\n",
       "      <td>0</td>\n",
       "    </tr>\n",
       "    <tr>\n",
       "      <th>4912</th>\n",
       "      <td>3352711</td>\n",
       "      <td>112.0</td>\n",
       "      <td>100.0</td>\n",
       "      <td>NaN</td>\n",
       "      <td>Male</td>\n",
       "      <td>53</td>\n",
       "      <td>Caucasian</td>\n",
       "      <td>Sepsis, pulmonary</td>\n",
       "      <td>172.7</td>\n",
       "      <td>-13.0</td>\n",
       "      <td>...</td>\n",
       "      <td>10.70</td>\n",
       "      <td>10.80</td>\n",
       "      <td>272.0</td>\n",
       "      <td>3.39</td>\n",
       "      <td>21.0</td>\n",
       "      <td>96.0</td>\n",
       "      <td>33.0</td>\n",
       "      <td>32.0</td>\n",
       "      <td>13.60</td>\n",
       "      <td>0</td>\n",
       "    </tr>\n",
       "    <tr>\n",
       "      <th>4913</th>\n",
       "      <td>3353007</td>\n",
       "      <td>-1.0</td>\n",
       "      <td>-1.0</td>\n",
       "      <td>NaN</td>\n",
       "      <td>Female</td>\n",
       "      <td>74</td>\n",
       "      <td>Caucasian</td>\n",
       "      <td>Chest/extremity trauma</td>\n",
       "      <td>157.5</td>\n",
       "      <td>-66.0</td>\n",
       "      <td>...</td>\n",
       "      <td>11.55</td>\n",
       "      <td>11.25</td>\n",
       "      <td>197.0</td>\n",
       "      <td>3.77</td>\n",
       "      <td>29.5</td>\n",
       "      <td>94.0</td>\n",
       "      <td>33.0</td>\n",
       "      <td>30.5</td>\n",
       "      <td>12.75</td>\n",
       "      <td>0</td>\n",
       "    </tr>\n",
       "    <tr>\n",
       "      <th>4914</th>\n",
       "      <td>3353016</td>\n",
       "      <td>-1.0</td>\n",
       "      <td>-1.0</td>\n",
       "      <td>NaN</td>\n",
       "      <td>Male</td>\n",
       "      <td>19</td>\n",
       "      <td>African American</td>\n",
       "      <td>Cellulitis and localized soft tissue infections</td>\n",
       "      <td>165.1</td>\n",
       "      <td>-46210.0</td>\n",
       "      <td>...</td>\n",
       "      <td>9.20</td>\n",
       "      <td>7.40</td>\n",
       "      <td>425.0</td>\n",
       "      <td>3.10</td>\n",
       "      <td>31.0</td>\n",
       "      <td>87.0</td>\n",
       "      <td>34.0</td>\n",
       "      <td>30.0</td>\n",
       "      <td>16.90</td>\n",
       "      <td>0</td>\n",
       "    </tr>\n",
       "  </tbody>\n",
       "</table>\n",
       "<p>4915 rows × 60 columns</p>\n",
       "</div>"
      ],
      "text/plain": [
       "      patientunitstayid   pao2   fio2       val  gender  age  \\\n",
       "0                143103  346.0  100.0  5.333333  Female   46   \n",
       "1                143258   -1.0   -1.0       NaN    Male   90   \n",
       "2                143274   -1.0   -1.0       NaN    Male   22   \n",
       "3                145180   -1.0   -1.0       NaN  Female   77   \n",
       "4                146784   80.0   40.0       NaN    Male   50   \n",
       "...                 ...    ...    ...       ...     ...  ...   \n",
       "4910            3352198   -1.0   -1.0       NaN    Male   61   \n",
       "4911            3352519   -1.0   -1.0       NaN    Male   46   \n",
       "4912            3352711  112.0  100.0       NaN    Male   53   \n",
       "4913            3353007   -1.0   -1.0       NaN  Female   74   \n",
       "4914            3353016   -1.0   -1.0       NaN    Male   19   \n",
       "\n",
       "             ethnicity                                apacheadmissiondx  \\\n",
       "0                Asian                                 Head only trauma   \n",
       "1            Caucasian    Rhythm disturbance (atrial, supraventricular)   \n",
       "2            Caucasian                            Head/extremity trauma   \n",
       "3                    -               Extremity only trauma, surgery for   \n",
       "4            Caucasian                               Spinal/face trauma   \n",
       "...                ...                                              ...   \n",
       "4910     Other/Unknown                                Chest/face trauma   \n",
       "4911         Caucasian                             Head/multiple trauma   \n",
       "4912         Caucasian                                Sepsis, pulmonary   \n",
       "4913         Caucasian                           Chest/extremity trauma   \n",
       "4914  African American  Cellulitis and localized soft tissue infections   \n",
       "\n",
       "      admissionheight  hospitaladmitoffset  ...    Hgb WBC x 1000  \\\n",
       "0               167.6                 -3.0  ...  12.10      19.50   \n",
       "1               180.3                  0.0  ...  11.90       8.60   \n",
       "2               195.6               -179.0  ...  12.10      14.50   \n",
       "3               167.6              -1891.0  ...  10.00       5.40   \n",
       "4               177.8                 -2.0  ...  11.50      14.00   \n",
       "...               ...                  ...  ...    ...        ...   \n",
       "4910            188.0               -276.0  ...  14.80      13.80   \n",
       "4911            172.7               -232.0  ...  13.20      12.40   \n",
       "4912            172.7                -13.0  ...  10.70      10.80   \n",
       "4913            157.5                -66.0  ...  11.55      11.25   \n",
       "4914            165.1             -46210.0  ...   9.20       7.40   \n",
       "\n",
       "     platelets x 1000   RBC  bicarbonate    MCV  MCHC   MCH    RDW  mods_ratio  \n",
       "0               258.0  3.98         20.0   85.9  35.4  30.4  13.50           0  \n",
       "1               175.0  3.48         28.0  102.0  33.5  34.2  12.10           0  \n",
       "2               218.0  4.44         30.0   84.0  32.4  27.3  12.70           0  \n",
       "3               173.0  3.29         25.0   94.2  32.3  30.4  13.70           0  \n",
       "4               164.0  3.66         25.0   93.4  33.6  31.4  12.90           0  \n",
       "...               ...   ...          ...    ...   ...   ...    ...         ...  \n",
       "4910            256.0  4.95         27.5   89.0  34.0  30.0  13.60           0  \n",
       "4911            178.0  4.47         27.0   87.0  34.0  30.0  13.30           0  \n",
       "4912            272.0  3.39         21.0   96.0  33.0  32.0  13.60           0  \n",
       "4913            197.0  3.77         29.5   94.0  33.0  30.5  12.75           0  \n",
       "4914            425.0  3.10         31.0   87.0  34.0  30.0  16.90           0  \n",
       "\n",
       "[4915 rows x 60 columns]"
      ]
     },
     "execution_count": 8,
     "metadata": {},
     "output_type": "execute_result"
    }
   ],
   "source": [
    "burns_merged_2"
   ]
  },
  {
   "cell_type": "code",
   "execution_count": 9,
   "id": "1ed11eeb",
   "metadata": {},
   "outputs": [
    {
     "name": "stderr",
     "output_type": "stream",
     "text": [
      "C:\\Users\\nsafa\\Anaconda3\\lib\\site-packages\\pandas\\core\\indexing.py:1637: SettingWithCopyWarning: \n",
      "A value is trying to be set on a copy of a slice from a DataFrame\n",
      "\n",
      "See the caveats in the documentation: https://pandas.pydata.org/pandas-docs/stable/user_guide/indexing.html#returning-a-view-versus-a-copy\n",
      "  self._setitem_single_block(indexer, value, name)\n"
     ]
    }
   ],
   "source": [
    "for i in range(len(burns_merged_2)):\n",
    "    if (burns_merged_2.iloc[i]['pao2'] != -1) & (burns_merged_2.iloc[i]['fio2'] != -1):\n",
    "        if ((burns_merged_2.iloc[i]['pao2']/burns_merged_2.iloc[i]['fio2']) * 100 <= 300) & ((burns_merged_2.iloc[i]['pao2']/burns_merged_2.iloc[i]['fio2']) * 100 >= 226):\n",
    "            burns_merged_2['mods_ratio'].iloc[i] = 1\n",
    "        if ((burns_merged_2.iloc[i]['pao2']/burns_merged_2.iloc[i]['fio2']) * 100 <= 225) & ((burns_merged_2.iloc[i]['pao2']/burns_merged_2.iloc[i]['fio2']) * 100 >= 151):\n",
    "            burns_merged_2['mods_ratio'].iloc[i] = 2\n",
    "        if ((burns_merged_2.iloc[i]['pao2']/burns_merged_2.iloc[i]['fio2']) * 100 <= 150) & ((burns_merged_2.iloc[i]['pao2']/burns_merged_2.iloc[i]['fio2']) * 100 >= 76):\n",
    "            burns_merged_2['mods_ratio'].iloc[i] = 3\n",
    "        if ((burns_merged_2.iloc[i]['pao2']/burns_merged_2.iloc[i]['fio2']) * 100 >= 0) & ((burns_merged_2.iloc[i]['pao2']/burns_merged_2.iloc[i]['fio2']) * 100 <= 75):\n",
    "            burns_merged_2['mods_ratio'].iloc[i] = 4"
   ]
  },
  {
   "cell_type": "code",
   "execution_count": 10,
   "id": "cea9edbe",
   "metadata": {},
   "outputs": [],
   "source": [
    "def platelets(item):\n",
    "    temp = 0\n",
    "    if (item >= 81) & (item <= 120):\n",
    "        temp += 1\n",
    "    elif (51 <= item) & (item <= 80):\n",
    "        temp += 2\n",
    "    elif (21 <= item) & (item <= 50):\n",
    "        temp += 3\n",
    "    elif (20 >= item):\n",
    "        temp += 4\n",
    "    return temp"
   ]
  },
  {
   "cell_type": "code",
   "execution_count": 11,
   "id": "e420a957",
   "metadata": {},
   "outputs": [],
   "source": [
    "burns_merged_2['mods_platelets'] = burns_merged_2['platelets x 1000'].apply(platelets)"
   ]
  },
  {
   "cell_type": "code",
   "execution_count": 12,
   "id": "70a41161",
   "metadata": {},
   "outputs": [],
   "source": [
    "apacheapsdvar = pd.read_csv('ApacheApsVar.csv.gz')"
   ]
  },
  {
   "cell_type": "code",
   "execution_count": 13,
   "id": "2ef51172",
   "metadata": {},
   "outputs": [],
   "source": [
    "burns_merged_3 = pd.merge(apacheapsdvar[['patientunitstayid','bilirubin']], burns_merged_2, how='right', on='patientunitstayid')"
   ]
  },
  {
   "cell_type": "code",
   "execution_count": 14,
   "id": "cd2d78af",
   "metadata": {},
   "outputs": [],
   "source": [
    "def bilirubin(item):\n",
    "    temp = 0\n",
    "    if (item >= 1.3) & (item <= 3.5):\n",
    "        temp += 1\n",
    "    elif (3.6 <= item) & (item <= 7.0):\n",
    "        temp += 2\n",
    "    elif (7.0 <= item) & (item <= 14.0):\n",
    "        temp += 3\n",
    "    elif (14.0 <= item):\n",
    "        temp += 4\n",
    "    return temp"
   ]
  },
  {
   "cell_type": "code",
   "execution_count": 15,
   "id": "c7ad2256",
   "metadata": {},
   "outputs": [],
   "source": [
    "burns_merged_3['mods_bilirubin'] = burns_merged_3['bilirubin'].apply(bilirubin)"
   ]
  },
  {
   "cell_type": "code",
   "execution_count": 16,
   "id": "4d1405c6",
   "metadata": {},
   "outputs": [],
   "source": [
    "burns_merged_3['val_fill'] = burns_merged_3['val'].fillna(burns_merged_3['val'].mean())"
   ]
  },
  {
   "cell_type": "code",
   "execution_count": 17,
   "id": "07eb797a",
   "metadata": {},
   "outputs": [],
   "source": [
    "burns_merged_3['PAHR'] = (burns_merged_3['heartrate'] * burns_merged_3['val'])/burns_merged_3['meanbp']"
   ]
  },
  {
   "cell_type": "code",
   "execution_count": 18,
   "id": "ed3d3f42",
   "metadata": {},
   "outputs": [],
   "source": [
    "burns_merged_3['PAHRF'] = (burns_merged_3['heartrate'] * burns_merged_3['val_fill'])/burns_merged_3['meanbp']"
   ]
  },
  {
   "cell_type": "code",
   "execution_count": 19,
   "id": "603fa1df",
   "metadata": {},
   "outputs": [
    {
     "data": {
      "text/plain": [
       "21.91657767132443"
      ]
     },
     "execution_count": 19,
     "metadata": {},
     "output_type": "execute_result"
    }
   ],
   "source": [
    "burns_merged_3['PAHRF'].mean()"
   ]
  },
  {
   "cell_type": "code",
   "execution_count": 20,
   "id": "01df8931",
   "metadata": {},
   "outputs": [],
   "source": [
    "def ad_pressure(item):\n",
    "    temp = 0\n",
    "    if (item >= 10.1) & (item <= 15):\n",
    "        temp += 1\n",
    "    elif (item >= 15.1) & (item <= 20):\n",
    "        temp += 2\n",
    "    elif (item >= 20.1) & (item <= 30):\n",
    "        temp += 3\n",
    "    elif (item >= 30.1):\n",
    "        temp += 4\n",
    "    return temp"
   ]
  },
  {
   "cell_type": "code",
   "execution_count": 21,
   "id": "bc9fec36",
   "metadata": {},
   "outputs": [],
   "source": [
    "burns_merged_3['mods_pressure'] = burns_merged_3['PAHR'].apply(ad_pressure)"
   ]
  },
  {
   "cell_type": "code",
   "execution_count": 22,
   "id": "05b61910",
   "metadata": {},
   "outputs": [],
   "source": [
    "burns_merged_3['GCS'] = burns_merged_3['eyes'] + burns_merged_3['motor'] + burns_merged_3['verbal']"
   ]
  },
  {
   "cell_type": "code",
   "execution_count": 23,
   "id": "ba98e3c7",
   "metadata": {},
   "outputs": [],
   "source": [
    "def GCS(item):\n",
    "    temp = 0\n",
    "    if (item >= 13) & (item <= 14):\n",
    "        temp += 1\n",
    "    elif (10 <= item) & (item <= 12):\n",
    "        temp += 2\n",
    "    elif (6 <= item) & (item <= 9):\n",
    "        temp += 3\n",
    "    elif (6 > item):\n",
    "        temp += 4\n",
    "    return temp"
   ]
  },
  {
   "cell_type": "code",
   "execution_count": 24,
   "id": "5eb7e243",
   "metadata": {},
   "outputs": [],
   "source": [
    "burns_merged_3['mods_GCS'] = burns_merged_3['GCS'].apply(GCS)"
   ]
  },
  {
   "cell_type": "code",
   "execution_count": 25,
   "id": "c9ad78fb",
   "metadata": {},
   "outputs": [],
   "source": [
    "def creatinine(item):\n",
    "    temp = 0\n",
    "    if (item >= 1.2) & (item <= 2.2):\n",
    "        temp += 1\n",
    "    elif (2.3 <= item) & (item <= 3.9):\n",
    "        temp += 2\n",
    "    elif (4 <= item) & (item <= 5.7):\n",
    "        temp += 3\n",
    "    elif (5.7 < item):\n",
    "        temp += 4\n",
    "    return temp"
   ]
  },
  {
   "cell_type": "code",
   "execution_count": 26,
   "id": "9e1dfda1",
   "metadata": {},
   "outputs": [],
   "source": [
    "burns_merged_3['mods_creatinine'] = burns_merged_3['creatinine'].apply(creatinine)"
   ]
  },
  {
   "cell_type": "code",
   "execution_count": 27,
   "id": "ac52dc30",
   "metadata": {},
   "outputs": [
    {
     "data": {
      "text/plain": [
       "Index(['patientunitstayid', 'bilirubin', 'pao2', 'fio2', 'val', 'gender',\n",
       "       'age', 'ethnicity', 'apacheadmissiondx', 'admissionheight',\n",
       "       'hospitaladmitoffset', 'unittype', 'unitadmitsource', 'unitstaytype',\n",
       "       'admissionweight', 'intubated', 'dialysis', 'temperature',\n",
       "       'respiratoryrate', 'heartrate', 'meanbp', 'hematocrit',\n",
       "       'actualicumortality', 'preopmi', 'preopcardiaccath', 'ptcawithin24h',\n",
       "       'meds', 'verbal', 'motor', 'eyes', 'thrombolytics', 'aids',\n",
       "       'hepaticfailure', 'lymphoma', 'immunosuppression', 'cirrhosis',\n",
       "       'activetx', 'ima', 'midur', 'ventday1', 'oobventday1', 'oobintubday1',\n",
       "       'diabetes', 'diagnosisstring', 'potassium', 'creatinine', 'sodium',\n",
       "       'BUN', 'glucose', 'chloride', 'calcium', 'Hgb', 'WBC x 1000',\n",
       "       'platelets x 1000', 'RBC', 'bicarbonate', 'MCV', 'MCHC', 'MCH', 'RDW',\n",
       "       'mods_ratio', 'mods_platelets', 'mods_bilirubin', 'val_fill', 'PAHR',\n",
       "       'PAHRF', 'mods_pressure', 'GCS', 'mods_GCS', 'mods_creatinine'],\n",
       "      dtype='object')"
      ]
     },
     "execution_count": 27,
     "metadata": {},
     "output_type": "execute_result"
    }
   ],
   "source": [
    "burns_merged_3.columns"
   ]
  },
  {
   "cell_type": "code",
   "execution_count": 28,
   "id": "b1bc20f3",
   "metadata": {},
   "outputs": [],
   "source": [
    "burns_merged_3['mods_score'] = burns_merged_3[['mods_ratio', 'mods_platelets', 'mods_bilirubin',\n",
    "        'mods_pressure', 'mods_GCS', 'mods_creatinine']].sum(axis=1)"
   ]
  },
  {
   "cell_type": "code",
   "execution_count": 29,
   "id": "84f9c23a",
   "metadata": {},
   "outputs": [],
   "source": [
    "burns_merged_3['actualicumortality_label'] = burns_merged_3['actualicumortality'].apply(lambda x: 1 if x =='EXPIRED' else 0)"
   ]
  },
  {
   "cell_type": "code",
   "execution_count": 30,
   "id": "4d1144e2",
   "metadata": {},
   "outputs": [],
   "source": [
    "def mods_predict(item):\n",
    "    temp = 0\n",
    "    if (item >= 1) & (item <= 4):\n",
    "        temp = 1.5\n",
    "    elif (item >= 5) & (item <= 8):\n",
    "        temp = 4.0\n",
    "    elif (item >= 9) & (item <= 12):\n",
    "        temp = 25\n",
    "    elif (item >= 13) & (item <= 16):\n",
    "        temp = 50\n",
    "    elif (item >= 17) & (item <= 20):\n",
    "        temp = 75\n",
    "    elif (item >= 21) & (item <= 24):\n",
    "        temp = 100\n",
    "    return temp"
   ]
  },
  {
   "cell_type": "code",
   "execution_count": 31,
   "id": "bd8f5a1e",
   "metadata": {},
   "outputs": [
    {
     "data": {
      "text/plain": [
       "19"
      ]
     },
     "execution_count": 31,
     "metadata": {},
     "output_type": "execute_result"
    }
   ],
   "source": [
    "burns_merged_3['mods_score'].max()"
   ]
  },
  {
   "cell_type": "code",
   "execution_count": 32,
   "id": "8045ea4b",
   "metadata": {},
   "outputs": [],
   "source": [
    "burns_merged_3['mods_prob'] = burns_merged_3['mods_score'].apply(mods_predict)"
   ]
  },
  {
   "cell_type": "code",
   "execution_count": 33,
   "id": "16d22461",
   "metadata": {},
   "outputs": [],
   "source": [
    "fpr, tpr, thresholds = metrics.roc_curve(burns_merged_3['actualicumortality_label'].values, burns_merged_3['mods_prob'].values, pos_label=1)"
   ]
  },
  {
   "cell_type": "code",
   "execution_count": 34,
   "id": "ca2a35d8",
   "metadata": {},
   "outputs": [
    {
     "data": {
      "text/plain": [
       "0.8024665488513001"
      ]
     },
     "execution_count": 34,
     "metadata": {},
     "output_type": "execute_result"
    }
   ],
   "source": [
    "metrics.auc(fpr, tpr)"
   ]
  },
  {
   "cell_type": "code",
   "execution_count": 35,
   "id": "6072b3bb",
   "metadata": {},
   "outputs": [
    {
     "data": {
      "text/plain": [
       "0       1.5\n",
       "1       1.5\n",
       "2       1.5\n",
       "3       1.5\n",
       "4       1.5\n",
       "       ... \n",
       "4910    0.0\n",
       "4911    1.5\n",
       "4912    4.0\n",
       "4913    0.0\n",
       "4914    0.0\n",
       "Name: mods_prob, Length: 4915, dtype: float64"
      ]
     },
     "execution_count": 35,
     "metadata": {},
     "output_type": "execute_result"
    }
   ],
   "source": [
    "burns_merged_3['mods_prob']"
   ]
  },
  {
   "cell_type": "code",
   "execution_count": null,
   "id": "a2bf8d2a",
   "metadata": {},
   "outputs": [],
   "source": []
  }
 ],
 "metadata": {
  "kernelspec": {
   "display_name": "Python 3",
   "language": "python",
   "name": "python3"
  },
  "language_info": {
   "codemirror_mode": {
    "name": "ipython",
    "version": 3
   },
   "file_extension": ".py",
   "mimetype": "text/x-python",
   "name": "python",
   "nbconvert_exporter": "python",
   "pygments_lexer": "ipython3",
   "version": "3.7.0"
  }
 },
 "nbformat": 4,
 "nbformat_minor": 5
}
