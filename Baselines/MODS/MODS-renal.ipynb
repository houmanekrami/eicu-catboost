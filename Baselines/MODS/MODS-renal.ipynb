{
 "cells": [
  {
   "cell_type": "code",
   "execution_count": 1,
   "id": "5c279948",
   "metadata": {},
   "outputs": [],
   "source": [
    "import pandas as pd\n",
    "import numpy as np\n",
    "from sklearn import metrics"
   ]
  },
  {
   "cell_type": "code",
   "execution_count": 2,
   "id": "cf8a142d",
   "metadata": {},
   "outputs": [],
   "source": [
    "burns=pd.read_csv(\"data2/renal.csv\")"
   ]
  },
  {
   "cell_type": "code",
   "execution_count": 3,
   "id": "22ab7885",
   "metadata": {},
   "outputs": [],
   "source": [
    "cvp=pd.read_csv(\"CVP.csv\")"
   ]
  },
  {
   "cell_type": "code",
   "execution_count": 4,
   "id": "0b98c2bc",
   "metadata": {},
   "outputs": [],
   "source": [
    "burns_merged = pd.merge(cvp[['patientunitstayid','val']], burns, how='right', on='patientunitstayid')"
   ]
  },
  {
   "cell_type": "code",
   "execution_count": 5,
   "id": "16bc57f3",
   "metadata": {},
   "outputs": [],
   "source": [
    "apachepredvar = pd.read_csv('apachePredVar.csv.gz')"
   ]
  },
  {
   "cell_type": "code",
   "execution_count": 6,
   "id": "3b6d400a",
   "metadata": {},
   "outputs": [],
   "source": [
    "burns_merged_2 = pd.merge(apachepredvar[['patientunitstayid','pao2','fio2']], burns_merged, how='right', on='patientunitstayid')"
   ]
  },
  {
   "cell_type": "code",
   "execution_count": 7,
   "id": "4ad83714",
   "metadata": {},
   "outputs": [],
   "source": [
    "burns_merged_2['mods_ratio'] = 0"
   ]
  },
  {
   "cell_type": "code",
   "execution_count": 8,
   "id": "6f9c8fed",
   "metadata": {},
   "outputs": [
    {
     "data": {
      "text/html": [
       "<div>\n",
       "<style scoped>\n",
       "    .dataframe tbody tr th:only-of-type {\n",
       "        vertical-align: middle;\n",
       "    }\n",
       "\n",
       "    .dataframe tbody tr th {\n",
       "        vertical-align: top;\n",
       "    }\n",
       "\n",
       "    .dataframe thead th {\n",
       "        text-align: right;\n",
       "    }\n",
       "</style>\n",
       "<table border=\"1\" class=\"dataframe\">\n",
       "  <thead>\n",
       "    <tr style=\"text-align: right;\">\n",
       "      <th></th>\n",
       "      <th>patientunitstayid</th>\n",
       "      <th>pao2</th>\n",
       "      <th>fio2</th>\n",
       "      <th>val</th>\n",
       "      <th>gender</th>\n",
       "      <th>age</th>\n",
       "      <th>ethnicity</th>\n",
       "      <th>apacheadmissiondx</th>\n",
       "      <th>admissionheight</th>\n",
       "      <th>hospitaladmitoffset</th>\n",
       "      <th>...</th>\n",
       "      <th>Hgb</th>\n",
       "      <th>WBC x 1000</th>\n",
       "      <th>platelets x 1000</th>\n",
       "      <th>RBC</th>\n",
       "      <th>bicarbonate</th>\n",
       "      <th>MCV</th>\n",
       "      <th>MCHC</th>\n",
       "      <th>MCH</th>\n",
       "      <th>RDW</th>\n",
       "      <th>mods_ratio</th>\n",
       "    </tr>\n",
       "  </thead>\n",
       "  <tbody>\n",
       "    <tr>\n",
       "      <th>0</th>\n",
       "      <td>141515</td>\n",
       "      <td>85.0</td>\n",
       "      <td>70.0</td>\n",
       "      <td>6.974684</td>\n",
       "      <td>Female</td>\n",
       "      <td>68.0</td>\n",
       "      <td>Caucasian</td>\n",
       "      <td>Sepsis, unknown</td>\n",
       "      <td>165.1</td>\n",
       "      <td>-1092.0</td>\n",
       "      <td>...</td>\n",
       "      <td>10.40</td>\n",
       "      <td>10.00</td>\n",
       "      <td>30.0</td>\n",
       "      <td>3.290</td>\n",
       "      <td>20.000000</td>\n",
       "      <td>92.1</td>\n",
       "      <td>34.30</td>\n",
       "      <td>31.6</td>\n",
       "      <td>16.70</td>\n",
       "      <td>0</td>\n",
       "    </tr>\n",
       "    <tr>\n",
       "      <th>1</th>\n",
       "      <td>141651</td>\n",
       "      <td>-1.0</td>\n",
       "      <td>-1.0</td>\n",
       "      <td>NaN</td>\n",
       "      <td>Female</td>\n",
       "      <td>71.0</td>\n",
       "      <td>-</td>\n",
       "      <td>Hypertension, uncontrolled (for cerebrovascula...</td>\n",
       "      <td>162.6</td>\n",
       "      <td>-9.0</td>\n",
       "      <td>...</td>\n",
       "      <td>10.10</td>\n",
       "      <td>5.40</td>\n",
       "      <td>192.0</td>\n",
       "      <td>3.430</td>\n",
       "      <td>27.000000</td>\n",
       "      <td>95.0</td>\n",
       "      <td>31.00</td>\n",
       "      <td>29.4</td>\n",
       "      <td>14.40</td>\n",
       "      <td>0</td>\n",
       "    </tr>\n",
       "    <tr>\n",
       "      <th>2</th>\n",
       "      <td>141944</td>\n",
       "      <td>-1.0</td>\n",
       "      <td>-1.0</td>\n",
       "      <td>NaN</td>\n",
       "      <td>Female</td>\n",
       "      <td>72.0</td>\n",
       "      <td>Hispanic</td>\n",
       "      <td>Sepsis, unknown</td>\n",
       "      <td>167.6</td>\n",
       "      <td>-10335.0</td>\n",
       "      <td>...</td>\n",
       "      <td>8.10</td>\n",
       "      <td>9.20</td>\n",
       "      <td>165.5</td>\n",
       "      <td>2.570</td>\n",
       "      <td>22.838696</td>\n",
       "      <td>103.1</td>\n",
       "      <td>30.55</td>\n",
       "      <td>31.5</td>\n",
       "      <td>17.45</td>\n",
       "      <td>0</td>\n",
       "    </tr>\n",
       "    <tr>\n",
       "      <th>3</th>\n",
       "      <td>141945</td>\n",
       "      <td>-1.0</td>\n",
       "      <td>-1.0</td>\n",
       "      <td>NaN</td>\n",
       "      <td>Female</td>\n",
       "      <td>72.0</td>\n",
       "      <td>Hispanic</td>\n",
       "      <td>Sepsis, other</td>\n",
       "      <td>167.6</td>\n",
       "      <td>-7.0</td>\n",
       "      <td>...</td>\n",
       "      <td>8.15</td>\n",
       "      <td>11.10</td>\n",
       "      <td>150.0</td>\n",
       "      <td>2.570</td>\n",
       "      <td>33.000000</td>\n",
       "      <td>96.1</td>\n",
       "      <td>32.40</td>\n",
       "      <td>31.1</td>\n",
       "      <td>18.60</td>\n",
       "      <td>0</td>\n",
       "    </tr>\n",
       "    <tr>\n",
       "      <th>4</th>\n",
       "      <td>142923</td>\n",
       "      <td>89.0</td>\n",
       "      <td>30.0</td>\n",
       "      <td>6.000000</td>\n",
       "      <td>Female</td>\n",
       "      <td>72.0</td>\n",
       "      <td>African American</td>\n",
       "      <td>Emphysema/bronchitis</td>\n",
       "      <td>149.9</td>\n",
       "      <td>-3827.0</td>\n",
       "      <td>...</td>\n",
       "      <td>8.10</td>\n",
       "      <td>6.20</td>\n",
       "      <td>268.0</td>\n",
       "      <td>2.820</td>\n",
       "      <td>29.000000</td>\n",
       "      <td>92.6</td>\n",
       "      <td>31.00</td>\n",
       "      <td>28.7</td>\n",
       "      <td>21.80</td>\n",
       "      <td>0</td>\n",
       "    </tr>\n",
       "    <tr>\n",
       "      <th>...</th>\n",
       "      <td>...</td>\n",
       "      <td>...</td>\n",
       "      <td>...</td>\n",
       "      <td>...</td>\n",
       "      <td>...</td>\n",
       "      <td>...</td>\n",
       "      <td>...</td>\n",
       "      <td>...</td>\n",
       "      <td>...</td>\n",
       "      <td>...</td>\n",
       "      <td>...</td>\n",
       "      <td>...</td>\n",
       "      <td>...</td>\n",
       "      <td>...</td>\n",
       "      <td>...</td>\n",
       "      <td>...</td>\n",
       "      <td>...</td>\n",
       "      <td>...</td>\n",
       "      <td>...</td>\n",
       "      <td>...</td>\n",
       "      <td>...</td>\n",
       "    </tr>\n",
       "    <tr>\n",
       "      <th>18131</th>\n",
       "      <td>3353087</td>\n",
       "      <td>65.0</td>\n",
       "      <td>100.0</td>\n",
       "      <td>25.000000</td>\n",
       "      <td>Female</td>\n",
       "      <td>66.0</td>\n",
       "      <td>Caucasian</td>\n",
       "      <td>CHF, congestive heart failure</td>\n",
       "      <td>160.0</td>\n",
       "      <td>-2181.0</td>\n",
       "      <td>...</td>\n",
       "      <td>11.45</td>\n",
       "      <td>12.95</td>\n",
       "      <td>206.0</td>\n",
       "      <td>3.965</td>\n",
       "      <td>17.500000</td>\n",
       "      <td>94.0</td>\n",
       "      <td>31.00</td>\n",
       "      <td>29.0</td>\n",
       "      <td>25.35</td>\n",
       "      <td>0</td>\n",
       "    </tr>\n",
       "    <tr>\n",
       "      <th>18132</th>\n",
       "      <td>3353116</td>\n",
       "      <td>162.0</td>\n",
       "      <td>60.0</td>\n",
       "      <td>NaN</td>\n",
       "      <td>Male</td>\n",
       "      <td>85.0</td>\n",
       "      <td>Caucasian</td>\n",
       "      <td>Coma/change in level of consciousness (for hep...</td>\n",
       "      <td>162.6</td>\n",
       "      <td>0.0</td>\n",
       "      <td>...</td>\n",
       "      <td>11.50</td>\n",
       "      <td>18.70</td>\n",
       "      <td>213.0</td>\n",
       "      <td>3.600</td>\n",
       "      <td>23.500000</td>\n",
       "      <td>95.0</td>\n",
       "      <td>32.50</td>\n",
       "      <td>31.0</td>\n",
       "      <td>13.55</td>\n",
       "      <td>0</td>\n",
       "    </tr>\n",
       "    <tr>\n",
       "      <th>18133</th>\n",
       "      <td>3353127</td>\n",
       "      <td>-1.0</td>\n",
       "      <td>-1.0</td>\n",
       "      <td>NaN</td>\n",
       "      <td>Male</td>\n",
       "      <td>59.0</td>\n",
       "      <td>Caucasian</td>\n",
       "      <td>Hypertension-pulmonary, primary/idiopathic</td>\n",
       "      <td>165.1</td>\n",
       "      <td>-4226.0</td>\n",
       "      <td>...</td>\n",
       "      <td>11.70</td>\n",
       "      <td>11.50</td>\n",
       "      <td>153.0</td>\n",
       "      <td>4.320</td>\n",
       "      <td>26.000000</td>\n",
       "      <td>83.0</td>\n",
       "      <td>33.00</td>\n",
       "      <td>27.0</td>\n",
       "      <td>21.80</td>\n",
       "      <td>0</td>\n",
       "    </tr>\n",
       "    <tr>\n",
       "      <th>18134</th>\n",
       "      <td>3353144</td>\n",
       "      <td>389.0</td>\n",
       "      <td>100.0</td>\n",
       "      <td>13.333333</td>\n",
       "      <td>Male</td>\n",
       "      <td>51.0</td>\n",
       "      <td>African American</td>\n",
       "      <td>Renal failure, acute</td>\n",
       "      <td>180.3</td>\n",
       "      <td>0.0</td>\n",
       "      <td>...</td>\n",
       "      <td>10.75</td>\n",
       "      <td>20.65</td>\n",
       "      <td>127.0</td>\n",
       "      <td>3.375</td>\n",
       "      <td>21.500000</td>\n",
       "      <td>95.5</td>\n",
       "      <td>33.00</td>\n",
       "      <td>32.0</td>\n",
       "      <td>20.95</td>\n",
       "      <td>0</td>\n",
       "    </tr>\n",
       "    <tr>\n",
       "      <th>18135</th>\n",
       "      <td>3353254</td>\n",
       "      <td>-1.0</td>\n",
       "      <td>-1.0</td>\n",
       "      <td>NaN</td>\n",
       "      <td>Male</td>\n",
       "      <td>81.0</td>\n",
       "      <td>Caucasian</td>\n",
       "      <td>Bleeding, lower GI</td>\n",
       "      <td>185.4</td>\n",
       "      <td>-271.0</td>\n",
       "      <td>...</td>\n",
       "      <td>8.80</td>\n",
       "      <td>15.30</td>\n",
       "      <td>183.0</td>\n",
       "      <td>2.750</td>\n",
       "      <td>20.000000</td>\n",
       "      <td>92.0</td>\n",
       "      <td>33.00</td>\n",
       "      <td>30.0</td>\n",
       "      <td>16.30</td>\n",
       "      <td>0</td>\n",
       "    </tr>\n",
       "  </tbody>\n",
       "</table>\n",
       "<p>18136 rows × 60 columns</p>\n",
       "</div>"
      ],
      "text/plain": [
       "       patientunitstayid   pao2   fio2        val  gender   age  \\\n",
       "0                 141515   85.0   70.0   6.974684  Female  68.0   \n",
       "1                 141651   -1.0   -1.0        NaN  Female  71.0   \n",
       "2                 141944   -1.0   -1.0        NaN  Female  72.0   \n",
       "3                 141945   -1.0   -1.0        NaN  Female  72.0   \n",
       "4                 142923   89.0   30.0   6.000000  Female  72.0   \n",
       "...                  ...    ...    ...        ...     ...   ...   \n",
       "18131            3353087   65.0  100.0  25.000000  Female  66.0   \n",
       "18132            3353116  162.0   60.0        NaN    Male  85.0   \n",
       "18133            3353127   -1.0   -1.0        NaN    Male  59.0   \n",
       "18134            3353144  389.0  100.0  13.333333    Male  51.0   \n",
       "18135            3353254   -1.0   -1.0        NaN    Male  81.0   \n",
       "\n",
       "              ethnicity                                  apacheadmissiondx  \\\n",
       "0             Caucasian                                    Sepsis, unknown   \n",
       "1                     -  Hypertension, uncontrolled (for cerebrovascula...   \n",
       "2              Hispanic                                    Sepsis, unknown   \n",
       "3              Hispanic                                      Sepsis, other   \n",
       "4      African American                               Emphysema/bronchitis   \n",
       "...                 ...                                                ...   \n",
       "18131         Caucasian                      CHF, congestive heart failure   \n",
       "18132         Caucasian  Coma/change in level of consciousness (for hep...   \n",
       "18133         Caucasian         Hypertension-pulmonary, primary/idiopathic   \n",
       "18134  African American                               Renal failure, acute   \n",
       "18135         Caucasian                                 Bleeding, lower GI   \n",
       "\n",
       "       admissionheight  hospitaladmitoffset  ...    Hgb WBC x 1000  \\\n",
       "0                165.1              -1092.0  ...  10.40      10.00   \n",
       "1                162.6                 -9.0  ...  10.10       5.40   \n",
       "2                167.6             -10335.0  ...   8.10       9.20   \n",
       "3                167.6                 -7.0  ...   8.15      11.10   \n",
       "4                149.9              -3827.0  ...   8.10       6.20   \n",
       "...                ...                  ...  ...    ...        ...   \n",
       "18131            160.0              -2181.0  ...  11.45      12.95   \n",
       "18132            162.6                  0.0  ...  11.50      18.70   \n",
       "18133            165.1              -4226.0  ...  11.70      11.50   \n",
       "18134            180.3                  0.0  ...  10.75      20.65   \n",
       "18135            185.4               -271.0  ...   8.80      15.30   \n",
       "\n",
       "      platelets x 1000    RBC  bicarbonate    MCV   MCHC   MCH    RDW  \\\n",
       "0                 30.0  3.290    20.000000   92.1  34.30  31.6  16.70   \n",
       "1                192.0  3.430    27.000000   95.0  31.00  29.4  14.40   \n",
       "2                165.5  2.570    22.838696  103.1  30.55  31.5  17.45   \n",
       "3                150.0  2.570    33.000000   96.1  32.40  31.1  18.60   \n",
       "4                268.0  2.820    29.000000   92.6  31.00  28.7  21.80   \n",
       "...                ...    ...          ...    ...    ...   ...    ...   \n",
       "18131            206.0  3.965    17.500000   94.0  31.00  29.0  25.35   \n",
       "18132            213.0  3.600    23.500000   95.0  32.50  31.0  13.55   \n",
       "18133            153.0  4.320    26.000000   83.0  33.00  27.0  21.80   \n",
       "18134            127.0  3.375    21.500000   95.5  33.00  32.0  20.95   \n",
       "18135            183.0  2.750    20.000000   92.0  33.00  30.0  16.30   \n",
       "\n",
       "       mods_ratio  \n",
       "0               0  \n",
       "1               0  \n",
       "2               0  \n",
       "3               0  \n",
       "4               0  \n",
       "...           ...  \n",
       "18131           0  \n",
       "18132           0  \n",
       "18133           0  \n",
       "18134           0  \n",
       "18135           0  \n",
       "\n",
       "[18136 rows x 60 columns]"
      ]
     },
     "execution_count": 8,
     "metadata": {},
     "output_type": "execute_result"
    }
   ],
   "source": [
    "burns_merged_2"
   ]
  },
  {
   "cell_type": "code",
   "execution_count": 9,
   "id": "759a3322",
   "metadata": {},
   "outputs": [
    {
     "name": "stderr",
     "output_type": "stream",
     "text": [
      "C:\\Users\\nsafa\\Anaconda3\\lib\\site-packages\\pandas\\core\\indexing.py:1637: SettingWithCopyWarning: \n",
      "A value is trying to be set on a copy of a slice from a DataFrame\n",
      "\n",
      "See the caveats in the documentation: https://pandas.pydata.org/pandas-docs/stable/user_guide/indexing.html#returning-a-view-versus-a-copy\n",
      "  self._setitem_single_block(indexer, value, name)\n"
     ]
    }
   ],
   "source": [
    "for i in range(len(burns_merged_2)):\n",
    "    if (burns_merged_2.iloc[i]['pao2'] != -1) & (burns_merged_2.iloc[i]['fio2'] != -1):\n",
    "        if ((burns_merged_2.iloc[i]['pao2']/burns_merged_2.iloc[i]['fio2']) * 100 <= 300) & ((burns_merged_2.iloc[i]['pao2']/burns_merged_2.iloc[i]['fio2']) * 100 >= 226):\n",
    "            burns_merged_2['mods_ratio'].iloc[i] = 1\n",
    "        if ((burns_merged_2.iloc[i]['pao2']/burns_merged_2.iloc[i]['fio2']) * 100 <= 225) & ((burns_merged_2.iloc[i]['pao2']/burns_merged_2.iloc[i]['fio2']) * 100 >= 151):\n",
    "            burns_merged_2['mods_ratio'].iloc[i] = 2\n",
    "        if ((burns_merged_2.iloc[i]['pao2']/burns_merged_2.iloc[i]['fio2']) * 100 <= 150) & ((burns_merged_2.iloc[i]['pao2']/burns_merged_2.iloc[i]['fio2']) * 100 >= 76):\n",
    "            burns_merged_2['mods_ratio'].iloc[i] = 3\n",
    "        if ((burns_merged_2.iloc[i]['pao2']/burns_merged_2.iloc[i]['fio2']) * 100 >= 0) & ((burns_merged_2.iloc[i]['pao2']/burns_merged_2.iloc[i]['fio2']) * 100 <= 75):\n",
    "            burns_merged_2['mods_ratio'].iloc[i] = 4"
   ]
  },
  {
   "cell_type": "code",
   "execution_count": 10,
   "id": "9685e956",
   "metadata": {},
   "outputs": [],
   "source": [
    "def platelets(item):\n",
    "    temp = 0\n",
    "    if (item >= 81) & (item <= 120):\n",
    "        temp += 1\n",
    "    elif (51 <= item) & (item <= 80):\n",
    "        temp += 2\n",
    "    elif (21 <= item) & (item <= 50):\n",
    "        temp += 3\n",
    "    elif (20 >= item):\n",
    "        temp += 4\n",
    "    return temp"
   ]
  },
  {
   "cell_type": "code",
   "execution_count": 11,
   "id": "f22c582c",
   "metadata": {},
   "outputs": [],
   "source": [
    "burns_merged_2['mods_platelets'] = burns_merged_2['platelets x 1000'].apply(platelets)"
   ]
  },
  {
   "cell_type": "code",
   "execution_count": 12,
   "id": "5407040c",
   "metadata": {},
   "outputs": [],
   "source": [
    "apacheapsdvar = pd.read_csv('ApacheApsVar.csv.gz')"
   ]
  },
  {
   "cell_type": "code",
   "execution_count": 13,
   "id": "36885b6c",
   "metadata": {},
   "outputs": [],
   "source": [
    "burns_merged_3 = pd.merge(apacheapsdvar[['patientunitstayid','bilirubin']], burns_merged_2, how='right', on='patientunitstayid')"
   ]
  },
  {
   "cell_type": "code",
   "execution_count": 14,
   "id": "ce0a1f26",
   "metadata": {},
   "outputs": [],
   "source": [
    "def bilirubin(item):\n",
    "    temp = 0\n",
    "    if (item >= 1.3) & (item <= 3.5):\n",
    "        temp += 1\n",
    "    elif (3.6 <= item) & (item <= 7.0):\n",
    "        temp += 2\n",
    "    elif (7.0 <= item) & (item <= 14.0):\n",
    "        temp += 3\n",
    "    elif (14.0 <= item):\n",
    "        temp += 4\n",
    "    return temp"
   ]
  },
  {
   "cell_type": "code",
   "execution_count": 15,
   "id": "25ec9920",
   "metadata": {},
   "outputs": [],
   "source": [
    "burns_merged_3['mods_bilirubin'] = burns_merged_3['bilirubin'].apply(bilirubin)"
   ]
  },
  {
   "cell_type": "code",
   "execution_count": 16,
   "id": "3a4e3cf3",
   "metadata": {},
   "outputs": [],
   "source": [
    "burns_merged_3['val_fill'] = burns_merged_3['val'].fillna(burns_merged_3['val'].mean())"
   ]
  },
  {
   "cell_type": "code",
   "execution_count": 17,
   "id": "fbc98188",
   "metadata": {},
   "outputs": [],
   "source": [
    "burns_merged_3['PAHR'] = (burns_merged_3['heartrate'] * burns_merged_3['val'])/burns_merged_3['meanbp']"
   ]
  },
  {
   "cell_type": "code",
   "execution_count": 18,
   "id": "43a38e9c",
   "metadata": {},
   "outputs": [],
   "source": [
    "burns_merged_3['PAHRF'] = (burns_merged_3['heartrate'] * burns_merged_3['val_fill'])/burns_merged_3['meanbp']"
   ]
  },
  {
   "cell_type": "code",
   "execution_count": 19,
   "id": "0b443193",
   "metadata": {},
   "outputs": [
    {
     "data": {
      "text/plain": [
       "24.378431191617253"
      ]
     },
     "execution_count": 19,
     "metadata": {},
     "output_type": "execute_result"
    }
   ],
   "source": [
    "burns_merged_3['PAHRF'].mean()"
   ]
  },
  {
   "cell_type": "code",
   "execution_count": 20,
   "id": "528f7df2",
   "metadata": {},
   "outputs": [],
   "source": [
    "def ad_pressure(item):\n",
    "    temp = 0\n",
    "    if (item >= 10.1) & (item <= 15):\n",
    "        temp += 1\n",
    "    elif (item >= 15.1) & (item <= 20):\n",
    "        temp += 2\n",
    "    elif (item >= 20.1) & (item <= 30):\n",
    "        temp += 3\n",
    "    elif (item >= 30.1):\n",
    "        temp += 4\n",
    "    return temp"
   ]
  },
  {
   "cell_type": "code",
   "execution_count": 21,
   "id": "71879df0",
   "metadata": {},
   "outputs": [],
   "source": [
    "burns_merged_3['mods_pressure'] = burns_merged_3['PAHR'].apply(ad_pressure)"
   ]
  },
  {
   "cell_type": "code",
   "execution_count": 22,
   "id": "b192fda7",
   "metadata": {},
   "outputs": [],
   "source": [
    "pd.set_option('display.max_rows', 1000)"
   ]
  },
  {
   "cell_type": "code",
   "execution_count": 23,
   "id": "342ab7a4",
   "metadata": {},
   "outputs": [
    {
     "data": {
      "text/plain": [
       "patientunitstayid          0\n",
       "bilirubin                  0\n",
       "pao2                       0\n",
       "fio2                       0\n",
       "val                    15896\n",
       "gender                     0\n",
       "age                        0\n",
       "ethnicity                  0\n",
       "apacheadmissiondx          0\n",
       "admissionheight            0\n",
       "hospitaladmitoffset        0\n",
       "unittype                   0\n",
       "unitadmitsource            0\n",
       "unitstaytype               0\n",
       "admissionweight            0\n",
       "intubated                  0\n",
       "dialysis                   0\n",
       "temperature                0\n",
       "respiratoryrate            0\n",
       "heartrate                  0\n",
       "meanbp                     0\n",
       "hematocrit                 0\n",
       "actualicumortality         0\n",
       "preopmi                    0\n",
       "preopcardiaccath           0\n",
       "ptcawithin24h              0\n",
       "meds                       0\n",
       "verbal                     0\n",
       "motor                      0\n",
       "eyes                       0\n",
       "thrombolytics              0\n",
       "aids                       0\n",
       "hepaticfailure             0\n",
       "lymphoma                   0\n",
       "immunosuppression          0\n",
       "cirrhosis                  0\n",
       "activetx                   0\n",
       "ima                        0\n",
       "midur                      0\n",
       "ventday1                   0\n",
       "oobventday1                0\n",
       "oobintubday1               0\n",
       "diabetes                   0\n",
       "diagnosisstring            0\n",
       "potassium                  0\n",
       "creatinine                 0\n",
       "sodium                     0\n",
       "BUN                        0\n",
       "glucose                    0\n",
       "chloride                   0\n",
       "calcium                    0\n",
       "Hgb                        0\n",
       "WBC x 1000                 0\n",
       "platelets x 1000           0\n",
       "RBC                        0\n",
       "bicarbonate                0\n",
       "MCV                        0\n",
       "MCHC                       0\n",
       "MCH                        0\n",
       "RDW                        0\n",
       "mods_ratio                 0\n",
       "mods_platelets             0\n",
       "mods_bilirubin             0\n",
       "val_fill                   0\n",
       "PAHR                   15896\n",
       "PAHRF                      0\n",
       "mods_pressure              0\n",
       "dtype: int64"
      ]
     },
     "execution_count": 23,
     "metadata": {},
     "output_type": "execute_result"
    }
   ],
   "source": [
    "burns_merged_3.isna().sum()"
   ]
  },
  {
   "cell_type": "code",
   "execution_count": 24,
   "id": "2bee6be5",
   "metadata": {},
   "outputs": [],
   "source": [
    "burns_merged_3['GCS'] = burns_merged_3['eyes'] + burns_merged_3['motor'] + burns_merged_3['verbal']"
   ]
  },
  {
   "cell_type": "code",
   "execution_count": 25,
   "id": "4484540a",
   "metadata": {},
   "outputs": [],
   "source": [
    "def GCS(item):\n",
    "    temp = 0\n",
    "    if (item >= 13) & (item <= 14):\n",
    "        temp += 1\n",
    "    elif (10 <= item) & (item <= 12):\n",
    "        temp += 2\n",
    "    elif (6 <= item) & (item <= 9):\n",
    "        temp += 3\n",
    "    elif (6 > item):\n",
    "        temp += 4\n",
    "    return temp"
   ]
  },
  {
   "cell_type": "code",
   "execution_count": 26,
   "id": "c7442780",
   "metadata": {},
   "outputs": [],
   "source": [
    "burns_merged_3['mods_GCS'] = burns_merged_3['GCS'].apply(GCS)"
   ]
  },
  {
   "cell_type": "code",
   "execution_count": 27,
   "id": "ba2ec65c",
   "metadata": {},
   "outputs": [],
   "source": [
    "def creatinine(item):\n",
    "    temp = 0\n",
    "    if (item >= 1.2) & (item <= 2.2):\n",
    "        temp += 1\n",
    "    elif (2.3 <= item) & (item <= 3.9):\n",
    "        temp += 2\n",
    "    elif (4 <= item) & (item <= 5.7):\n",
    "        temp += 3\n",
    "    elif (5.7 < item):\n",
    "        temp += 4\n",
    "    return temp"
   ]
  },
  {
   "cell_type": "code",
   "execution_count": 28,
   "id": "2078dbac",
   "metadata": {},
   "outputs": [],
   "source": [
    "burns_merged_3['mods_creatinine'] = burns_merged_3['creatinine'].apply(creatinine)"
   ]
  },
  {
   "cell_type": "code",
   "execution_count": 29,
   "id": "35c8bddd",
   "metadata": {},
   "outputs": [
    {
     "data": {
      "text/plain": [
       "Index(['patientunitstayid', 'bilirubin', 'pao2', 'fio2', 'val', 'gender',\n",
       "       'age', 'ethnicity', 'apacheadmissiondx', 'admissionheight',\n",
       "       'hospitaladmitoffset', 'unittype', 'unitadmitsource', 'unitstaytype',\n",
       "       'admissionweight', 'intubated', 'dialysis', 'temperature',\n",
       "       'respiratoryrate', 'heartrate', 'meanbp', 'hematocrit',\n",
       "       'actualicumortality', 'preopmi', 'preopcardiaccath', 'ptcawithin24h',\n",
       "       'meds', 'verbal', 'motor', 'eyes', 'thrombolytics', 'aids',\n",
       "       'hepaticfailure', 'lymphoma', 'immunosuppression', 'cirrhosis',\n",
       "       'activetx', 'ima', 'midur', 'ventday1', 'oobventday1', 'oobintubday1',\n",
       "       'diabetes', 'diagnosisstring', 'potassium', 'creatinine', 'sodium',\n",
       "       'BUN', 'glucose', 'chloride', 'calcium', 'Hgb', 'WBC x 1000',\n",
       "       'platelets x 1000', 'RBC', 'bicarbonate', 'MCV', 'MCHC', 'MCH', 'RDW',\n",
       "       'mods_ratio', 'mods_platelets', 'mods_bilirubin', 'val_fill', 'PAHR',\n",
       "       'PAHRF', 'mods_pressure', 'GCS', 'mods_GCS', 'mods_creatinine'],\n",
       "      dtype='object')"
      ]
     },
     "execution_count": 29,
     "metadata": {},
     "output_type": "execute_result"
    }
   ],
   "source": [
    "burns_merged_3.columns"
   ]
  },
  {
   "cell_type": "code",
   "execution_count": 30,
   "id": "d6e4a762",
   "metadata": {},
   "outputs": [],
   "source": [
    "burns_merged_3['mods_score'] = burns_merged_3[['mods_ratio', 'mods_platelets', 'mods_bilirubin',\n",
    "        'mods_pressure', 'mods_GCS', 'mods_creatinine']].sum(axis=1)"
   ]
  },
  {
   "cell_type": "code",
   "execution_count": 31,
   "id": "84f9c23a",
   "metadata": {},
   "outputs": [],
   "source": [
    "burns_merged_3['actualicumortality_label'] = burns_merged_3['actualicumortality'].apply(lambda x: 1 if x =='EXPIRED' else 0)"
   ]
  },
  {
   "cell_type": "code",
   "execution_count": 32,
   "id": "dc3c13af",
   "metadata": {},
   "outputs": [],
   "source": [
    "def mods_predict(item):\n",
    "    temp = 0\n",
    "    if (item >= 1) & (item <= 4):\n",
    "        temp = 1.5\n",
    "    elif (item >= 5) & (item <= 8):\n",
    "        temp = 4.0\n",
    "    elif (item >= 9) & (item <= 12):\n",
    "        temp = 25\n",
    "    elif (item >= 13) & (item <= 16):\n",
    "        temp = 50\n",
    "    elif (item >= 17) & (item <= 20):\n",
    "        temp = 75\n",
    "    elif (item >= 21) & (item <= 24):\n",
    "        temp = 100\n",
    "    return temp"
   ]
  },
  {
   "cell_type": "code",
   "execution_count": 33,
   "id": "e187ecda",
   "metadata": {},
   "outputs": [
    {
     "data": {
      "text/plain": [
       "17"
      ]
     },
     "execution_count": 33,
     "metadata": {},
     "output_type": "execute_result"
    }
   ],
   "source": [
    "burns_merged_3['mods_score'].max()"
   ]
  },
  {
   "cell_type": "code",
   "execution_count": 34,
   "id": "c2f58505",
   "metadata": {},
   "outputs": [],
   "source": [
    "burns_merged_3['mods_prob'] = burns_merged_3['mods_score'].apply(mods_predict)"
   ]
  },
  {
   "cell_type": "code",
   "execution_count": 35,
   "id": "16d22461",
   "metadata": {},
   "outputs": [],
   "source": [
    "fpr, tpr, thresholds = metrics.roc_curve(burns_merged_3['actualicumortality_label'].values, burns_merged_3['mods_prob'].values, pos_label=1)"
   ]
  },
  {
   "cell_type": "code",
   "execution_count": 36,
   "id": "ca2a35d8",
   "metadata": {},
   "outputs": [
    {
     "data": {
      "text/plain": [
       "0.7451028910585229"
      ]
     },
     "execution_count": 36,
     "metadata": {},
     "output_type": "execute_result"
    }
   ],
   "source": [
    "metrics.auc(fpr, tpr)"
   ]
  },
  {
   "cell_type": "code",
   "execution_count": 37,
   "id": "6072b3bb",
   "metadata": {},
   "outputs": [
    {
     "data": {
      "text/plain": [
       "0        25.0\n",
       "1         1.5\n",
       "2         1.5\n",
       "3         1.5\n",
       "4         1.5\n",
       "         ... \n",
       "18131    50.0\n",
       "18132     1.5\n",
       "18133     1.5\n",
       "18134     1.5\n",
       "18135     0.0\n",
       "Name: mods_prob, Length: 18136, dtype: float64"
      ]
     },
     "execution_count": 37,
     "metadata": {},
     "output_type": "execute_result"
    }
   ],
   "source": [
    "burns_merged_3['mods_prob']"
   ]
  },
  {
   "cell_type": "code",
   "execution_count": null,
   "id": "d7ca8c7a",
   "metadata": {},
   "outputs": [],
   "source": []
  }
 ],
 "metadata": {
  "kernelspec": {
   "display_name": "Python 3",
   "language": "python",
   "name": "python3"
  },
  "language_info": {
   "codemirror_mode": {
    "name": "ipython",
    "version": 3
   },
   "file_extension": ".py",
   "mimetype": "text/x-python",
   "name": "python",
   "nbconvert_exporter": "python",
   "pygments_lexer": "ipython3",
   "version": "3.7.0"
  }
 },
 "nbformat": 4,
 "nbformat_minor": 5
}
