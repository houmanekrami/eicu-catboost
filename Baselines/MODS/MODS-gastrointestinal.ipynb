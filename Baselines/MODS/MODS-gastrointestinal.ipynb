{
 "cells": [
  {
   "cell_type": "code",
   "execution_count": 1,
   "id": "5c279948",
   "metadata": {},
   "outputs": [],
   "source": [
    "import pandas as pd\n",
    "import numpy as np\n",
    "from sklearn import metrics"
   ]
  },
  {
   "cell_type": "code",
   "execution_count": 2,
   "id": "cf8a142d",
   "metadata": {},
   "outputs": [],
   "source": [
    "burns=pd.read_csv(\"data2/gastrointestinal.csv\")"
   ]
  },
  {
   "cell_type": "code",
   "execution_count": 3,
   "id": "22ab7885",
   "metadata": {},
   "outputs": [],
   "source": [
    "cvp=pd.read_csv(\"CVP.csv\")"
   ]
  },
  {
   "cell_type": "code",
   "execution_count": 4,
   "id": "0b98c2bc",
   "metadata": {},
   "outputs": [],
   "source": [
    "burns_merged = pd.merge(cvp[['patientunitstayid','val']], burns, how='right', on='patientunitstayid')"
   ]
  },
  {
   "cell_type": "code",
   "execution_count": 5,
   "id": "16bc57f3",
   "metadata": {},
   "outputs": [],
   "source": [
    "apachepredvar = pd.read_csv('apachePredVar.csv.gz')"
   ]
  },
  {
   "cell_type": "code",
   "execution_count": 6,
   "id": "3b6d400a",
   "metadata": {},
   "outputs": [],
   "source": [
    "burns_merged_2 = pd.merge(apachepredvar[['patientunitstayid','pao2','fio2']], burns_merged, how='right', on='patientunitstayid')"
   ]
  },
  {
   "cell_type": "code",
   "execution_count": 7,
   "id": "4ad83714",
   "metadata": {},
   "outputs": [],
   "source": [
    "burns_merged_2['mods_ratio'] = 0"
   ]
  },
  {
   "cell_type": "code",
   "execution_count": 8,
   "id": "6f9c8fed",
   "metadata": {},
   "outputs": [
    {
     "data": {
      "text/html": [
       "<div>\n",
       "<style scoped>\n",
       "    .dataframe tbody tr th:only-of-type {\n",
       "        vertical-align: middle;\n",
       "    }\n",
       "\n",
       "    .dataframe tbody tr th {\n",
       "        vertical-align: top;\n",
       "    }\n",
       "\n",
       "    .dataframe thead th {\n",
       "        text-align: right;\n",
       "    }\n",
       "</style>\n",
       "<table border=\"1\" class=\"dataframe\">\n",
       "  <thead>\n",
       "    <tr style=\"text-align: right;\">\n",
       "      <th></th>\n",
       "      <th>patientunitstayid</th>\n",
       "      <th>pao2</th>\n",
       "      <th>fio2</th>\n",
       "      <th>val</th>\n",
       "      <th>gender</th>\n",
       "      <th>age</th>\n",
       "      <th>ethnicity</th>\n",
       "      <th>apacheadmissiondx</th>\n",
       "      <th>admissionheight</th>\n",
       "      <th>hospitaladmitoffset</th>\n",
       "      <th>...</th>\n",
       "      <th>Hgb</th>\n",
       "      <th>WBC x 1000</th>\n",
       "      <th>platelets x 1000</th>\n",
       "      <th>RBC</th>\n",
       "      <th>bicarbonate</th>\n",
       "      <th>MCV</th>\n",
       "      <th>MCHC</th>\n",
       "      <th>MCH</th>\n",
       "      <th>RDW</th>\n",
       "      <th>mods_ratio</th>\n",
       "    </tr>\n",
       "  </thead>\n",
       "  <tbody>\n",
       "    <tr>\n",
       "      <th>0</th>\n",
       "      <td>141944</td>\n",
       "      <td>-1.0</td>\n",
       "      <td>-1.0</td>\n",
       "      <td>NaN</td>\n",
       "      <td>Female</td>\n",
       "      <td>72.0</td>\n",
       "      <td>Hispanic</td>\n",
       "      <td>Sepsis, unknown</td>\n",
       "      <td>167.6</td>\n",
       "      <td>-10335.0</td>\n",
       "      <td>...</td>\n",
       "      <td>8.100000</td>\n",
       "      <td>9.20</td>\n",
       "      <td>165.5</td>\n",
       "      <td>2.570</td>\n",
       "      <td>22.992198</td>\n",
       "      <td>103.1</td>\n",
       "      <td>30.55</td>\n",
       "      <td>31.5</td>\n",
       "      <td>17.45</td>\n",
       "      <td>0</td>\n",
       "    </tr>\n",
       "    <tr>\n",
       "      <th>1</th>\n",
       "      <td>141945</td>\n",
       "      <td>-1.0</td>\n",
       "      <td>-1.0</td>\n",
       "      <td>NaN</td>\n",
       "      <td>Female</td>\n",
       "      <td>72.0</td>\n",
       "      <td>Hispanic</td>\n",
       "      <td>Sepsis, other</td>\n",
       "      <td>167.6</td>\n",
       "      <td>-7.0</td>\n",
       "      <td>...</td>\n",
       "      <td>8.150000</td>\n",
       "      <td>11.10</td>\n",
       "      <td>150.0</td>\n",
       "      <td>2.570</td>\n",
       "      <td>33.000000</td>\n",
       "      <td>96.1</td>\n",
       "      <td>32.40</td>\n",
       "      <td>31.1</td>\n",
       "      <td>18.60</td>\n",
       "      <td>0</td>\n",
       "    </tr>\n",
       "    <tr>\n",
       "      <th>2</th>\n",
       "      <td>141959</td>\n",
       "      <td>-1.0</td>\n",
       "      <td>-1.0</td>\n",
       "      <td>22.000000</td>\n",
       "      <td>Female</td>\n",
       "      <td>85.0</td>\n",
       "      <td>Caucasian</td>\n",
       "      <td>Sepsis, other</td>\n",
       "      <td>149.9</td>\n",
       "      <td>-1605.0</td>\n",
       "      <td>...</td>\n",
       "      <td>10.100000</td>\n",
       "      <td>12.40</td>\n",
       "      <td>134.0</td>\n",
       "      <td>3.630</td>\n",
       "      <td>26.000000</td>\n",
       "      <td>88.2</td>\n",
       "      <td>31.60</td>\n",
       "      <td>27.8</td>\n",
       "      <td>14.60</td>\n",
       "      <td>0</td>\n",
       "    </tr>\n",
       "    <tr>\n",
       "      <th>3</th>\n",
       "      <td>141978</td>\n",
       "      <td>195.0</td>\n",
       "      <td>60.0</td>\n",
       "      <td>96.142857</td>\n",
       "      <td>Female</td>\n",
       "      <td>77.0</td>\n",
       "      <td>Caucasian</td>\n",
       "      <td>Bleeding-other GI, surgery for</td>\n",
       "      <td>165.1</td>\n",
       "      <td>-10161.0</td>\n",
       "      <td>...</td>\n",
       "      <td>9.800000</td>\n",
       "      <td>14.20</td>\n",
       "      <td>325.0</td>\n",
       "      <td>3.320</td>\n",
       "      <td>23.000000</td>\n",
       "      <td>96.4</td>\n",
       "      <td>30.60</td>\n",
       "      <td>29.5</td>\n",
       "      <td>16.30</td>\n",
       "      <td>0</td>\n",
       "    </tr>\n",
       "    <tr>\n",
       "      <th>4</th>\n",
       "      <td>142096</td>\n",
       "      <td>-1.0</td>\n",
       "      <td>-1.0</td>\n",
       "      <td>NaN</td>\n",
       "      <td>Male</td>\n",
       "      <td>54.0</td>\n",
       "      <td>Caucasian</td>\n",
       "      <td>Bleeding, upper GI</td>\n",
       "      <td>177.8</td>\n",
       "      <td>-2.0</td>\n",
       "      <td>...</td>\n",
       "      <td>8.566667</td>\n",
       "      <td>5.55</td>\n",
       "      <td>79.5</td>\n",
       "      <td>2.740</td>\n",
       "      <td>26.000000</td>\n",
       "      <td>96.0</td>\n",
       "      <td>33.65</td>\n",
       "      <td>32.3</td>\n",
       "      <td>16.85</td>\n",
       "      <td>0</td>\n",
       "    </tr>\n",
       "    <tr>\n",
       "      <th>...</th>\n",
       "      <td>...</td>\n",
       "      <td>...</td>\n",
       "      <td>...</td>\n",
       "      <td>...</td>\n",
       "      <td>...</td>\n",
       "      <td>...</td>\n",
       "      <td>...</td>\n",
       "      <td>...</td>\n",
       "      <td>...</td>\n",
       "      <td>...</td>\n",
       "      <td>...</td>\n",
       "      <td>...</td>\n",
       "      <td>...</td>\n",
       "      <td>...</td>\n",
       "      <td>...</td>\n",
       "      <td>...</td>\n",
       "      <td>...</td>\n",
       "      <td>...</td>\n",
       "      <td>...</td>\n",
       "      <td>...</td>\n",
       "      <td>...</td>\n",
       "    </tr>\n",
       "    <tr>\n",
       "      <th>16689</th>\n",
       "      <td>3353140</td>\n",
       "      <td>-1.0</td>\n",
       "      <td>-1.0</td>\n",
       "      <td>NaN</td>\n",
       "      <td>Female</td>\n",
       "      <td>90.0</td>\n",
       "      <td>African American</td>\n",
       "      <td>Bleeding, lower GI</td>\n",
       "      <td>162.6</td>\n",
       "      <td>-427.0</td>\n",
       "      <td>...</td>\n",
       "      <td>10.900000</td>\n",
       "      <td>5.20</td>\n",
       "      <td>211.0</td>\n",
       "      <td>3.140</td>\n",
       "      <td>24.000000</td>\n",
       "      <td>93.0</td>\n",
       "      <td>33.00</td>\n",
       "      <td>31.0</td>\n",
       "      <td>14.90</td>\n",
       "      <td>0</td>\n",
       "    </tr>\n",
       "    <tr>\n",
       "      <th>16690</th>\n",
       "      <td>3353144</td>\n",
       "      <td>389.0</td>\n",
       "      <td>100.0</td>\n",
       "      <td>13.333333</td>\n",
       "      <td>Male</td>\n",
       "      <td>51.0</td>\n",
       "      <td>African American</td>\n",
       "      <td>Renal failure, acute</td>\n",
       "      <td>180.3</td>\n",
       "      <td>0.0</td>\n",
       "      <td>...</td>\n",
       "      <td>10.750000</td>\n",
       "      <td>20.65</td>\n",
       "      <td>127.0</td>\n",
       "      <td>3.375</td>\n",
       "      <td>21.500000</td>\n",
       "      <td>95.5</td>\n",
       "      <td>33.00</td>\n",
       "      <td>32.0</td>\n",
       "      <td>20.95</td>\n",
       "      <td>0</td>\n",
       "    </tr>\n",
       "    <tr>\n",
       "      <th>16691</th>\n",
       "      <td>3353145</td>\n",
       "      <td>46.0</td>\n",
       "      <td>40.0</td>\n",
       "      <td>NaN</td>\n",
       "      <td>Male</td>\n",
       "      <td>51.0</td>\n",
       "      <td>African American</td>\n",
       "      <td>CVA, cerebrovascular accident/stroke</td>\n",
       "      <td>180.3</td>\n",
       "      <td>-16044.0</td>\n",
       "      <td>...</td>\n",
       "      <td>6.800000</td>\n",
       "      <td>37.65</td>\n",
       "      <td>295.0</td>\n",
       "      <td>2.220</td>\n",
       "      <td>33.500000</td>\n",
       "      <td>95.0</td>\n",
       "      <td>32.50</td>\n",
       "      <td>30.5</td>\n",
       "      <td>18.90</td>\n",
       "      <td>0</td>\n",
       "    </tr>\n",
       "    <tr>\n",
       "      <th>16692</th>\n",
       "      <td>3353200</td>\n",
       "      <td>70.0</td>\n",
       "      <td>30.0</td>\n",
       "      <td>NaN</td>\n",
       "      <td>Female</td>\n",
       "      <td>66.0</td>\n",
       "      <td>Caucasian</td>\n",
       "      <td>Hypovolemia (including dehydration, Do not inc...</td>\n",
       "      <td>157.5</td>\n",
       "      <td>-133891.0</td>\n",
       "      <td>...</td>\n",
       "      <td>8.800000</td>\n",
       "      <td>12.30</td>\n",
       "      <td>179.0</td>\n",
       "      <td>2.340</td>\n",
       "      <td>28.000000</td>\n",
       "      <td>87.0</td>\n",
       "      <td>34.00</td>\n",
       "      <td>29.0</td>\n",
       "      <td>18.50</td>\n",
       "      <td>0</td>\n",
       "    </tr>\n",
       "    <tr>\n",
       "      <th>16693</th>\n",
       "      <td>3353254</td>\n",
       "      <td>-1.0</td>\n",
       "      <td>-1.0</td>\n",
       "      <td>NaN</td>\n",
       "      <td>Male</td>\n",
       "      <td>81.0</td>\n",
       "      <td>Caucasian</td>\n",
       "      <td>Bleeding, lower GI</td>\n",
       "      <td>185.4</td>\n",
       "      <td>-271.0</td>\n",
       "      <td>...</td>\n",
       "      <td>8.800000</td>\n",
       "      <td>15.30</td>\n",
       "      <td>183.0</td>\n",
       "      <td>2.750</td>\n",
       "      <td>20.000000</td>\n",
       "      <td>92.0</td>\n",
       "      <td>33.00</td>\n",
       "      <td>30.0</td>\n",
       "      <td>16.30</td>\n",
       "      <td>0</td>\n",
       "    </tr>\n",
       "  </tbody>\n",
       "</table>\n",
       "<p>16694 rows × 60 columns</p>\n",
       "</div>"
      ],
      "text/plain": [
       "       patientunitstayid   pao2   fio2        val  gender   age  \\\n",
       "0                 141944   -1.0   -1.0        NaN  Female  72.0   \n",
       "1                 141945   -1.0   -1.0        NaN  Female  72.0   \n",
       "2                 141959   -1.0   -1.0  22.000000  Female  85.0   \n",
       "3                 141978  195.0   60.0  96.142857  Female  77.0   \n",
       "4                 142096   -1.0   -1.0        NaN    Male  54.0   \n",
       "...                  ...    ...    ...        ...     ...   ...   \n",
       "16689            3353140   -1.0   -1.0        NaN  Female  90.0   \n",
       "16690            3353144  389.0  100.0  13.333333    Male  51.0   \n",
       "16691            3353145   46.0   40.0        NaN    Male  51.0   \n",
       "16692            3353200   70.0   30.0        NaN  Female  66.0   \n",
       "16693            3353254   -1.0   -1.0        NaN    Male  81.0   \n",
       "\n",
       "              ethnicity                                  apacheadmissiondx  \\\n",
       "0              Hispanic                                    Sepsis, unknown   \n",
       "1              Hispanic                                      Sepsis, other   \n",
       "2             Caucasian                                      Sepsis, other   \n",
       "3             Caucasian                     Bleeding-other GI, surgery for   \n",
       "4             Caucasian                                 Bleeding, upper GI   \n",
       "...                 ...                                                ...   \n",
       "16689  African American                                 Bleeding, lower GI   \n",
       "16690  African American                               Renal failure, acute   \n",
       "16691  African American               CVA, cerebrovascular accident/stroke   \n",
       "16692         Caucasian  Hypovolemia (including dehydration, Do not inc...   \n",
       "16693         Caucasian                                 Bleeding, lower GI   \n",
       "\n",
       "       admissionheight  hospitaladmitoffset  ...        Hgb WBC x 1000  \\\n",
       "0                167.6             -10335.0  ...   8.100000       9.20   \n",
       "1                167.6                 -7.0  ...   8.150000      11.10   \n",
       "2                149.9              -1605.0  ...  10.100000      12.40   \n",
       "3                165.1             -10161.0  ...   9.800000      14.20   \n",
       "4                177.8                 -2.0  ...   8.566667       5.55   \n",
       "...                ...                  ...  ...        ...        ...   \n",
       "16689            162.6               -427.0  ...  10.900000       5.20   \n",
       "16690            180.3                  0.0  ...  10.750000      20.65   \n",
       "16691            180.3             -16044.0  ...   6.800000      37.65   \n",
       "16692            157.5            -133891.0  ...   8.800000      12.30   \n",
       "16693            185.4               -271.0  ...   8.800000      15.30   \n",
       "\n",
       "      platelets x 1000    RBC  bicarbonate    MCV   MCHC   MCH    RDW  \\\n",
       "0                165.5  2.570    22.992198  103.1  30.55  31.5  17.45   \n",
       "1                150.0  2.570    33.000000   96.1  32.40  31.1  18.60   \n",
       "2                134.0  3.630    26.000000   88.2  31.60  27.8  14.60   \n",
       "3                325.0  3.320    23.000000   96.4  30.60  29.5  16.30   \n",
       "4                 79.5  2.740    26.000000   96.0  33.65  32.3  16.85   \n",
       "...                ...    ...          ...    ...    ...   ...    ...   \n",
       "16689            211.0  3.140    24.000000   93.0  33.00  31.0  14.90   \n",
       "16690            127.0  3.375    21.500000   95.5  33.00  32.0  20.95   \n",
       "16691            295.0  2.220    33.500000   95.0  32.50  30.5  18.90   \n",
       "16692            179.0  2.340    28.000000   87.0  34.00  29.0  18.50   \n",
       "16693            183.0  2.750    20.000000   92.0  33.00  30.0  16.30   \n",
       "\n",
       "       mods_ratio  \n",
       "0               0  \n",
       "1               0  \n",
       "2               0  \n",
       "3               0  \n",
       "4               0  \n",
       "...           ...  \n",
       "16689           0  \n",
       "16690           0  \n",
       "16691           0  \n",
       "16692           0  \n",
       "16693           0  \n",
       "\n",
       "[16694 rows x 60 columns]"
      ]
     },
     "execution_count": 8,
     "metadata": {},
     "output_type": "execute_result"
    }
   ],
   "source": [
    "burns_merged_2"
   ]
  },
  {
   "cell_type": "code",
   "execution_count": 9,
   "id": "759a3322",
   "metadata": {},
   "outputs": [
    {
     "name": "stderr",
     "output_type": "stream",
     "text": [
      "C:\\Users\\nsafa\\Anaconda3\\lib\\site-packages\\pandas\\core\\indexing.py:1637: SettingWithCopyWarning: \n",
      "A value is trying to be set on a copy of a slice from a DataFrame\n",
      "\n",
      "See the caveats in the documentation: https://pandas.pydata.org/pandas-docs/stable/user_guide/indexing.html#returning-a-view-versus-a-copy\n",
      "  self._setitem_single_block(indexer, value, name)\n"
     ]
    }
   ],
   "source": [
    "for i in range(len(burns_merged_2)):\n",
    "    if (burns_merged_2.iloc[i]['pao2'] != -1) & (burns_merged_2.iloc[i]['fio2'] != -1):\n",
    "        if ((burns_merged_2.iloc[i]['pao2']/burns_merged_2.iloc[i]['fio2']) * 100 <= 300) & ((burns_merged_2.iloc[i]['pao2']/burns_merged_2.iloc[i]['fio2']) * 100 >= 226):\n",
    "            burns_merged_2['mods_ratio'].iloc[i] = 1\n",
    "        if ((burns_merged_2.iloc[i]['pao2']/burns_merged_2.iloc[i]['fio2']) * 100 <= 225) & ((burns_merged_2.iloc[i]['pao2']/burns_merged_2.iloc[i]['fio2']) * 100 >= 151):\n",
    "            burns_merged_2['mods_ratio'].iloc[i] = 2\n",
    "        if ((burns_merged_2.iloc[i]['pao2']/burns_merged_2.iloc[i]['fio2']) * 100 <= 150) & ((burns_merged_2.iloc[i]['pao2']/burns_merged_2.iloc[i]['fio2']) * 100 >= 76):\n",
    "            burns_merged_2['mods_ratio'].iloc[i] = 3\n",
    "        if ((burns_merged_2.iloc[i]['pao2']/burns_merged_2.iloc[i]['fio2']) * 100 >= 0) & ((burns_merged_2.iloc[i]['pao2']/burns_merged_2.iloc[i]['fio2']) * 100 <= 75):\n",
    "            burns_merged_2['mods_ratio'].iloc[i] = 4"
   ]
  },
  {
   "cell_type": "code",
   "execution_count": 10,
   "id": "9685e956",
   "metadata": {},
   "outputs": [],
   "source": [
    "def platelets(item):\n",
    "    temp = 0\n",
    "    if (item >= 81) & (item <= 120):\n",
    "        temp += 1\n",
    "    elif (51 <= item) & (item <= 80):\n",
    "        temp += 2\n",
    "    elif (21 <= item) & (item <= 50):\n",
    "        temp += 3\n",
    "    elif (20 >= item):\n",
    "        temp += 4\n",
    "    return temp"
   ]
  },
  {
   "cell_type": "code",
   "execution_count": 11,
   "id": "f22c582c",
   "metadata": {},
   "outputs": [],
   "source": [
    "burns_merged_2['mods_platelets'] = burns_merged_2['platelets x 1000'].apply(platelets)"
   ]
  },
  {
   "cell_type": "code",
   "execution_count": 12,
   "id": "5407040c",
   "metadata": {},
   "outputs": [],
   "source": [
    "apacheapsdvar = pd.read_csv('ApacheApsVar.csv.gz')"
   ]
  },
  {
   "cell_type": "code",
   "execution_count": 13,
   "id": "36885b6c",
   "metadata": {},
   "outputs": [],
   "source": [
    "burns_merged_3 = pd.merge(apacheapsdvar[['patientunitstayid','bilirubin']], burns_merged_2, how='right', on='patientunitstayid')"
   ]
  },
  {
   "cell_type": "code",
   "execution_count": 14,
   "id": "ce0a1f26",
   "metadata": {},
   "outputs": [],
   "source": [
    "def bilirubin(item):\n",
    "    temp = 0\n",
    "    if (item >= 1.3) & (item <= 3.5):\n",
    "        temp += 1\n",
    "    elif (3.6 <= item) & (item <= 7.0):\n",
    "        temp += 2\n",
    "    elif (7.0 <= item) & (item <= 14.0):\n",
    "        temp += 3\n",
    "    elif (14.0 <= item):\n",
    "        temp += 4\n",
    "    return temp"
   ]
  },
  {
   "cell_type": "code",
   "execution_count": 15,
   "id": "25ec9920",
   "metadata": {},
   "outputs": [],
   "source": [
    "burns_merged_3['mods_bilirubin'] = burns_merged_3['bilirubin'].apply(bilirubin)"
   ]
  },
  {
   "cell_type": "code",
   "execution_count": 16,
   "id": "3a4e3cf3",
   "metadata": {},
   "outputs": [],
   "source": [
    "burns_merged_3['val_fill'] = burns_merged_3['val'].fillna(burns_merged_3['val'].mean())"
   ]
  },
  {
   "cell_type": "code",
   "execution_count": 17,
   "id": "fbc98188",
   "metadata": {},
   "outputs": [],
   "source": [
    "burns_merged_3['PAHR'] = (burns_merged_3['heartrate'] * burns_merged_3['val'])/burns_merged_3['meanbp']"
   ]
  },
  {
   "cell_type": "code",
   "execution_count": 18,
   "id": "43a38e9c",
   "metadata": {},
   "outputs": [],
   "source": [
    "burns_merged_3['PAHRF'] = (burns_merged_3['heartrate'] * burns_merged_3['val_fill'])/burns_merged_3['meanbp']"
   ]
  },
  {
   "cell_type": "code",
   "execution_count": 19,
   "id": "0b443193",
   "metadata": {},
   "outputs": [
    {
     "data": {
      "text/plain": [
       "26.638454409521227"
      ]
     },
     "execution_count": 19,
     "metadata": {},
     "output_type": "execute_result"
    }
   ],
   "source": [
    "burns_merged_3['PAHRF'].mean()"
   ]
  },
  {
   "cell_type": "code",
   "execution_count": 20,
   "id": "528f7df2",
   "metadata": {},
   "outputs": [],
   "source": [
    "def ad_pressure(item):\n",
    "    temp = 0\n",
    "    if (item >= 10.1) & (item <= 15):\n",
    "        temp += 1\n",
    "    elif (item >= 15.1) & (item <= 20):\n",
    "        temp += 2\n",
    "    elif (item >= 20.1) & (item <= 30):\n",
    "        temp += 3\n",
    "    elif (item >= 30.1):\n",
    "        temp += 4\n",
    "    return temp"
   ]
  },
  {
   "cell_type": "code",
   "execution_count": 21,
   "id": "71879df0",
   "metadata": {},
   "outputs": [],
   "source": [
    "burns_merged_3['mods_pressure'] = burns_merged_3['PAHR'].apply(ad_pressure)"
   ]
  },
  {
   "cell_type": "code",
   "execution_count": 22,
   "id": "b192fda7",
   "metadata": {},
   "outputs": [],
   "source": [
    "pd.set_option('display.max_rows', 1000)"
   ]
  },
  {
   "cell_type": "code",
   "execution_count": 23,
   "id": "342ab7a4",
   "metadata": {},
   "outputs": [
    {
     "data": {
      "text/plain": [
       "patientunitstayid          0\n",
       "bilirubin                  0\n",
       "pao2                       0\n",
       "fio2                       0\n",
       "val                    15130\n",
       "gender                     0\n",
       "age                        0\n",
       "ethnicity                  0\n",
       "apacheadmissiondx          0\n",
       "admissionheight            0\n",
       "hospitaladmitoffset        0\n",
       "unittype                   0\n",
       "unitadmitsource            0\n",
       "unitstaytype               0\n",
       "admissionweight            0\n",
       "intubated                  0\n",
       "dialysis                   0\n",
       "temperature                0\n",
       "respiratoryrate            0\n",
       "heartrate                  0\n",
       "meanbp                     0\n",
       "hematocrit                 0\n",
       "actualicumortality         0\n",
       "preopmi                    0\n",
       "preopcardiaccath           0\n",
       "ptcawithin24h              0\n",
       "meds                       0\n",
       "verbal                     0\n",
       "motor                      0\n",
       "eyes                       0\n",
       "thrombolytics              0\n",
       "aids                       0\n",
       "hepaticfailure             0\n",
       "lymphoma                   0\n",
       "immunosuppression          0\n",
       "cirrhosis                  0\n",
       "activetx                   0\n",
       "ima                        0\n",
       "midur                      0\n",
       "ventday1                   0\n",
       "oobventday1                0\n",
       "oobintubday1               0\n",
       "diabetes                   0\n",
       "diagnosisstring            0\n",
       "potassium                  0\n",
       "creatinine                 0\n",
       "sodium                     0\n",
       "BUN                        0\n",
       "glucose                    0\n",
       "chloride                   0\n",
       "calcium                    0\n",
       "Hgb                        0\n",
       "WBC x 1000                 0\n",
       "platelets x 1000           0\n",
       "RBC                        0\n",
       "bicarbonate                0\n",
       "MCV                        0\n",
       "MCHC                       0\n",
       "MCH                        0\n",
       "RDW                        0\n",
       "mods_ratio                 0\n",
       "mods_platelets             0\n",
       "mods_bilirubin             0\n",
       "val_fill                   0\n",
       "PAHR                   15130\n",
       "PAHRF                      0\n",
       "mods_pressure              0\n",
       "dtype: int64"
      ]
     },
     "execution_count": 23,
     "metadata": {},
     "output_type": "execute_result"
    }
   ],
   "source": [
    "burns_merged_3.isna().sum()"
   ]
  },
  {
   "cell_type": "code",
   "execution_count": 24,
   "id": "2bee6be5",
   "metadata": {},
   "outputs": [],
   "source": [
    "burns_merged_3['GCS'] = burns_merged_3['eyes'] + burns_merged_3['motor'] + burns_merged_3['verbal']"
   ]
  },
  {
   "cell_type": "code",
   "execution_count": 25,
   "id": "4484540a",
   "metadata": {},
   "outputs": [],
   "source": [
    "def GCS(item):\n",
    "    temp = 0\n",
    "    if (item >= 13) & (item <= 14):\n",
    "        temp += 1\n",
    "    elif (10 <= item) & (item <= 12):\n",
    "        temp += 2\n",
    "    elif (6 <= item) & (item <= 9):\n",
    "        temp += 3\n",
    "    elif (6 > item):\n",
    "        temp += 4\n",
    "    return temp"
   ]
  },
  {
   "cell_type": "code",
   "execution_count": 26,
   "id": "c7442780",
   "metadata": {},
   "outputs": [],
   "source": [
    "burns_merged_3['mods_GCS'] = burns_merged_3['GCS'].apply(GCS)"
   ]
  },
  {
   "cell_type": "code",
   "execution_count": 27,
   "id": "ba2ec65c",
   "metadata": {},
   "outputs": [],
   "source": [
    "def creatinine(item):\n",
    "    temp = 0\n",
    "    if (item >= 1.2) & (item <= 2.2):\n",
    "        temp += 1\n",
    "    elif (2.3 <= item) & (item <= 3.9):\n",
    "        temp += 2\n",
    "    elif (4 <= item) & (item <= 5.7):\n",
    "        temp += 3\n",
    "    elif (5.7 < item):\n",
    "        temp += 4\n",
    "    return temp"
   ]
  },
  {
   "cell_type": "code",
   "execution_count": 28,
   "id": "2078dbac",
   "metadata": {},
   "outputs": [],
   "source": [
    "burns_merged_3['mods_creatinine'] = burns_merged_3['creatinine'].apply(creatinine)"
   ]
  },
  {
   "cell_type": "code",
   "execution_count": 29,
   "id": "35c8bddd",
   "metadata": {},
   "outputs": [
    {
     "data": {
      "text/plain": [
       "Index(['patientunitstayid', 'bilirubin', 'pao2', 'fio2', 'val', 'gender',\n",
       "       'age', 'ethnicity', 'apacheadmissiondx', 'admissionheight',\n",
       "       'hospitaladmitoffset', 'unittype', 'unitadmitsource', 'unitstaytype',\n",
       "       'admissionweight', 'intubated', 'dialysis', 'temperature',\n",
       "       'respiratoryrate', 'heartrate', 'meanbp', 'hematocrit',\n",
       "       'actualicumortality', 'preopmi', 'preopcardiaccath', 'ptcawithin24h',\n",
       "       'meds', 'verbal', 'motor', 'eyes', 'thrombolytics', 'aids',\n",
       "       'hepaticfailure', 'lymphoma', 'immunosuppression', 'cirrhosis',\n",
       "       'activetx', 'ima', 'midur', 'ventday1', 'oobventday1', 'oobintubday1',\n",
       "       'diabetes', 'diagnosisstring', 'potassium', 'creatinine', 'sodium',\n",
       "       'BUN', 'glucose', 'chloride', 'calcium', 'Hgb', 'WBC x 1000',\n",
       "       'platelets x 1000', 'RBC', 'bicarbonate', 'MCV', 'MCHC', 'MCH', 'RDW',\n",
       "       'mods_ratio', 'mods_platelets', 'mods_bilirubin', 'val_fill', 'PAHR',\n",
       "       'PAHRF', 'mods_pressure', 'GCS', 'mods_GCS', 'mods_creatinine'],\n",
       "      dtype='object')"
      ]
     },
     "execution_count": 29,
     "metadata": {},
     "output_type": "execute_result"
    }
   ],
   "source": [
    "burns_merged_3.columns"
   ]
  },
  {
   "cell_type": "code",
   "execution_count": 30,
   "id": "d6e4a762",
   "metadata": {},
   "outputs": [],
   "source": [
    "burns_merged_3['mods_score'] = burns_merged_3[['mods_ratio', 'mods_platelets', 'mods_bilirubin',\n",
    "        'mods_pressure', 'mods_GCS', 'mods_creatinine']].sum(axis=1)"
   ]
  },
  {
   "cell_type": "code",
   "execution_count": 31,
   "id": "84f9c23a",
   "metadata": {},
   "outputs": [],
   "source": [
    "burns_merged_3['actualicumortality_label'] = burns_merged_3['actualicumortality'].apply(lambda x: 1 if x =='EXPIRED' else 0)"
   ]
  },
  {
   "cell_type": "code",
   "execution_count": 32,
   "id": "dc3c13af",
   "metadata": {},
   "outputs": [],
   "source": [
    "def mods_predict(item):\n",
    "    temp = 0\n",
    "    if (item >= 1) & (item <= 4):\n",
    "        temp = 1.5\n",
    "    elif (item >= 5) & (item <= 8):\n",
    "        temp = 4.0\n",
    "    elif (item >= 9) & (item <= 12):\n",
    "        temp = 25\n",
    "    elif (item >= 13) & (item <= 16):\n",
    "        temp = 50\n",
    "    elif (item >= 17) & (item <= 20):\n",
    "        temp = 75\n",
    "    elif (item >= 21) & (item <= 24):\n",
    "        temp = 100\n",
    "    return temp"
   ]
  },
  {
   "cell_type": "code",
   "execution_count": 33,
   "id": "e187ecda",
   "metadata": {},
   "outputs": [
    {
     "data": {
      "text/plain": [
       "18"
      ]
     },
     "execution_count": 33,
     "metadata": {},
     "output_type": "execute_result"
    }
   ],
   "source": [
    "burns_merged_3['mods_score'].max()"
   ]
  },
  {
   "cell_type": "code",
   "execution_count": 34,
   "id": "c2f58505",
   "metadata": {},
   "outputs": [],
   "source": [
    "burns_merged_3['mods_prob'] = burns_merged_3['mods_score'].apply(mods_predict)"
   ]
  },
  {
   "cell_type": "code",
   "execution_count": 35,
   "id": "16d22461",
   "metadata": {},
   "outputs": [],
   "source": [
    "fpr, tpr, thresholds = metrics.roc_curve(burns_merged_3['actualicumortality_label'].values, burns_merged_3['mods_prob'].values, pos_label=1)"
   ]
  },
  {
   "cell_type": "code",
   "execution_count": 36,
   "id": "ca2a35d8",
   "metadata": {},
   "outputs": [
    {
     "data": {
      "text/plain": [
       "0.777884544683973"
      ]
     },
     "execution_count": 36,
     "metadata": {},
     "output_type": "execute_result"
    }
   ],
   "source": [
    "metrics.auc(fpr, tpr)"
   ]
  },
  {
   "cell_type": "code",
   "execution_count": 37,
   "id": "6072b3bb",
   "metadata": {},
   "outputs": [
    {
     "data": {
      "text/plain": [
       "0        1.5\n",
       "1        1.5\n",
       "2        4.0\n",
       "3        4.0\n",
       "4        1.5\n",
       "        ... \n",
       "16689    1.5\n",
       "16690    1.5\n",
       "16691    1.5\n",
       "16692    1.5\n",
       "16693    0.0\n",
       "Name: mods_prob, Length: 16694, dtype: float64"
      ]
     },
     "execution_count": 37,
     "metadata": {},
     "output_type": "execute_result"
    }
   ],
   "source": [
    "burns_merged_3['mods_prob']"
   ]
  },
  {
   "cell_type": "code",
   "execution_count": null,
   "id": "d7ca8c7a",
   "metadata": {},
   "outputs": [],
   "source": []
  }
 ],
 "metadata": {
  "kernelspec": {
   "display_name": "Python 3",
   "language": "python",
   "name": "python3"
  },
  "language_info": {
   "codemirror_mode": {
    "name": "ipython",
    "version": 3
   },
   "file_extension": ".py",
   "mimetype": "text/x-python",
   "name": "python",
   "nbconvert_exporter": "python",
   "pygments_lexer": "ipython3",
   "version": "3.7.0"
  }
 },
 "nbformat": 4,
 "nbformat_minor": 5
}
