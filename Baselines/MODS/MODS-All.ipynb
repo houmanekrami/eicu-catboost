{
 "cells": [
  {
   "cell_type": "code",
   "execution_count": 1,
   "id": "5c279948",
   "metadata": {},
   "outputs": [],
   "source": [
    "import pandas as pd\n",
    "import numpy as np\n",
    "from sklearn import metrics"
   ]
  },
  {
   "cell_type": "code",
   "execution_count": 2,
   "id": "cf8a142d",
   "metadata": {},
   "outputs": [],
   "source": [
    "burns=pd.read_csv(\"data2/burns-trauma.csv\")\n",
    "cardio=pd.read_csv(\"data2/cardiovascular.csv\")\n",
    "endocrine=pd.read_csv(\"data2/endocrine.csv\")\n",
    "gastrointestinal=pd.read_csv(\"data2/gastrointestinal.csv\")\n",
    "hematology=pd.read_csv(\"data2/hematology.csv\")\n",
    "infectiousdiseases=pd.read_csv(\"data2/infectious diseases.csv\")\n",
    "neurologic=pd.read_csv(\"data2/neurologic.csv\")\n",
    "oncology=pd.read_csv(\"data2/oncology.csv\")\n",
    "pulmonary=pd.read_csv(\"data2/pulmonary.csv\")\n",
    "renal=pd.read_csv(\"data2/renal.csv\")\n",
    "surgery=pd.read_csv(\"data2/surgery.csv\")\n",
    "toxicology=pd.read_csv(\"data2/toxicology.csv\")\n",
    "burns = pd.concat([burns, cardio, endocrine, gastrointestinal, hematology, infectiousdiseases,\n",
    "          neurologic, oncology, pulmonary, renal, surgery, toxicology]).copy()"
   ]
  },
  {
   "cell_type": "code",
   "execution_count": 3,
   "id": "22ab7885",
   "metadata": {},
   "outputs": [],
   "source": [
    "cvp=pd.read_csv(\"CVP.csv\")"
   ]
  },
  {
   "cell_type": "code",
   "execution_count": 4,
   "id": "0b98c2bc",
   "metadata": {},
   "outputs": [],
   "source": [
    "burns_merged = pd.merge(cvp[['patientunitstayid','val']], burns, how='right', on='patientunitstayid')"
   ]
  },
  {
   "cell_type": "code",
   "execution_count": 5,
   "id": "82d45c51",
   "metadata": {},
   "outputs": [],
   "source": [
    "apachepredvar = pd.read_csv('apachePredVar.csv.gz')"
   ]
  },
  {
   "cell_type": "code",
   "execution_count": 6,
   "id": "a3f69371",
   "metadata": {},
   "outputs": [],
   "source": [
    "burns_merged_2 = pd.merge(apachepredvar[['patientunitstayid','pao2','fio2']], burns_merged, how='right', on='patientunitstayid')"
   ]
  },
  {
   "cell_type": "code",
   "execution_count": 7,
   "id": "826e7e31",
   "metadata": {},
   "outputs": [],
   "source": [
    "burns_merged_2['mods_ratio'] = 0"
   ]
  },
  {
   "cell_type": "code",
   "execution_count": 8,
   "id": "5e03261c",
   "metadata": {},
   "outputs": [
    {
     "data": {
      "text/html": [
       "<div>\n",
       "<style scoped>\n",
       "    .dataframe tbody tr th:only-of-type {\n",
       "        vertical-align: middle;\n",
       "    }\n",
       "\n",
       "    .dataframe tbody tr th {\n",
       "        vertical-align: top;\n",
       "    }\n",
       "\n",
       "    .dataframe thead th {\n",
       "        text-align: right;\n",
       "    }\n",
       "</style>\n",
       "<table border=\"1\" class=\"dataframe\">\n",
       "  <thead>\n",
       "    <tr style=\"text-align: right;\">\n",
       "      <th></th>\n",
       "      <th>patientunitstayid</th>\n",
       "      <th>pao2</th>\n",
       "      <th>fio2</th>\n",
       "      <th>val</th>\n",
       "      <th>gender</th>\n",
       "      <th>age</th>\n",
       "      <th>ethnicity</th>\n",
       "      <th>apacheadmissiondx</th>\n",
       "      <th>admissionheight</th>\n",
       "      <th>hospitaladmitoffset</th>\n",
       "      <th>...</th>\n",
       "      <th>WBC x 1000</th>\n",
       "      <th>platelets x 1000</th>\n",
       "      <th>RBC</th>\n",
       "      <th>bicarbonate</th>\n",
       "      <th>MCV</th>\n",
       "      <th>MCHC</th>\n",
       "      <th>MCH</th>\n",
       "      <th>RDW</th>\n",
       "      <th>anion gap</th>\n",
       "      <th>mods_ratio</th>\n",
       "    </tr>\n",
       "  </thead>\n",
       "  <tbody>\n",
       "    <tr>\n",
       "      <th>0</th>\n",
       "      <td>143103</td>\n",
       "      <td>346.0</td>\n",
       "      <td>100.0</td>\n",
       "      <td>5.333333</td>\n",
       "      <td>Female</td>\n",
       "      <td>46.0</td>\n",
       "      <td>Asian</td>\n",
       "      <td>Head only trauma</td>\n",
       "      <td>167.6</td>\n",
       "      <td>-3.0</td>\n",
       "      <td>...</td>\n",
       "      <td>19.500000</td>\n",
       "      <td>258.000000</td>\n",
       "      <td>3.980000</td>\n",
       "      <td>20.0</td>\n",
       "      <td>85.900000</td>\n",
       "      <td>35.400000</td>\n",
       "      <td>30.4</td>\n",
       "      <td>13.5</td>\n",
       "      <td>NaN</td>\n",
       "      <td>0</td>\n",
       "    </tr>\n",
       "    <tr>\n",
       "      <th>1</th>\n",
       "      <td>143258</td>\n",
       "      <td>-1.0</td>\n",
       "      <td>-1.0</td>\n",
       "      <td>NaN</td>\n",
       "      <td>Male</td>\n",
       "      <td>90.0</td>\n",
       "      <td>Caucasian</td>\n",
       "      <td>Rhythm disturbance (atrial, supraventricular)</td>\n",
       "      <td>180.3</td>\n",
       "      <td>0.0</td>\n",
       "      <td>...</td>\n",
       "      <td>8.600000</td>\n",
       "      <td>175.000000</td>\n",
       "      <td>3.480000</td>\n",
       "      <td>28.0</td>\n",
       "      <td>102.000000</td>\n",
       "      <td>33.500000</td>\n",
       "      <td>34.2</td>\n",
       "      <td>12.1</td>\n",
       "      <td>NaN</td>\n",
       "      <td>0</td>\n",
       "    </tr>\n",
       "    <tr>\n",
       "      <th>2</th>\n",
       "      <td>143274</td>\n",
       "      <td>-1.0</td>\n",
       "      <td>-1.0</td>\n",
       "      <td>NaN</td>\n",
       "      <td>Male</td>\n",
       "      <td>22.0</td>\n",
       "      <td>Caucasian</td>\n",
       "      <td>Head/extremity trauma</td>\n",
       "      <td>195.6</td>\n",
       "      <td>-179.0</td>\n",
       "      <td>...</td>\n",
       "      <td>14.500000</td>\n",
       "      <td>218.000000</td>\n",
       "      <td>4.440000</td>\n",
       "      <td>30.0</td>\n",
       "      <td>84.000000</td>\n",
       "      <td>32.400000</td>\n",
       "      <td>27.3</td>\n",
       "      <td>12.7</td>\n",
       "      <td>NaN</td>\n",
       "      <td>0</td>\n",
       "    </tr>\n",
       "    <tr>\n",
       "      <th>3</th>\n",
       "      <td>145180</td>\n",
       "      <td>-1.0</td>\n",
       "      <td>-1.0</td>\n",
       "      <td>NaN</td>\n",
       "      <td>Female</td>\n",
       "      <td>77.0</td>\n",
       "      <td>-</td>\n",
       "      <td>Extremity only trauma, surgery for</td>\n",
       "      <td>167.6</td>\n",
       "      <td>-1891.0</td>\n",
       "      <td>...</td>\n",
       "      <td>5.400000</td>\n",
       "      <td>173.000000</td>\n",
       "      <td>3.290000</td>\n",
       "      <td>25.0</td>\n",
       "      <td>94.200000</td>\n",
       "      <td>32.300000</td>\n",
       "      <td>30.4</td>\n",
       "      <td>13.7</td>\n",
       "      <td>NaN</td>\n",
       "      <td>0</td>\n",
       "    </tr>\n",
       "    <tr>\n",
       "      <th>4</th>\n",
       "      <td>146784</td>\n",
       "      <td>80.0</td>\n",
       "      <td>40.0</td>\n",
       "      <td>NaN</td>\n",
       "      <td>Male</td>\n",
       "      <td>50.0</td>\n",
       "      <td>Caucasian</td>\n",
       "      <td>Spinal/face trauma</td>\n",
       "      <td>177.8</td>\n",
       "      <td>-2.0</td>\n",
       "      <td>...</td>\n",
       "      <td>14.000000</td>\n",
       "      <td>164.000000</td>\n",
       "      <td>3.660000</td>\n",
       "      <td>25.0</td>\n",
       "      <td>93.400000</td>\n",
       "      <td>33.600000</td>\n",
       "      <td>31.4</td>\n",
       "      <td>12.9</td>\n",
       "      <td>NaN</td>\n",
       "      <td>0</td>\n",
       "    </tr>\n",
       "    <tr>\n",
       "      <th>...</th>\n",
       "      <td>...</td>\n",
       "      <td>...</td>\n",
       "      <td>...</td>\n",
       "      <td>...</td>\n",
       "      <td>...</td>\n",
       "      <td>...</td>\n",
       "      <td>...</td>\n",
       "      <td>...</td>\n",
       "      <td>...</td>\n",
       "      <td>...</td>\n",
       "      <td>...</td>\n",
       "      <td>...</td>\n",
       "      <td>...</td>\n",
       "      <td>...</td>\n",
       "      <td>...</td>\n",
       "      <td>...</td>\n",
       "      <td>...</td>\n",
       "      <td>...</td>\n",
       "      <td>...</td>\n",
       "      <td>...</td>\n",
       "      <td>...</td>\n",
       "    </tr>\n",
       "    <tr>\n",
       "      <th>196174</th>\n",
       "      <td>3351551</td>\n",
       "      <td>-1.0</td>\n",
       "      <td>-1.0</td>\n",
       "      <td>NaN</td>\n",
       "      <td>Male</td>\n",
       "      <td>42.0</td>\n",
       "      <td>Caucasian</td>\n",
       "      <td>Overdose, sedatives, hypnotics, antipsychotics...</td>\n",
       "      <td>188.0</td>\n",
       "      <td>-80.0</td>\n",
       "      <td>...</td>\n",
       "      <td>17.900000</td>\n",
       "      <td>326.000000</td>\n",
       "      <td>4.270000</td>\n",
       "      <td>26.0</td>\n",
       "      <td>96.000000</td>\n",
       "      <td>35.000000</td>\n",
       "      <td>NaN</td>\n",
       "      <td>NaN</td>\n",
       "      <td>NaN</td>\n",
       "      <td>0</td>\n",
       "    </tr>\n",
       "    <tr>\n",
       "      <th>196175</th>\n",
       "      <td>3352119</td>\n",
       "      <td>304.0</td>\n",
       "      <td>100.0</td>\n",
       "      <td>NaN</td>\n",
       "      <td>Male</td>\n",
       "      <td>57.0</td>\n",
       "      <td>Caucasian</td>\n",
       "      <td>Overdose, sedatives, hypnotics, antipsychotics...</td>\n",
       "      <td>188.0</td>\n",
       "      <td>0.0</td>\n",
       "      <td>...</td>\n",
       "      <td>13.250000</td>\n",
       "      <td>241.000000</td>\n",
       "      <td>5.165000</td>\n",
       "      <td>28.0</td>\n",
       "      <td>84.000000</td>\n",
       "      <td>33.000000</td>\n",
       "      <td>NaN</td>\n",
       "      <td>NaN</td>\n",
       "      <td>NaN</td>\n",
       "      <td>0</td>\n",
       "    </tr>\n",
       "    <tr>\n",
       "      <th>196176</th>\n",
       "      <td>3352193</td>\n",
       "      <td>98.0</td>\n",
       "      <td>30.0</td>\n",
       "      <td>NaN</td>\n",
       "      <td>Female</td>\n",
       "      <td>19.0</td>\n",
       "      <td>Other/Unknown</td>\n",
       "      <td>Head/face trauma</td>\n",
       "      <td>157.5</td>\n",
       "      <td>-188.0</td>\n",
       "      <td>...</td>\n",
       "      <td>9.882586</td>\n",
       "      <td>205.286588</td>\n",
       "      <td>4.030237</td>\n",
       "      <td>23.0</td>\n",
       "      <td>91.320663</td>\n",
       "      <td>33.395358</td>\n",
       "      <td>NaN</td>\n",
       "      <td>NaN</td>\n",
       "      <td>NaN</td>\n",
       "      <td>0</td>\n",
       "    </tr>\n",
       "    <tr>\n",
       "      <th>196177</th>\n",
       "      <td>3352563</td>\n",
       "      <td>-1.0</td>\n",
       "      <td>-1.0</td>\n",
       "      <td>NaN</td>\n",
       "      <td>Female</td>\n",
       "      <td>34.0</td>\n",
       "      <td>Caucasian</td>\n",
       "      <td>Overdose, sedatives, hypnotics, antipsychotics...</td>\n",
       "      <td>172.7</td>\n",
       "      <td>-231.0</td>\n",
       "      <td>...</td>\n",
       "      <td>9.200000</td>\n",
       "      <td>137.000000</td>\n",
       "      <td>3.840000</td>\n",
       "      <td>17.0</td>\n",
       "      <td>84.000000</td>\n",
       "      <td>31.000000</td>\n",
       "      <td>NaN</td>\n",
       "      <td>NaN</td>\n",
       "      <td>NaN</td>\n",
       "      <td>0</td>\n",
       "    </tr>\n",
       "    <tr>\n",
       "      <th>196178</th>\n",
       "      <td>3353113</td>\n",
       "      <td>-1.0</td>\n",
       "      <td>-1.0</td>\n",
       "      <td>NaN</td>\n",
       "      <td>Male</td>\n",
       "      <td>50.0</td>\n",
       "      <td>Caucasian</td>\n",
       "      <td>Drug withdrawal</td>\n",
       "      <td>188.0</td>\n",
       "      <td>-1698.0</td>\n",
       "      <td>...</td>\n",
       "      <td>9.882586</td>\n",
       "      <td>205.286588</td>\n",
       "      <td>4.030237</td>\n",
       "      <td>23.0</td>\n",
       "      <td>91.320663</td>\n",
       "      <td>33.395358</td>\n",
       "      <td>NaN</td>\n",
       "      <td>NaN</td>\n",
       "      <td>NaN</td>\n",
       "      <td>0</td>\n",
       "    </tr>\n",
       "  </tbody>\n",
       "</table>\n",
       "<p>196179 rows × 61 columns</p>\n",
       "</div>"
      ],
      "text/plain": [
       "        patientunitstayid   pao2   fio2       val  gender   age  \\\n",
       "0                  143103  346.0  100.0  5.333333  Female  46.0   \n",
       "1                  143258   -1.0   -1.0       NaN    Male  90.0   \n",
       "2                  143274   -1.0   -1.0       NaN    Male  22.0   \n",
       "3                  145180   -1.0   -1.0       NaN  Female  77.0   \n",
       "4                  146784   80.0   40.0       NaN    Male  50.0   \n",
       "...                   ...    ...    ...       ...     ...   ...   \n",
       "196174            3351551   -1.0   -1.0       NaN    Male  42.0   \n",
       "196175            3352119  304.0  100.0       NaN    Male  57.0   \n",
       "196176            3352193   98.0   30.0       NaN  Female  19.0   \n",
       "196177            3352563   -1.0   -1.0       NaN  Female  34.0   \n",
       "196178            3353113   -1.0   -1.0       NaN    Male  50.0   \n",
       "\n",
       "            ethnicity                                  apacheadmissiondx  \\\n",
       "0               Asian                                   Head only trauma   \n",
       "1           Caucasian      Rhythm disturbance (atrial, supraventricular)   \n",
       "2           Caucasian                              Head/extremity trauma   \n",
       "3                   -                 Extremity only trauma, surgery for   \n",
       "4           Caucasian                                 Spinal/face trauma   \n",
       "...               ...                                                ...   \n",
       "196174      Caucasian  Overdose, sedatives, hypnotics, antipsychotics...   \n",
       "196175      Caucasian  Overdose, sedatives, hypnotics, antipsychotics...   \n",
       "196176  Other/Unknown                                   Head/face trauma   \n",
       "196177      Caucasian  Overdose, sedatives, hypnotics, antipsychotics...   \n",
       "196178      Caucasian                                    Drug withdrawal   \n",
       "\n",
       "        admissionheight  hospitaladmitoffset  ... WBC x 1000 platelets x 1000  \\\n",
       "0                 167.6                 -3.0  ...  19.500000       258.000000   \n",
       "1                 180.3                  0.0  ...   8.600000       175.000000   \n",
       "2                 195.6               -179.0  ...  14.500000       218.000000   \n",
       "3                 167.6              -1891.0  ...   5.400000       173.000000   \n",
       "4                 177.8                 -2.0  ...  14.000000       164.000000   \n",
       "...                 ...                  ...  ...        ...              ...   \n",
       "196174            188.0                -80.0  ...  17.900000       326.000000   \n",
       "196175            188.0                  0.0  ...  13.250000       241.000000   \n",
       "196176            157.5               -188.0  ...   9.882586       205.286588   \n",
       "196177            172.7               -231.0  ...   9.200000       137.000000   \n",
       "196178            188.0              -1698.0  ...   9.882586       205.286588   \n",
       "\n",
       "             RBC  bicarbonate         MCV       MCHC   MCH   RDW  anion gap  \\\n",
       "0       3.980000         20.0   85.900000  35.400000  30.4  13.5        NaN   \n",
       "1       3.480000         28.0  102.000000  33.500000  34.2  12.1        NaN   \n",
       "2       4.440000         30.0   84.000000  32.400000  27.3  12.7        NaN   \n",
       "3       3.290000         25.0   94.200000  32.300000  30.4  13.7        NaN   \n",
       "4       3.660000         25.0   93.400000  33.600000  31.4  12.9        NaN   \n",
       "...          ...          ...         ...        ...   ...   ...        ...   \n",
       "196174  4.270000         26.0   96.000000  35.000000   NaN   NaN        NaN   \n",
       "196175  5.165000         28.0   84.000000  33.000000   NaN   NaN        NaN   \n",
       "196176  4.030237         23.0   91.320663  33.395358   NaN   NaN        NaN   \n",
       "196177  3.840000         17.0   84.000000  31.000000   NaN   NaN        NaN   \n",
       "196178  4.030237         23.0   91.320663  33.395358   NaN   NaN        NaN   \n",
       "\n",
       "        mods_ratio  \n",
       "0                0  \n",
       "1                0  \n",
       "2                0  \n",
       "3                0  \n",
       "4                0  \n",
       "...            ...  \n",
       "196174           0  \n",
       "196175           0  \n",
       "196176           0  \n",
       "196177           0  \n",
       "196178           0  \n",
       "\n",
       "[196179 rows x 61 columns]"
      ]
     },
     "execution_count": 8,
     "metadata": {},
     "output_type": "execute_result"
    }
   ],
   "source": [
    "burns_merged_2"
   ]
  },
  {
   "cell_type": "code",
   "execution_count": 9,
   "id": "1ed11eeb",
   "metadata": {},
   "outputs": [
    {
     "name": "stderr",
     "output_type": "stream",
     "text": [
      "C:\\Users\\nsafa\\Anaconda3\\lib\\site-packages\\pandas\\core\\indexing.py:1637: SettingWithCopyWarning: \n",
      "A value is trying to be set on a copy of a slice from a DataFrame\n",
      "\n",
      "See the caveats in the documentation: https://pandas.pydata.org/pandas-docs/stable/user_guide/indexing.html#returning-a-view-versus-a-copy\n",
      "  self._setitem_single_block(indexer, value, name)\n"
     ]
    }
   ],
   "source": [
    "for i in range(len(burns_merged_2)):\n",
    "    if (burns_merged_2.iloc[i]['pao2'] != -1) & (burns_merged_2.iloc[i]['fio2'] != -1):\n",
    "        if ((burns_merged_2.iloc[i]['pao2']/burns_merged_2.iloc[i]['fio2']) * 100 <= 300) & ((burns_merged_2.iloc[i]['pao2']/burns_merged_2.iloc[i]['fio2']) * 100 >= 226):\n",
    "            burns_merged_2['mods_ratio'].iloc[i] = 1\n",
    "        if ((burns_merged_2.iloc[i]['pao2']/burns_merged_2.iloc[i]['fio2']) * 100 <= 225) & ((burns_merged_2.iloc[i]['pao2']/burns_merged_2.iloc[i]['fio2']) * 100 >= 151):\n",
    "            burns_merged_2['mods_ratio'].iloc[i] = 2\n",
    "        if ((burns_merged_2.iloc[i]['pao2']/burns_merged_2.iloc[i]['fio2']) * 100 <= 150) & ((burns_merged_2.iloc[i]['pao2']/burns_merged_2.iloc[i]['fio2']) * 100 >= 76):\n",
    "            burns_merged_2['mods_ratio'].iloc[i] = 3\n",
    "        if ((burns_merged_2.iloc[i]['pao2']/burns_merged_2.iloc[i]['fio2']) * 100 >= 0) & ((burns_merged_2.iloc[i]['pao2']/burns_merged_2.iloc[i]['fio2']) * 100 <= 75):\n",
    "            burns_merged_2['mods_ratio'].iloc[i] = 4"
   ]
  },
  {
   "cell_type": "code",
   "execution_count": 10,
   "id": "cea9edbe",
   "metadata": {},
   "outputs": [],
   "source": [
    "def platelets(item):\n",
    "    temp = 0\n",
    "    if (item >= 81) & (item <= 120):\n",
    "        temp += 1\n",
    "    elif (51 <= item) & (item <= 80):\n",
    "        temp += 2\n",
    "    elif (21 <= item) & (item <= 50):\n",
    "        temp += 3\n",
    "    elif (20 >= item):\n",
    "        temp += 4\n",
    "    return temp"
   ]
  },
  {
   "cell_type": "code",
   "execution_count": 11,
   "id": "e420a957",
   "metadata": {},
   "outputs": [],
   "source": [
    "burns_merged_2['mods_platelets'] = burns_merged_2['platelets x 1000'].apply(platelets)"
   ]
  },
  {
   "cell_type": "code",
   "execution_count": 12,
   "id": "70a41161",
   "metadata": {},
   "outputs": [],
   "source": [
    "apacheapsdvar = pd.read_csv('ApacheApsVar.csv.gz')"
   ]
  },
  {
   "cell_type": "code",
   "execution_count": 13,
   "id": "2ef51172",
   "metadata": {},
   "outputs": [],
   "source": [
    "burns_merged_3 = pd.merge(apacheapsdvar[['patientunitstayid','bilirubin']], burns_merged_2, how='right', on='patientunitstayid')"
   ]
  },
  {
   "cell_type": "code",
   "execution_count": 14,
   "id": "cd2d78af",
   "metadata": {},
   "outputs": [],
   "source": [
    "def bilirubin(item):\n",
    "    temp = 0\n",
    "    if (item >= 1.3) & (item <= 3.5):\n",
    "        temp += 1\n",
    "    elif (3.6 <= item) & (item <= 7.0):\n",
    "        temp += 2\n",
    "    elif (7.0 <= item) & (item <= 14.0):\n",
    "        temp += 3\n",
    "    elif (14.0 <= item):\n",
    "        temp += 4\n",
    "    return temp"
   ]
  },
  {
   "cell_type": "code",
   "execution_count": 15,
   "id": "c7ad2256",
   "metadata": {},
   "outputs": [],
   "source": [
    "burns_merged_3['mods_bilirubin'] = burns_merged_3['bilirubin'].apply(bilirubin)"
   ]
  },
  {
   "cell_type": "code",
   "execution_count": 16,
   "id": "4d1405c6",
   "metadata": {},
   "outputs": [],
   "source": [
    "burns_merged_3['val_fill'] = burns_merged_3['val'].fillna(burns_merged_3['val'].mean())"
   ]
  },
  {
   "cell_type": "code",
   "execution_count": 17,
   "id": "07eb797a",
   "metadata": {},
   "outputs": [],
   "source": [
    "burns_merged_3['PAHR'] = (burns_merged_3['heartrate'] * burns_merged_3['val'])/burns_merged_3['meanbp']"
   ]
  },
  {
   "cell_type": "code",
   "execution_count": 18,
   "id": "ed3d3f42",
   "metadata": {},
   "outputs": [],
   "source": [
    "burns_merged_3['PAHRF'] = (burns_merged_3['heartrate'] * burns_merged_3['val_fill'])/burns_merged_3['meanbp']"
   ]
  },
  {
   "cell_type": "code",
   "execution_count": 19,
   "id": "603fa1df",
   "metadata": {},
   "outputs": [
    {
     "data": {
      "text/plain": [
       "22.62286142267902"
      ]
     },
     "execution_count": 19,
     "metadata": {},
     "output_type": "execute_result"
    }
   ],
   "source": [
    "burns_merged_3['PAHRF'].mean()"
   ]
  },
  {
   "cell_type": "code",
   "execution_count": 20,
   "id": "01df8931",
   "metadata": {},
   "outputs": [],
   "source": [
    "def ad_pressure(item):\n",
    "    temp = 0\n",
    "    if (item >= 10.1) & (item <= 15):\n",
    "        temp += 1\n",
    "    elif (item >= 15.1) & (item <= 20):\n",
    "        temp += 2\n",
    "    elif (item >= 20.1) & (item <= 30):\n",
    "        temp += 3\n",
    "    elif (item >= 30.1):\n",
    "        temp += 4\n",
    "    return temp"
   ]
  },
  {
   "cell_type": "code",
   "execution_count": 21,
   "id": "bc9fec36",
   "metadata": {},
   "outputs": [],
   "source": [
    "burns_merged_3['mods_pressure'] = burns_merged_3['PAHR'].apply(ad_pressure)"
   ]
  },
  {
   "cell_type": "code",
   "execution_count": 22,
   "id": "05b61910",
   "metadata": {},
   "outputs": [],
   "source": [
    "burns_merged_3['GCS'] = burns_merged_3['eyes'] + burns_merged_3['motor'] + burns_merged_3['verbal']"
   ]
  },
  {
   "cell_type": "code",
   "execution_count": 23,
   "id": "ba98e3c7",
   "metadata": {},
   "outputs": [],
   "source": [
    "def GCS(item):\n",
    "    temp = 0\n",
    "    if (item >= 13) & (item <= 14):\n",
    "        temp += 1\n",
    "    elif (10 <= item) & (item <= 12):\n",
    "        temp += 2\n",
    "    elif (6 <= item) & (item <= 9):\n",
    "        temp += 3\n",
    "    elif (6 > item):\n",
    "        temp += 4\n",
    "    return temp"
   ]
  },
  {
   "cell_type": "code",
   "execution_count": 24,
   "id": "5eb7e243",
   "metadata": {},
   "outputs": [],
   "source": [
    "burns_merged_3['mods_GCS'] = burns_merged_3['GCS'].apply(GCS)"
   ]
  },
  {
   "cell_type": "code",
   "execution_count": 25,
   "id": "c9ad78fb",
   "metadata": {},
   "outputs": [],
   "source": [
    "def creatinine(item):\n",
    "    temp = 0\n",
    "    if (item >= 1.2) & (item <= 2.2):\n",
    "        temp += 1\n",
    "    elif (2.3 <= item) & (item <= 3.9):\n",
    "        temp += 2\n",
    "    elif (4 <= item) & (item <= 5.7):\n",
    "        temp += 3\n",
    "    elif (5.7 < item):\n",
    "        temp += 4\n",
    "    return temp"
   ]
  },
  {
   "cell_type": "code",
   "execution_count": 26,
   "id": "9e1dfda1",
   "metadata": {},
   "outputs": [],
   "source": [
    "burns_merged_3['mods_creatinine'] = burns_merged_3['creatinine'].apply(creatinine)"
   ]
  },
  {
   "cell_type": "code",
   "execution_count": 27,
   "id": "ac52dc30",
   "metadata": {},
   "outputs": [
    {
     "data": {
      "text/plain": [
       "Index(['patientunitstayid', 'bilirubin', 'pao2', 'fio2', 'val', 'gender',\n",
       "       'age', 'ethnicity', 'apacheadmissiondx', 'admissionheight',\n",
       "       'hospitaladmitoffset', 'unittype', 'unitadmitsource', 'unitstaytype',\n",
       "       'admissionweight', 'intubated', 'dialysis', 'temperature',\n",
       "       'respiratoryrate', 'heartrate', 'meanbp', 'hematocrit',\n",
       "       'actualicumortality', 'preopmi', 'preopcardiaccath', 'ptcawithin24h',\n",
       "       'meds', 'verbal', 'motor', 'eyes', 'thrombolytics', 'aids',\n",
       "       'hepaticfailure', 'lymphoma', 'immunosuppression', 'cirrhosis',\n",
       "       'activetx', 'ima', 'midur', 'ventday1', 'oobventday1', 'oobintubday1',\n",
       "       'diabetes', 'diagnosisstring', 'potassium', 'creatinine', 'sodium',\n",
       "       'BUN', 'glucose', 'chloride', 'calcium', 'Hgb', 'WBC x 1000',\n",
       "       'platelets x 1000', 'RBC', 'bicarbonate', 'MCV', 'MCHC', 'MCH', 'RDW',\n",
       "       'anion gap', 'mods_ratio', 'mods_platelets', 'mods_bilirubin',\n",
       "       'val_fill', 'PAHR', 'PAHRF', 'mods_pressure', 'GCS', 'mods_GCS',\n",
       "       'mods_creatinine'],\n",
       "      dtype='object')"
      ]
     },
     "execution_count": 27,
     "metadata": {},
     "output_type": "execute_result"
    }
   ],
   "source": [
    "burns_merged_3.columns"
   ]
  },
  {
   "cell_type": "code",
   "execution_count": 28,
   "id": "b1bc20f3",
   "metadata": {},
   "outputs": [],
   "source": [
    "burns_merged_3['mods_score'] = burns_merged_3[['mods_ratio', 'mods_platelets', 'mods_bilirubin',\n",
    "        'mods_pressure', 'mods_GCS', 'mods_creatinine']].sum(axis=1)"
   ]
  },
  {
   "cell_type": "code",
   "execution_count": 29,
   "id": "84f9c23a",
   "metadata": {},
   "outputs": [],
   "source": [
    "burns_merged_3['actualicumortality_label'] = burns_merged_3['actualicumortality'].apply(lambda x: 1 if x =='EXPIRED' else 0)"
   ]
  },
  {
   "cell_type": "code",
   "execution_count": 30,
   "id": "4d1144e2",
   "metadata": {},
   "outputs": [],
   "source": [
    "def mods_predict(item):\n",
    "    temp = 0\n",
    "    if (item >= 1) & (item <= 4):\n",
    "        temp = 1.5\n",
    "    elif (item >= 5) & (item <= 8):\n",
    "        temp = 4.0\n",
    "    elif (item >= 9) & (item <= 12):\n",
    "        temp = 25\n",
    "    elif (item >= 13) & (item <= 16):\n",
    "        temp = 50\n",
    "    elif (item >= 17) & (item <= 20):\n",
    "        temp = 75\n",
    "    elif (item >= 21) & (item <= 24):\n",
    "        temp = 100\n",
    "    return temp"
   ]
  },
  {
   "cell_type": "code",
   "execution_count": 31,
   "id": "bd8f5a1e",
   "metadata": {},
   "outputs": [
    {
     "data": {
      "text/plain": [
       "20"
      ]
     },
     "execution_count": 31,
     "metadata": {},
     "output_type": "execute_result"
    }
   ],
   "source": [
    "burns_merged_3['mods_score'].max()"
   ]
  },
  {
   "cell_type": "code",
   "execution_count": 32,
   "id": "8045ea4b",
   "metadata": {},
   "outputs": [],
   "source": [
    "burns_merged_3['mods_prob'] = burns_merged_3['mods_score'].apply(mods_predict)"
   ]
  },
  {
   "cell_type": "code",
   "execution_count": 33,
   "id": "16d22461",
   "metadata": {},
   "outputs": [],
   "source": [
    "fpr, tpr, thresholds = metrics.roc_curve(burns_merged_3['actualicumortality_label'].values, burns_merged_3['mods_prob'].values, pos_label=1)"
   ]
  },
  {
   "cell_type": "code",
   "execution_count": 34,
   "id": "ca2a35d8",
   "metadata": {},
   "outputs": [
    {
     "data": {
      "text/plain": [
       "0.7662810680068873"
      ]
     },
     "execution_count": 34,
     "metadata": {},
     "output_type": "execute_result"
    }
   ],
   "source": [
    "metrics.auc(fpr, tpr)"
   ]
  },
  {
   "cell_type": "code",
   "execution_count": 35,
   "id": "6072b3bb",
   "metadata": {},
   "outputs": [
    {
     "data": {
      "text/plain": [
       "0         1.5\n",
       "1         1.5\n",
       "2         1.5\n",
       "3         1.5\n",
       "4         1.5\n",
       "         ... \n",
       "196174    0.0\n",
       "196175    1.5\n",
       "196176    1.5\n",
       "196177    1.5\n",
       "196178    1.5\n",
       "Name: mods_prob, Length: 196179, dtype: float64"
      ]
     },
     "execution_count": 35,
     "metadata": {},
     "output_type": "execute_result"
    }
   ],
   "source": [
    "burns_merged_3['mods_prob']"
   ]
  },
  {
   "cell_type": "code",
   "execution_count": null,
   "id": "a2bf8d2a",
   "metadata": {},
   "outputs": [],
   "source": [
    "18"
   ]
  },
  {
   "cell_type": "code",
   "execution_count": null,
   "id": "9d19ed59",
   "metadata": {},
   "outputs": [],
   "source": [
    "9"
   ]
  }
 ],
 "metadata": {
  "kernelspec": {
   "display_name": "Python 3",
   "language": "python",
   "name": "python3"
  },
  "language_info": {
   "codemirror_mode": {
    "name": "ipython",
    "version": 3
   },
   "file_extension": ".py",
   "mimetype": "text/x-python",
   "name": "python",
   "nbconvert_exporter": "python",
   "pygments_lexer": "ipython3",
   "version": "3.7.0"
  }
 },
 "nbformat": 4,
 "nbformat_minor": 5
}
