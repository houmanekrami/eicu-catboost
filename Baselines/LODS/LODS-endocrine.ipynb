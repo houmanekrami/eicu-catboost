{
 "cells": [
  {
   "cell_type": "code",
   "execution_count": 1,
   "id": "3e3f702e",
   "metadata": {},
   "outputs": [],
   "source": [
    "import pandas as pd\n",
    "import numpy as np\n",
    "from sklearn import metrics"
   ]
  },
  {
   "cell_type": "code",
   "execution_count": 2,
   "id": "5e8e51f8",
   "metadata": {},
   "outputs": [],
   "source": [
    "burns=pd.read_csv(\"data2/endocrine.csv\")"
   ]
  },
  {
   "cell_type": "code",
   "execution_count": 3,
   "id": "66e12dd5",
   "metadata": {},
   "outputs": [],
   "source": [
    "apachepredvar = pd.read_csv('apachePredVar.csv.gz')"
   ]
  },
  {
   "cell_type": "code",
   "execution_count": 4,
   "id": "f90a88da",
   "metadata": {},
   "outputs": [],
   "source": [
    "burns_merged = pd.merge(apachepredvar[['patientunitstayid','pao2','fio2']], burns, how='right', on='patientunitstayid')"
   ]
  },
  {
   "cell_type": "code",
   "execution_count": 5,
   "id": "9ba06321",
   "metadata": {},
   "outputs": [],
   "source": [
    "burns_merged['lods_ratio'] = 0"
   ]
  },
  {
   "cell_type": "code",
   "execution_count": 6,
   "id": "d1faba22",
   "metadata": {},
   "outputs": [
    {
     "name": "stderr",
     "output_type": "stream",
     "text": [
      "C:\\Users\\nsafa\\Anaconda3\\lib\\site-packages\\pandas\\core\\indexing.py:1637: SettingWithCopyWarning: \n",
      "A value is trying to be set on a copy of a slice from a DataFrame\n",
      "\n",
      "See the caveats in the documentation: https://pandas.pydata.org/pandas-docs/stable/user_guide/indexing.html#returning-a-view-versus-a-copy\n",
      "  self._setitem_single_block(indexer, value, name)\n"
     ]
    }
   ],
   "source": [
    "for i in range(len(burns_merged)):\n",
    "    if (burns_merged.iloc[i]['pao2'] != -1) & (burns_merged.iloc[i]['fio2'] != -1) & (burns_merged.iloc[i]['ventday1'] == 1):\n",
    "        if ((burns_merged.iloc[i]['pao2']/burns_merged.iloc[i]['fio2']) * 100 < 150):\n",
    "            burns_merged['lods_ratio'].iloc[i] = 3\n",
    "        elif ((burns_merged.iloc[i]['pao2']/burns_merged.iloc[i]['fio2']) * 100 >= 150):\n",
    "            burns_merged['lods_ratio'].iloc[i] = 1"
   ]
  },
  {
   "cell_type": "code",
   "execution_count": 7,
   "id": "4ab53d03",
   "metadata": {},
   "outputs": [],
   "source": [
    "def platelets(item):\n",
    "    temp = 0\n",
    "    if (item < 50):\n",
    "        temp += 1\n",
    "    return temp"
   ]
  },
  {
   "cell_type": "code",
   "execution_count": 8,
   "id": "1c8f1a6d",
   "metadata": {},
   "outputs": [],
   "source": [
    "burns_merged['lods_platelets'] = burns_merged['platelets x 1000'].apply(platelets)"
   ]
  },
  {
   "cell_type": "code",
   "execution_count": 9,
   "id": "ae20a609",
   "metadata": {},
   "outputs": [],
   "source": [
    "burns_merged['GCS'] = burns_merged['eyes'] + burns_merged['motor'] + burns_merged['verbal']"
   ]
  },
  {
   "cell_type": "code",
   "execution_count": 10,
   "id": "0a6908ba",
   "metadata": {},
   "outputs": [],
   "source": [
    "def GCS(item):\n",
    "    temp = 0\n",
    "    if (item >= 9) & (item <= 13):\n",
    "        temp += 1\n",
    "    elif (6 <= item) & (item <= 8):\n",
    "        temp += 3\n",
    "    elif (3 <= item) & (item <= 5):\n",
    "        temp += 5\n",
    "    return temp"
   ]
  },
  {
   "cell_type": "code",
   "execution_count": 11,
   "id": "3da4264a",
   "metadata": {},
   "outputs": [],
   "source": [
    "burns_merged['lods_GCS'] = burns_merged['GCS'].apply(GCS)"
   ]
  },
  {
   "cell_type": "code",
   "execution_count": 12,
   "id": "9a8c836e",
   "metadata": {},
   "outputs": [],
   "source": [
    "apacheapsdvar = pd.read_csv('ApacheApsVar.csv.gz')"
   ]
  },
  {
   "cell_type": "code",
   "execution_count": 13,
   "id": "24e23004",
   "metadata": {},
   "outputs": [],
   "source": [
    "burns_merged_1 = pd.merge(apacheapsdvar[['patientunitstayid','bilirubin']], burns_merged, how='right', on='patientunitstayid')"
   ]
  },
  {
   "cell_type": "code",
   "execution_count": 14,
   "id": "a9471226",
   "metadata": {},
   "outputs": [],
   "source": [
    "def bilirubin(item):\n",
    "    temp = 0\n",
    "    if (item >= 2.0):\n",
    "        temp += 1\n",
    "    return temp"
   ]
  },
  {
   "cell_type": "code",
   "execution_count": 15,
   "id": "3e849b4c",
   "metadata": {},
   "outputs": [],
   "source": [
    "burns_merged_1['lods_bilirubin'] = burns_merged_1['bilirubin'].apply(bilirubin)"
   ]
  },
  {
   "cell_type": "code",
   "execution_count": 16,
   "id": "1d3e9bc9",
   "metadata": {},
   "outputs": [],
   "source": [
    "def meanbp(item):\n",
    "    temp = 0\n",
    "    if (item >= 70) & (item < 90):\n",
    "        temp += 1\n",
    "    if (item >= 240) & (item < 270):\n",
    "        temp += 1 \n",
    "    if (item >= 40) & (item < 70):\n",
    "        temp += 3\n",
    "    if (item >= 270):\n",
    "        temp += 3\n",
    "    if (item < 40):\n",
    "        temp += 5\n",
    "    return temp"
   ]
  },
  {
   "cell_type": "code",
   "execution_count": 17,
   "id": "7330d678",
   "metadata": {},
   "outputs": [],
   "source": [
    "burns_merged_1['lods_meanbp'] = burns_merged_1['meanbp'].apply(meanbp)"
   ]
  },
  {
   "cell_type": "code",
   "execution_count": 18,
   "id": "e6839f88",
   "metadata": {},
   "outputs": [],
   "source": [
    "def creatinine(item):\n",
    "    temp = 0\n",
    "    if (item >= 1.2) & (item <= 1.6):\n",
    "        temp += 1\n",
    "    if (item > 1.6):\n",
    "        temp += 3\n",
    "    return temp"
   ]
  },
  {
   "cell_type": "code",
   "execution_count": 19,
   "id": "c94aa735",
   "metadata": {},
   "outputs": [],
   "source": [
    "burns_merged_1['lods_creatinine'] = burns_merged_1['creatinine'].apply(creatinine)"
   ]
  },
  {
   "cell_type": "code",
   "execution_count": 20,
   "id": "ea227dd4",
   "metadata": {},
   "outputs": [],
   "source": [
    "burns_merged_2 = pd.merge(apacheapsdvar[['patientunitstayid','urine']], burns_merged_1, how='right', on='patientunitstayid')"
   ]
  },
  {
   "cell_type": "code",
   "execution_count": 21,
   "id": "fe9fa6d8",
   "metadata": {},
   "outputs": [],
   "source": [
    "burns_merged_2['urine_L'] = burns_merged_2['urine']/1000"
   ]
  },
  {
   "cell_type": "code",
   "execution_count": 22,
   "id": "ad695337",
   "metadata": {},
   "outputs": [],
   "source": [
    "def urine(item):\n",
    "    temp = 0\n",
    "    if (item >= 0.5) & (item <= 0.75):\n",
    "        temp += 3\n",
    "    if (item >= 10):\n",
    "        temp += 3\n",
    "    if (item < 0.5):\n",
    "        temp += 5\n",
    "    return temp"
   ]
  },
  {
   "cell_type": "code",
   "execution_count": 23,
   "id": "69eafc78",
   "metadata": {},
   "outputs": [],
   "source": [
    "burns_merged_2['lods_urine'] = burns_merged_2['urine_L'].apply(urine)"
   ]
  },
  {
   "cell_type": "code",
   "execution_count": 24,
   "id": "717f80a3",
   "metadata": {},
   "outputs": [],
   "source": [
    "def platelets(item):\n",
    "    temp = 0\n",
    "    if (item < 50):\n",
    "        temp += 1\n",
    "    return temp"
   ]
  },
  {
   "cell_type": "code",
   "execution_count": 25,
   "id": "01adff69",
   "metadata": {},
   "outputs": [],
   "source": [
    "burns_merged_2['lods_platelets'] = burns_merged_2['platelets x 1000'].apply(platelets)"
   ]
  },
  {
   "cell_type": "code",
   "execution_count": 26,
   "id": "ea1b742d",
   "metadata": {},
   "outputs": [],
   "source": [
    "def heartrate(item):\n",
    "    temp = 0\n",
    "    if (item >= 140):\n",
    "        temp += 1\n",
    "    elif (item < 30):\n",
    "        temp += 5\n",
    "    return temp"
   ]
  },
  {
   "cell_type": "code",
   "execution_count": 27,
   "id": "21be2c9d",
   "metadata": {},
   "outputs": [],
   "source": [
    "burns_merged_2['lods_heartrate'] = burns_merged_2['heartrate'].apply(heartrate)"
   ]
  },
  {
   "cell_type": "code",
   "execution_count": 28,
   "id": "77d43476",
   "metadata": {},
   "outputs": [],
   "source": [
    "def BUN(item):\n",
    "    temp = 0\n",
    "    if (item >= 16.8) & (item < 28):\n",
    "        temp += 1\n",
    "    if (item >= 28) & (item < 56):\n",
    "        temp += 3\n",
    "    if (item >= 56):\n",
    "        temp += 5\n",
    "    return temp"
   ]
  },
  {
   "cell_type": "code",
   "execution_count": 29,
   "id": "283feec4",
   "metadata": {},
   "outputs": [],
   "source": [
    "burns_merged_2['lods_BUN'] = burns_merged_2['BUN'].apply(BUN)"
   ]
  },
  {
   "cell_type": "code",
   "execution_count": 30,
   "id": "4b8e40aa",
   "metadata": {},
   "outputs": [],
   "source": [
    "def WBC(item):\n",
    "    temp = 0\n",
    "    if (item >= 1) & (item < 2.5):\n",
    "        temp += 1\n",
    "    if (item < 1):\n",
    "        temp += 3\n",
    "    if (item >= 50):\n",
    "        temp += 1\n",
    "    return temp"
   ]
  },
  {
   "cell_type": "code",
   "execution_count": 31,
   "id": "bf5383c0",
   "metadata": {},
   "outputs": [],
   "source": [
    "burns_merged_2['lods_wbc'] = burns_merged_2['WBC x 1000'].apply(WBC)"
   ]
  },
  {
   "cell_type": "code",
   "execution_count": 32,
   "id": "5ec15ce4",
   "metadata": {},
   "outputs": [],
   "source": [
    " def LODS_mort(item):\n",
    "    \n",
    "    return np.exp(-3.4043 + 0.4173*(item))/(1+np.exp(-3.4043 + 0.4173*(item)))"
   ]
  },
  {
   "cell_type": "code",
   "execution_count": 33,
   "id": "53889a45",
   "metadata": {},
   "outputs": [],
   "source": [
    "burns_merged_2['LODS'] = burns_merged_2[['lods_ratio', 'lods_platelets', 'lods_GCS',\n",
    "       'lods_bilirubin', 'lods_meanbp', 'lods_creatinine',\n",
    "       'lods_urine', 'lods_heartrate', 'lods_BUN', 'lods_wbc']].sum(axis=1)"
   ]
  },
  {
   "cell_type": "code",
   "execution_count": 34,
   "id": "6d0f3440",
   "metadata": {},
   "outputs": [],
   "source": [
    "burns_merged_2['LODS_mort'] = burns_merged_2['LODS'].apply(LODS_mort)"
   ]
  },
  {
   "cell_type": "code",
   "execution_count": 35,
   "id": "be4efa0c",
   "metadata": {},
   "outputs": [],
   "source": [
    "burns_merged_2['actualicumortality_label'] = burns_merged_2['actualicumortality'].apply(lambda x: 1 if x =='EXPIRED' else 0)"
   ]
  },
  {
   "cell_type": "code",
   "execution_count": 36,
   "id": "1088a23c",
   "metadata": {},
   "outputs": [],
   "source": [
    "fpr, tpr, thresholds = metrics.roc_curve(burns_merged_2['actualicumortality_label'].values, burns_merged_2['LODS_mort'].values, pos_label=1)"
   ]
  },
  {
   "cell_type": "code",
   "execution_count": 37,
   "id": "b68c1972",
   "metadata": {},
   "outputs": [
    {
     "data": {
      "text/plain": [
       "0.8043653851750899"
      ]
     },
     "execution_count": 37,
     "metadata": {},
     "output_type": "execute_result"
    }
   ],
   "source": [
    "metrics.auc(fpr, tpr)"
   ]
  },
  {
   "cell_type": "code",
   "execution_count": 38,
   "id": "fe7a7149",
   "metadata": {},
   "outputs": [
    {
     "data": {
      "text/plain": [
       "13667"
      ]
     },
     "execution_count": 38,
     "metadata": {},
     "output_type": "execute_result"
    }
   ],
   "source": [
    "burns['patientunitstayid'].nunique()"
   ]
  },
  {
   "cell_type": "code",
   "execution_count": 39,
   "id": "1bcd1afb",
   "metadata": {},
   "outputs": [
    {
     "data": {
      "text/plain": [
       "605"
      ]
     },
     "execution_count": 39,
     "metadata": {},
     "output_type": "execute_result"
    }
   ],
   "source": [
    "burns_merged_2['actualicumortality_label'].sum()"
   ]
  },
  {
   "cell_type": "code",
   "execution_count": 40,
   "id": "e7772844",
   "metadata": {},
   "outputs": [
    {
     "data": {
      "text/plain": [
       "0.044267212994805"
      ]
     },
     "execution_count": 40,
     "metadata": {},
     "output_type": "execute_result"
    }
   ],
   "source": [
    "burns_merged_2['actualicumortality_label'].sum()/burns['patientunitstayid'].nunique()"
   ]
  },
  {
   "cell_type": "code",
   "execution_count": null,
   "id": "867d2e00",
   "metadata": {},
   "outputs": [],
   "source": []
  }
 ],
 "metadata": {
  "kernelspec": {
   "display_name": "Python 3",
   "language": "python",
   "name": "python3"
  },
  "language_info": {
   "codemirror_mode": {
    "name": "ipython",
    "version": 3
   },
   "file_extension": ".py",
   "mimetype": "text/x-python",
   "name": "python",
   "nbconvert_exporter": "python",
   "pygments_lexer": "ipython3",
   "version": "3.7.0"
  }
 },
 "nbformat": 4,
 "nbformat_minor": 5
}
