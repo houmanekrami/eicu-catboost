{
 "cells": [
  {
   "cell_type": "code",
   "execution_count": 1,
   "id": "3e3f702e",
   "metadata": {},
   "outputs": [],
   "source": [
    "import pandas as pd\n",
    "import numpy as np\n",
    "from sklearn import metrics"
   ]
  },
  {
   "cell_type": "code",
   "execution_count": 2,
   "id": "5e8e51f8",
   "metadata": {},
   "outputs": [],
   "source": [
    "burns=pd.read_csv(\"data2/burns-trauma.csv\")\n",
    "cardio=pd.read_csv(\"data2/cardiovascular.csv\")\n",
    "endocrine=pd.read_csv(\"data2/endocrine.csv\")\n",
    "gastrointestinal=pd.read_csv(\"data2/gastrointestinal.csv\")\n",
    "hematology=pd.read_csv(\"data2/hematology.csv\")\n",
    "infectiousdiseases=pd.read_csv(\"data2/infectious diseases.csv\")\n",
    "neurologic=pd.read_csv(\"data2/neurologic.csv\")\n",
    "oncology=pd.read_csv(\"data2/oncology.csv\")\n",
    "pulmonary=pd.read_csv(\"data2/pulmonary.csv\")\n",
    "renal=pd.read_csv(\"data2/renal.csv\")\n",
    "surgery=pd.read_csv(\"data2/surgery.csv\")\n",
    "toxicology=pd.read_csv(\"data2/toxicology.csv\")\n",
    "burns = pd.concat([burns, cardio, endocrine, gastrointestinal, hematology, infectiousdiseases,\n",
    "          neurologic, oncology, pulmonary, renal, surgery, toxicology]).copy()"
   ]
  },
  {
   "cell_type": "code",
   "execution_count": 3,
   "id": "f90a88da",
   "metadata": {},
   "outputs": [],
   "source": [
    "#burns['sap2'] = 0"
   ]
  },
  {
   "cell_type": "code",
   "execution_count": 4,
   "id": "d1faba22",
   "metadata": {},
   "outputs": [],
   "source": [
    "def age(item):\n",
    "    temp = 0\n",
    "    if (40 <= item) & (item <= 59):\n",
    "        temp += 7\n",
    "    elif (60 <= item) & (item <= 69):\n",
    "        temp += 12\n",
    "    elif (70 <= item) & (item <= 74):\n",
    "        temp += 15\n",
    "    elif (75 <= item) & (item <= 79):\n",
    "        temp += 16\n",
    "    elif (80 <= item):\n",
    "        temp += 18\n",
    "    return temp"
   ]
  },
  {
   "cell_type": "code",
   "execution_count": 5,
   "id": "42d2b80e",
   "metadata": {},
   "outputs": [],
   "source": [
    "burns['sap2_age'] = burns['age'].apply(age)"
   ]
  },
  {
   "cell_type": "code",
   "execution_count": 6,
   "id": "12426741",
   "metadata": {},
   "outputs": [],
   "source": [
    "def heartrate(item):\n",
    "    temp = 0\n",
    "    if (item < 40):\n",
    "        temp += 11\n",
    "    elif (40 <= item) & (item <= 69):\n",
    "        temp += 2\n",
    "    elif (120 <= item) & (item <= 159):\n",
    "        temp += 4\n",
    "    elif (160 <= item):\n",
    "        temp += 7\n",
    "    return temp"
   ]
  },
  {
   "cell_type": "code",
   "execution_count": 7,
   "id": "46a356dc",
   "metadata": {},
   "outputs": [],
   "source": [
    "burns['sap2_heartrate'] = burns['heartrate'].apply(heartrate)"
   ]
  },
  {
   "cell_type": "code",
   "execution_count": 8,
   "id": "29a9ce42",
   "metadata": {},
   "outputs": [],
   "source": [
    "def meanbp(item):\n",
    "    temp = 0\n",
    "    if (item < 70):\n",
    "        temp += 13\n",
    "    elif (70 <= item) & (item <= 99):\n",
    "        temp += 5\n",
    "    elif (200 <= item):\n",
    "        temp += 2\n",
    "    return temp"
   ]
  },
  {
   "cell_type": "code",
   "execution_count": 9,
   "id": "e2070805",
   "metadata": {},
   "outputs": [],
   "source": [
    "burns['sap2_meanbp'] = burns['meanbp'].apply(meanbp)"
   ]
  },
  {
   "cell_type": "code",
   "execution_count": 10,
   "id": "cd9143cf",
   "metadata": {},
   "outputs": [],
   "source": [
    "def temperature(item):\n",
    "    temp = 0\n",
    "    if (item >= 39):\n",
    "        temp += 3\n",
    "    return temp"
   ]
  },
  {
   "cell_type": "code",
   "execution_count": 11,
   "id": "ba45f204",
   "metadata": {},
   "outputs": [],
   "source": [
    "burns['sap2_temperature'] = burns['temperature'].apply(temperature)"
   ]
  },
  {
   "cell_type": "code",
   "execution_count": 12,
   "id": "161ddc2a",
   "metadata": {},
   "outputs": [],
   "source": [
    "burns['GCS'] = burns['eyes'] + burns['motor'] + burns['verbal']"
   ]
  },
  {
   "cell_type": "code",
   "execution_count": 13,
   "id": "aab39343",
   "metadata": {},
   "outputs": [],
   "source": [
    "def GCS(item):\n",
    "    temp = 0\n",
    "    if (item >= 11) & (item <= 13):\n",
    "        temp += 5\n",
    "    elif (item >= 9) & (item <= 10):\n",
    "        temp += 7\n",
    "    elif (item >= 6) & (item <= 8):\n",
    "        temp += 13\n",
    "    elif (item < 6):\n",
    "        temp += 26\n",
    "    return temp"
   ]
  },
  {
   "cell_type": "code",
   "execution_count": 14,
   "id": "33e6ec24",
   "metadata": {},
   "outputs": [],
   "source": [
    "burns['sap2_GCS'] = burns['GCS'].apply(GCS)"
   ]
  },
  {
   "cell_type": "code",
   "execution_count": 15,
   "id": "8ee1d353",
   "metadata": {},
   "outputs": [],
   "source": [
    "apachepredvar = pd.read_csv('apachePredVar.csv.gz')"
   ]
  },
  {
   "cell_type": "code",
   "execution_count": 16,
   "id": "0e0cbb89",
   "metadata": {},
   "outputs": [
    {
     "data": {
      "text/plain": [
       "SEPSISPULM    8418\n",
       "AMI           6817\n",
       "CVASTROKE     6291\n",
       "CHF           6007\n",
       "SEPSISUTI     5024\n",
       "              ... \n",
       "S-TRCHFACE       1\n",
       "LUNGTRAN         1\n",
       "THYROIDNEO       1\n",
       "VIRALMYOSI       1\n",
       "LUNGSTRAN        1\n",
       "Name: admitdiagnosis, Length: 426, dtype: int64"
      ]
     },
     "execution_count": 16,
     "metadata": {},
     "output_type": "execute_result"
    }
   ],
   "source": [
    "apachepredvar['admitdiagnosis'].value_counts()"
   ]
  },
  {
   "cell_type": "code",
   "execution_count": 17,
   "id": "b722f494",
   "metadata": {},
   "outputs": [],
   "source": [
    "burns_merged = pd.merge(apachepredvar[['patientunitstayid','pao2','fio2']], burns, how='right', on='patientunitstayid')"
   ]
  },
  {
   "cell_type": "code",
   "execution_count": 18,
   "id": "c59db17c",
   "metadata": {},
   "outputs": [],
   "source": [
    "burns_merged['sap2_ratio'] = 0"
   ]
  },
  {
   "cell_type": "code",
   "execution_count": 19,
   "id": "723060fc",
   "metadata": {},
   "outputs": [
    {
     "name": "stderr",
     "output_type": "stream",
     "text": [
      "C:\\Users\\nsafa\\Anaconda3\\lib\\site-packages\\pandas\\core\\indexing.py:1637: SettingWithCopyWarning: \n",
      "A value is trying to be set on a copy of a slice from a DataFrame\n",
      "\n",
      "See the caveats in the documentation: https://pandas.pydata.org/pandas-docs/stable/user_guide/indexing.html#returning-a-view-versus-a-copy\n",
      "  self._setitem_single_block(indexer, value, name)\n"
     ]
    }
   ],
   "source": [
    "for i in range(len(burns_merged)):\n",
    "    if (burns_merged.iloc[i]['ventday1'] == 1) & (burns_merged.iloc[i]['pao2'] != -1) & (burns_merged.iloc[i]['fio2'] != -1):\n",
    "        \n",
    "        if (burns_merged.iloc[i]['pao2']/burns_merged.iloc[i]['fio2']) * 100 < 100:\n",
    "            burns_merged['sap2_ratio'].iloc[i] = 11\n",
    "        elif ((burns_merged.iloc[i]['pao2']/burns_merged.iloc[i]['fio2']) * 100 >= 100) & ((burns_merged.iloc[i]['pao2']/burns_merged.iloc[i]['fio2']) * 100 <= 199):\n",
    "            burns_merged['sap2_ratio'].iloc[i] = 9\n",
    "        elif ((burns_merged.iloc[i]['pao2']/burns_merged.iloc[i]['fio2']) * 100 >= 200):\n",
    "            burns_merged['sap2_ratio'].iloc[i] = 6"
   ]
  },
  {
   "cell_type": "code",
   "execution_count": 20,
   "id": "437e4ceb",
   "metadata": {},
   "outputs": [],
   "source": [
    "def BUN(item):\n",
    "    temp = 0\n",
    "    if (item >= 28) & (item <= 83):\n",
    "        temp += 6\n",
    "    elif (item >= 84):\n",
    "        temp += 10\n",
    "    return temp"
   ]
  },
  {
   "cell_type": "code",
   "execution_count": 21,
   "id": "04d6fcdc",
   "metadata": {},
   "outputs": [],
   "source": [
    "#burns_1 = pd.merge(burns_merged[['patientunitstayid','sap2_ratio']], burns, how='right', on='patientunitstayid')"
   ]
  },
  {
   "cell_type": "code",
   "execution_count": 22,
   "id": "55421700",
   "metadata": {},
   "outputs": [],
   "source": [
    "burns_merged['sap2_BUN'] = burns_merged['BUN'].apply(BUN)"
   ]
  },
  {
   "cell_type": "code",
   "execution_count": 23,
   "id": "a9735b24",
   "metadata": {},
   "outputs": [],
   "source": [
    "apacheapsdvar = pd.read_csv('ApacheApsVar.csv.gz')"
   ]
  },
  {
   "cell_type": "code",
   "execution_count": 24,
   "id": "36174b7d",
   "metadata": {},
   "outputs": [],
   "source": [
    "burns_merged_1 = pd.merge(apacheapsdvar[['patientunitstayid','urine']], burns_merged, how='right', on='patientunitstayid')"
   ]
  },
  {
   "cell_type": "code",
   "execution_count": 25,
   "id": "b8a89fe2",
   "metadata": {},
   "outputs": [],
   "source": [
    "def urine(item):\n",
    "    temp = 0\n",
    "    if (item <500) & (item != -1):\n",
    "        temp += 11\n",
    "    elif (item >= 500) & (item <= 999):\n",
    "        temp += 4\n",
    "    return temp"
   ]
  },
  {
   "cell_type": "code",
   "execution_count": 26,
   "id": "ad3f20b0",
   "metadata": {},
   "outputs": [],
   "source": [
    "burns_merged_1['sap2_urine'] = burns_merged_1['urine'].apply(urine)"
   ]
  },
  {
   "cell_type": "code",
   "execution_count": 27,
   "id": "0e4a0aac",
   "metadata": {},
   "outputs": [],
   "source": [
    "def sodium(item):\n",
    "    temp = 0\n",
    "    if (item <125):\n",
    "        temp += 5\n",
    "    elif (item >= 145):\n",
    "        temp += 1\n",
    "    return temp"
   ]
  },
  {
   "cell_type": "code",
   "execution_count": 28,
   "id": "0cfec3b5",
   "metadata": {},
   "outputs": [],
   "source": [
    "burns_merged_1['sap2_sodium'] = burns_merged_1['sodium'].apply(sodium)"
   ]
  },
  {
   "cell_type": "code",
   "execution_count": 29,
   "id": "e4f45258",
   "metadata": {},
   "outputs": [],
   "source": [
    "def potassium(item):\n",
    "    temp = 0\n",
    "    if (item < 3):\n",
    "        temp += 3\n",
    "    elif (item >= 5):\n",
    "        temp += 3\n",
    "    return temp"
   ]
  },
  {
   "cell_type": "code",
   "execution_count": 30,
   "id": "a59a981a",
   "metadata": {},
   "outputs": [],
   "source": [
    "burns_merged_1['sap2_potassium'] = burns_merged_1['potassium'].apply(potassium)"
   ]
  },
  {
   "cell_type": "code",
   "execution_count": 31,
   "id": "a447bbbc",
   "metadata": {},
   "outputs": [],
   "source": [
    "def bicarbonate(item):\n",
    "    temp = 0\n",
    "    if (item < 15):\n",
    "        temp += 6\n",
    "    elif (item >= 15) & (item <= 19):\n",
    "        temp += 3\n",
    "    return temp"
   ]
  },
  {
   "cell_type": "code",
   "execution_count": 32,
   "id": "e8297cfa",
   "metadata": {},
   "outputs": [],
   "source": [
    "burns_merged_1['sap2_bicarbonate'] = burns_merged_1['bicarbonate'].apply(bicarbonate)"
   ]
  },
  {
   "cell_type": "code",
   "execution_count": 33,
   "id": "3213f4a8",
   "metadata": {},
   "outputs": [],
   "source": [
    "burns_merged_2 = pd.merge(apacheapsdvar[['patientunitstayid','bilirubin']], burns_merged_1, how='right', on='patientunitstayid')"
   ]
  },
  {
   "cell_type": "code",
   "execution_count": 34,
   "id": "b00bcbb8",
   "metadata": {},
   "outputs": [],
   "source": [
    "def bilirubin(item):\n",
    "    temp = 0\n",
    "    if (item >= 4) & (item <= 5.9):\n",
    "        temp += 4\n",
    "    elif (item >= 6):\n",
    "        temp += 9\n",
    "    return temp"
   ]
  },
  {
   "cell_type": "code",
   "execution_count": 35,
   "id": "639d57b2",
   "metadata": {},
   "outputs": [],
   "source": [
    "burns_merged_2['sap2_bilirubin'] = burns_merged_2['bilirubin'].apply(bilirubin)"
   ]
  },
  {
   "cell_type": "code",
   "execution_count": 36,
   "id": "b61b7174",
   "metadata": {},
   "outputs": [],
   "source": [
    "def WBC(item):\n",
    "    temp = 0\n",
    "    if (item < 1):\n",
    "        temp += 12\n",
    "    elif (item >= 20):\n",
    "        temp += 3\n",
    "    return temp"
   ]
  },
  {
   "cell_type": "code",
   "execution_count": 37,
   "id": "de2c3a2f",
   "metadata": {},
   "outputs": [],
   "source": [
    "burns_merged_2['sap2_wbc'] = burns_merged_2['WBC x 1000'].apply(WBC)"
   ]
  },
  {
   "cell_type": "code",
   "execution_count": 38,
   "id": "be3aa7c8",
   "metadata": {},
   "outputs": [],
   "source": [
    "burns_merged_3 = pd.merge(apachepredvar[['patientunitstayid','metastaticcancer']], burns_merged_2, how='right', on='patientunitstayid')"
   ]
  },
  {
   "cell_type": "code",
   "execution_count": 39,
   "id": "829d9433",
   "metadata": {},
   "outputs": [],
   "source": [
    "burns_merged_4 = pd.merge(apachepredvar[['patientunitstayid','leukemia']], burns_merged_3, how='right', on='patientunitstayid')"
   ]
  },
  {
   "cell_type": "code",
   "execution_count": 40,
   "id": "be8212ae",
   "metadata": {},
   "outputs": [],
   "source": [
    "def metastaticcancer(item):\n",
    "    temp = 0\n",
    "    if (item == 1):\n",
    "        temp += 9\n",
    "    return temp"
   ]
  },
  {
   "cell_type": "code",
   "execution_count": 41,
   "id": "a825a35c",
   "metadata": {},
   "outputs": [],
   "source": [
    "burns_merged_4['sap2_metastaticcancer'] = burns_merged_4['metastaticcancer'].apply(metastaticcancer)"
   ]
  },
  {
   "cell_type": "code",
   "execution_count": 42,
   "id": "ca3e6250",
   "metadata": {},
   "outputs": [],
   "source": [
    "def leukemia(item):\n",
    "    temp = 0\n",
    "    if (item == 1):\n",
    "        temp += 10\n",
    "    return temp"
   ]
  },
  {
   "cell_type": "code",
   "execution_count": 43,
   "id": "8a8435a7",
   "metadata": {},
   "outputs": [],
   "source": [
    "def lymphoma(item):\n",
    "    temp = 0\n",
    "    if (item == 1):\n",
    "        temp += 10\n",
    "    return temp"
   ]
  },
  {
   "cell_type": "code",
   "execution_count": 44,
   "id": "823017f4",
   "metadata": {},
   "outputs": [],
   "source": [
    "def aids(item):\n",
    "    temp = 0\n",
    "    if (item == 1):\n",
    "        temp += 17\n",
    "    return temp"
   ]
  },
  {
   "cell_type": "code",
   "execution_count": 45,
   "id": "ed3908ef",
   "metadata": {},
   "outputs": [],
   "source": [
    "burns_merged_4['sap2_leukemia'] = burns_merged_4['leukemia'].apply(leukemia)"
   ]
  },
  {
   "cell_type": "code",
   "execution_count": 46,
   "id": "97463124",
   "metadata": {},
   "outputs": [],
   "source": [
    "burns_merged_4['sap2_lymphoma'] = burns_merged_4['lymphoma'].apply(lymphoma)"
   ]
  },
  {
   "cell_type": "code",
   "execution_count": 47,
   "id": "1af20e99",
   "metadata": {},
   "outputs": [],
   "source": [
    "burns_merged_4['sap2_aids'] = burns_merged_4['aids'].apply(aids)"
   ]
  },
  {
   "cell_type": "code",
   "execution_count": 48,
   "id": "943c4d9e",
   "metadata": {},
   "outputs": [
    {
     "data": {
      "text/plain": [
       "Med-Surg ICU    116363\n",
       "MICU             17536\n",
       "Cardiac ICU      14941\n",
       "SICU             13446\n",
       "CCU-CTICU        12835\n",
       "Neuro ICU         9645\n",
       "CTICU             6135\n",
       "CSICU             5278\n",
       "Name: unittype, dtype: int64"
      ]
     },
     "execution_count": 48,
     "metadata": {},
     "output_type": "execute_result"
    }
   ],
   "source": [
    "burns_merged_4['unittype'].value_counts()"
   ]
  },
  {
   "cell_type": "code",
   "execution_count": 49,
   "id": "c2107ba1",
   "metadata": {},
   "outputs": [],
   "source": [
    "def admit(item):\n",
    "    temp = 0\n",
    "    if (item == \"Med-Surg ICU\") | (item == \"MICU\"):\n",
    "        temp += 6\n",
    "    elif (item == \"SICU\") | (item == \"CSICU\"):\n",
    "        temp += 8\n",
    "    return temp"
   ]
  },
  {
   "cell_type": "code",
   "execution_count": 50,
   "id": "3ab7f1f9",
   "metadata": {},
   "outputs": [],
   "source": [
    "burns_merged_4['sap2_admit'] = burns_merged_4['unittype'].apply(admit)"
   ]
  },
  {
   "cell_type": "code",
   "execution_count": 51,
   "id": "30cdb3b1",
   "metadata": {},
   "outputs": [
    {
     "data": {
      "text/html": [
       "<div>\n",
       "<style scoped>\n",
       "    .dataframe tbody tr th:only-of-type {\n",
       "        vertical-align: middle;\n",
       "    }\n",
       "\n",
       "    .dataframe tbody tr th {\n",
       "        vertical-align: top;\n",
       "    }\n",
       "\n",
       "    .dataframe thead th {\n",
       "        text-align: right;\n",
       "    }\n",
       "</style>\n",
       "<table border=\"1\" class=\"dataframe\">\n",
       "  <thead>\n",
       "    <tr style=\"text-align: right;\">\n",
       "      <th></th>\n",
       "      <th>patientunitstayid</th>\n",
       "      <th>leukemia</th>\n",
       "      <th>metastaticcancer</th>\n",
       "      <th>bilirubin</th>\n",
       "      <th>urine</th>\n",
       "      <th>pao2</th>\n",
       "      <th>fio2</th>\n",
       "      <th>gender</th>\n",
       "      <th>age</th>\n",
       "      <th>ethnicity</th>\n",
       "      <th>...</th>\n",
       "      <th>sap2_sodium</th>\n",
       "      <th>sap2_potassium</th>\n",
       "      <th>sap2_bicarbonate</th>\n",
       "      <th>sap2_bilirubin</th>\n",
       "      <th>sap2_wbc</th>\n",
       "      <th>sap2_metastaticcancer</th>\n",
       "      <th>sap2_leukemia</th>\n",
       "      <th>sap2_lymphoma</th>\n",
       "      <th>sap2_aids</th>\n",
       "      <th>sap2_admit</th>\n",
       "    </tr>\n",
       "  </thead>\n",
       "  <tbody>\n",
       "    <tr>\n",
       "      <th>0</th>\n",
       "      <td>143103</td>\n",
       "      <td>0</td>\n",
       "      <td>0</td>\n",
       "      <td>0.3</td>\n",
       "      <td>-1.0000</td>\n",
       "      <td>346.0</td>\n",
       "      <td>100.0</td>\n",
       "      <td>Female</td>\n",
       "      <td>46.0</td>\n",
       "      <td>Asian</td>\n",
       "      <td>...</td>\n",
       "      <td>0</td>\n",
       "      <td>0</td>\n",
       "      <td>0</td>\n",
       "      <td>0</td>\n",
       "      <td>0</td>\n",
       "      <td>0</td>\n",
       "      <td>0</td>\n",
       "      <td>0</td>\n",
       "      <td>0</td>\n",
       "      <td>0</td>\n",
       "    </tr>\n",
       "    <tr>\n",
       "      <th>1</th>\n",
       "      <td>143258</td>\n",
       "      <td>0</td>\n",
       "      <td>0</td>\n",
       "      <td>1.0</td>\n",
       "      <td>-1.0000</td>\n",
       "      <td>-1.0</td>\n",
       "      <td>-1.0</td>\n",
       "      <td>Male</td>\n",
       "      <td>90.0</td>\n",
       "      <td>Caucasian</td>\n",
       "      <td>...</td>\n",
       "      <td>0</td>\n",
       "      <td>0</td>\n",
       "      <td>0</td>\n",
       "      <td>0</td>\n",
       "      <td>0</td>\n",
       "      <td>0</td>\n",
       "      <td>0</td>\n",
       "      <td>0</td>\n",
       "      <td>0</td>\n",
       "      <td>6</td>\n",
       "    </tr>\n",
       "    <tr>\n",
       "      <th>2</th>\n",
       "      <td>143274</td>\n",
       "      <td>0</td>\n",
       "      <td>0</td>\n",
       "      <td>-1.0</td>\n",
       "      <td>-1.0000</td>\n",
       "      <td>-1.0</td>\n",
       "      <td>-1.0</td>\n",
       "      <td>Male</td>\n",
       "      <td>22.0</td>\n",
       "      <td>Caucasian</td>\n",
       "      <td>...</td>\n",
       "      <td>0</td>\n",
       "      <td>0</td>\n",
       "      <td>0</td>\n",
       "      <td>0</td>\n",
       "      <td>0</td>\n",
       "      <td>0</td>\n",
       "      <td>0</td>\n",
       "      <td>0</td>\n",
       "      <td>0</td>\n",
       "      <td>6</td>\n",
       "    </tr>\n",
       "    <tr>\n",
       "      <th>3</th>\n",
       "      <td>145180</td>\n",
       "      <td>0</td>\n",
       "      <td>0</td>\n",
       "      <td>-1.0</td>\n",
       "      <td>-1.0000</td>\n",
       "      <td>-1.0</td>\n",
       "      <td>-1.0</td>\n",
       "      <td>Female</td>\n",
       "      <td>77.0</td>\n",
       "      <td>-</td>\n",
       "      <td>...</td>\n",
       "      <td>0</td>\n",
       "      <td>0</td>\n",
       "      <td>0</td>\n",
       "      <td>0</td>\n",
       "      <td>0</td>\n",
       "      <td>0</td>\n",
       "      <td>0</td>\n",
       "      <td>0</td>\n",
       "      <td>0</td>\n",
       "      <td>6</td>\n",
       "    </tr>\n",
       "    <tr>\n",
       "      <th>4</th>\n",
       "      <td>146784</td>\n",
       "      <td>0</td>\n",
       "      <td>0</td>\n",
       "      <td>-1.0</td>\n",
       "      <td>-1.0000</td>\n",
       "      <td>80.0</td>\n",
       "      <td>40.0</td>\n",
       "      <td>Male</td>\n",
       "      <td>50.0</td>\n",
       "      <td>Caucasian</td>\n",
       "      <td>...</td>\n",
       "      <td>0</td>\n",
       "      <td>0</td>\n",
       "      <td>0</td>\n",
       "      <td>0</td>\n",
       "      <td>0</td>\n",
       "      <td>0</td>\n",
       "      <td>0</td>\n",
       "      <td>0</td>\n",
       "      <td>0</td>\n",
       "      <td>6</td>\n",
       "    </tr>\n",
       "    <tr>\n",
       "      <th>...</th>\n",
       "      <td>...</td>\n",
       "      <td>...</td>\n",
       "      <td>...</td>\n",
       "      <td>...</td>\n",
       "      <td>...</td>\n",
       "      <td>...</td>\n",
       "      <td>...</td>\n",
       "      <td>...</td>\n",
       "      <td>...</td>\n",
       "      <td>...</td>\n",
       "      <td>...</td>\n",
       "      <td>...</td>\n",
       "      <td>...</td>\n",
       "      <td>...</td>\n",
       "      <td>...</td>\n",
       "      <td>...</td>\n",
       "      <td>...</td>\n",
       "      <td>...</td>\n",
       "      <td>...</td>\n",
       "      <td>...</td>\n",
       "      <td>...</td>\n",
       "    </tr>\n",
       "    <tr>\n",
       "      <th>196174</th>\n",
       "      <td>3351551</td>\n",
       "      <td>0</td>\n",
       "      <td>0</td>\n",
       "      <td>-1.0</td>\n",
       "      <td>-1.0000</td>\n",
       "      <td>-1.0</td>\n",
       "      <td>-1.0</td>\n",
       "      <td>Male</td>\n",
       "      <td>42.0</td>\n",
       "      <td>Caucasian</td>\n",
       "      <td>...</td>\n",
       "      <td>0</td>\n",
       "      <td>0</td>\n",
       "      <td>0</td>\n",
       "      <td>0</td>\n",
       "      <td>0</td>\n",
       "      <td>0</td>\n",
       "      <td>0</td>\n",
       "      <td>0</td>\n",
       "      <td>0</td>\n",
       "      <td>6</td>\n",
       "    </tr>\n",
       "    <tr>\n",
       "      <th>196175</th>\n",
       "      <td>3352119</td>\n",
       "      <td>0</td>\n",
       "      <td>0</td>\n",
       "      <td>0.6</td>\n",
       "      <td>1275.3504</td>\n",
       "      <td>304.0</td>\n",
       "      <td>100.0</td>\n",
       "      <td>Male</td>\n",
       "      <td>57.0</td>\n",
       "      <td>Caucasian</td>\n",
       "      <td>...</td>\n",
       "      <td>0</td>\n",
       "      <td>0</td>\n",
       "      <td>0</td>\n",
       "      <td>0</td>\n",
       "      <td>0</td>\n",
       "      <td>0</td>\n",
       "      <td>0</td>\n",
       "      <td>0</td>\n",
       "      <td>0</td>\n",
       "      <td>0</td>\n",
       "    </tr>\n",
       "    <tr>\n",
       "      <th>196176</th>\n",
       "      <td>3352193</td>\n",
       "      <td>0</td>\n",
       "      <td>0</td>\n",
       "      <td>-1.0</td>\n",
       "      <td>-1.0000</td>\n",
       "      <td>98.0</td>\n",
       "      <td>30.0</td>\n",
       "      <td>Female</td>\n",
       "      <td>19.0</td>\n",
       "      <td>Other/Unknown</td>\n",
       "      <td>...</td>\n",
       "      <td>0</td>\n",
       "      <td>0</td>\n",
       "      <td>0</td>\n",
       "      <td>0</td>\n",
       "      <td>0</td>\n",
       "      <td>0</td>\n",
       "      <td>0</td>\n",
       "      <td>0</td>\n",
       "      <td>0</td>\n",
       "      <td>0</td>\n",
       "    </tr>\n",
       "    <tr>\n",
       "      <th>196177</th>\n",
       "      <td>3352563</td>\n",
       "      <td>0</td>\n",
       "      <td>0</td>\n",
       "      <td>0.3</td>\n",
       "      <td>1348.6176</td>\n",
       "      <td>-1.0</td>\n",
       "      <td>-1.0</td>\n",
       "      <td>Female</td>\n",
       "      <td>34.0</td>\n",
       "      <td>Caucasian</td>\n",
       "      <td>...</td>\n",
       "      <td>0</td>\n",
       "      <td>0</td>\n",
       "      <td>3</td>\n",
       "      <td>0</td>\n",
       "      <td>0</td>\n",
       "      <td>0</td>\n",
       "      <td>0</td>\n",
       "      <td>0</td>\n",
       "      <td>0</td>\n",
       "      <td>6</td>\n",
       "    </tr>\n",
       "    <tr>\n",
       "      <th>196178</th>\n",
       "      <td>3353113</td>\n",
       "      <td>0</td>\n",
       "      <td>0</td>\n",
       "      <td>1.3</td>\n",
       "      <td>1724.2848</td>\n",
       "      <td>-1.0</td>\n",
       "      <td>-1.0</td>\n",
       "      <td>Male</td>\n",
       "      <td>50.0</td>\n",
       "      <td>Caucasian</td>\n",
       "      <td>...</td>\n",
       "      <td>0</td>\n",
       "      <td>0</td>\n",
       "      <td>0</td>\n",
       "      <td>0</td>\n",
       "      <td>0</td>\n",
       "      <td>0</td>\n",
       "      <td>0</td>\n",
       "      <td>0</td>\n",
       "      <td>0</td>\n",
       "      <td>6</td>\n",
       "    </tr>\n",
       "  </tbody>\n",
       "</table>\n",
       "<p>196179 rows × 82 columns</p>\n",
       "</div>"
      ],
      "text/plain": [
       "        patientunitstayid  leukemia  metastaticcancer  bilirubin      urine  \\\n",
       "0                  143103         0                 0        0.3    -1.0000   \n",
       "1                  143258         0                 0        1.0    -1.0000   \n",
       "2                  143274         0                 0       -1.0    -1.0000   \n",
       "3                  145180         0                 0       -1.0    -1.0000   \n",
       "4                  146784         0                 0       -1.0    -1.0000   \n",
       "...                   ...       ...               ...        ...        ...   \n",
       "196174            3351551         0                 0       -1.0    -1.0000   \n",
       "196175            3352119         0                 0        0.6  1275.3504   \n",
       "196176            3352193         0                 0       -1.0    -1.0000   \n",
       "196177            3352563         0                 0        0.3  1348.6176   \n",
       "196178            3353113         0                 0        1.3  1724.2848   \n",
       "\n",
       "         pao2   fio2  gender   age      ethnicity  ... sap2_sodium  \\\n",
       "0       346.0  100.0  Female  46.0          Asian  ...           0   \n",
       "1        -1.0   -1.0    Male  90.0      Caucasian  ...           0   \n",
       "2        -1.0   -1.0    Male  22.0      Caucasian  ...           0   \n",
       "3        -1.0   -1.0  Female  77.0              -  ...           0   \n",
       "4        80.0   40.0    Male  50.0      Caucasian  ...           0   \n",
       "...       ...    ...     ...   ...            ...  ...         ...   \n",
       "196174   -1.0   -1.0    Male  42.0      Caucasian  ...           0   \n",
       "196175  304.0  100.0    Male  57.0      Caucasian  ...           0   \n",
       "196176   98.0   30.0  Female  19.0  Other/Unknown  ...           0   \n",
       "196177   -1.0   -1.0  Female  34.0      Caucasian  ...           0   \n",
       "196178   -1.0   -1.0    Male  50.0      Caucasian  ...           0   \n",
       "\n",
       "        sap2_potassium  sap2_bicarbonate sap2_bilirubin sap2_wbc  \\\n",
       "0                    0                 0              0        0   \n",
       "1                    0                 0              0        0   \n",
       "2                    0                 0              0        0   \n",
       "3                    0                 0              0        0   \n",
       "4                    0                 0              0        0   \n",
       "...                ...               ...            ...      ...   \n",
       "196174               0                 0              0        0   \n",
       "196175               0                 0              0        0   \n",
       "196176               0                 0              0        0   \n",
       "196177               0                 3              0        0   \n",
       "196178               0                 0              0        0   \n",
       "\n",
       "       sap2_metastaticcancer  sap2_leukemia  sap2_lymphoma  sap2_aids  \\\n",
       "0                          0              0              0          0   \n",
       "1                          0              0              0          0   \n",
       "2                          0              0              0          0   \n",
       "3                          0              0              0          0   \n",
       "4                          0              0              0          0   \n",
       "...                      ...            ...            ...        ...   \n",
       "196174                     0              0              0          0   \n",
       "196175                     0              0              0          0   \n",
       "196176                     0              0              0          0   \n",
       "196177                     0              0              0          0   \n",
       "196178                     0              0              0          0   \n",
       "\n",
       "        sap2_admit  \n",
       "0                0  \n",
       "1                6  \n",
       "2                6  \n",
       "3                6  \n",
       "4                6  \n",
       "...            ...  \n",
       "196174           6  \n",
       "196175           0  \n",
       "196176           0  \n",
       "196177           6  \n",
       "196178           6  \n",
       "\n",
       "[196179 rows x 82 columns]"
      ]
     },
     "execution_count": 51,
     "metadata": {},
     "output_type": "execute_result"
    }
   ],
   "source": [
    "burns_merged_4"
   ]
  },
  {
   "cell_type": "code",
   "execution_count": 52,
   "id": "1b75376a",
   "metadata": {},
   "outputs": [
    {
     "name": "stdout",
     "output_type": "stream",
     "text": [
      "<class 'pandas.core.frame.DataFrame'>\n",
      "Int64Index: 196179 entries, 0 to 196178\n",
      "Data columns (total 82 columns):\n",
      " #   Column                 Non-Null Count   Dtype  \n",
      "---  ------                 --------------   -----  \n",
      " 0   patientunitstayid      196179 non-null  int64  \n",
      " 1   leukemia               196179 non-null  int64  \n",
      " 2   metastaticcancer       196179 non-null  int64  \n",
      " 3   bilirubin              196179 non-null  float64\n",
      " 4   urine                  196179 non-null  float64\n",
      " 5   pao2                   196179 non-null  float64\n",
      " 6   fio2                   196179 non-null  float64\n",
      " 7   gender                 196179 non-null  object \n",
      " 8   age                    196179 non-null  float64\n",
      " 9   ethnicity              196179 non-null  object \n",
      " 10  apacheadmissiondx      196179 non-null  object \n",
      " 11  admissionheight        196179 non-null  float64\n",
      " 12  hospitaladmitoffset    196179 non-null  float64\n",
      " 13  unittype               196179 non-null  object \n",
      " 14  unitadmitsource        196179 non-null  object \n",
      " 15  unitstaytype           196179 non-null  object \n",
      " 16  admissionweight        196179 non-null  float64\n",
      " 17  intubated              196179 non-null  int64  \n",
      " 18  dialysis               196179 non-null  int64  \n",
      " 19  temperature            196179 non-null  float64\n",
      " 20  respiratoryrate        196179 non-null  float64\n",
      " 21  heartrate              196179 non-null  float64\n",
      " 22  meanbp                 196179 non-null  float64\n",
      " 23  hematocrit             196179 non-null  float64\n",
      " 24  actualicumortality     196179 non-null  object \n",
      " 25  preopmi                196179 non-null  int64  \n",
      " 26  preopcardiaccath       196179 non-null  int64  \n",
      " 27  ptcawithin24h          196179 non-null  int64  \n",
      " 28  meds                   196179 non-null  object \n",
      " 29  verbal                 196179 non-null  float64\n",
      " 30  motor                  196179 non-null  float64\n",
      " 31  eyes                   196179 non-null  float64\n",
      " 32  thrombolytics          196179 non-null  int64  \n",
      " 33  aids                   196179 non-null  int64  \n",
      " 34  hepaticfailure         196179 non-null  int64  \n",
      " 35  lymphoma               196179 non-null  int64  \n",
      " 36  immunosuppression      196179 non-null  int64  \n",
      " 37  cirrhosis              196179 non-null  int64  \n",
      " 38  activetx               196179 non-null  int64  \n",
      " 39  ima                    196179 non-null  int64  \n",
      " 40  midur                  196179 non-null  int64  \n",
      " 41  ventday1               196179 non-null  int64  \n",
      " 42  oobventday1            196179 non-null  int64  \n",
      " 43  oobintubday1           196179 non-null  int64  \n",
      " 44  diabetes               196179 non-null  int64  \n",
      " 45  diagnosisstring        196179 non-null  object \n",
      " 46  potassium              196179 non-null  float64\n",
      " 47  creatinine             196179 non-null  float64\n",
      " 48  sodium                 196179 non-null  float64\n",
      " 49  BUN                    196179 non-null  float64\n",
      " 50  glucose                196179 non-null  float64\n",
      " 51  chloride               196179 non-null  float64\n",
      " 52  calcium                196179 non-null  float64\n",
      " 53  Hgb                    196179 non-null  float64\n",
      " 54  WBC x 1000             196179 non-null  float64\n",
      " 55  platelets x 1000       196179 non-null  float64\n",
      " 56  RBC                    196179 non-null  float64\n",
      " 57  bicarbonate            196179 non-null  float64\n",
      " 58  MCV                    196179 non-null  float64\n",
      " 59  MCHC                   196179 non-null  float64\n",
      " 60  MCH                    192026 non-null  float64\n",
      " 61  RDW                    192026 non-null  float64\n",
      " 62  anion gap              12163 non-null   float64\n",
      " 63  sap2_age               196179 non-null  int64  \n",
      " 64  sap2_heartrate         196179 non-null  int64  \n",
      " 65  sap2_meanbp            196179 non-null  int64  \n",
      " 66  sap2_temperature       196179 non-null  int64  \n",
      " 67  GCS                    196179 non-null  float64\n",
      " 68  sap2_GCS               196179 non-null  int64  \n",
      " 69  sap2_ratio             196179 non-null  int64  \n",
      " 70  sap2_BUN               196179 non-null  int64  \n",
      " 71  sap2_urine             196179 non-null  int64  \n",
      " 72  sap2_sodium            196179 non-null  int64  \n",
      " 73  sap2_potassium         196179 non-null  int64  \n",
      " 74  sap2_bicarbonate       196179 non-null  int64  \n",
      " 75  sap2_bilirubin         196179 non-null  int64  \n",
      " 76  sap2_wbc               196179 non-null  int64  \n",
      " 77  sap2_metastaticcancer  196179 non-null  int64  \n",
      " 78  sap2_leukemia          196179 non-null  int64  \n",
      " 79  sap2_lymphoma          196179 non-null  int64  \n",
      " 80  sap2_aids              196179 non-null  int64  \n",
      " 81  sap2_admit             196179 non-null  int64  \n",
      "dtypes: float64(34), int64(39), object(9)\n",
      "memory usage: 124.2+ MB\n"
     ]
    }
   ],
   "source": [
    "burns_merged_4.info()"
   ]
  },
  {
   "cell_type": "code",
   "execution_count": 53,
   "id": "04e0f9cc",
   "metadata": {},
   "outputs": [],
   "source": [
    "burns_merged_4['sap2'] = burns_merged_4[['sap2_age', 'sap2_heartrate', 'sap2_meanbp', 'sap2_temperature',\n",
    "       'sap2_GCS', 'sap2_ratio', 'sap2_BUN', 'sap2_urine', 'sap2_sodium',\n",
    "       'sap2_potassium', 'sap2_bicarbonate', 'sap2_bilirubin', 'sap2_wbc',\n",
    "       'sap2_metastaticcancer', 'sap2_leukemia', 'sap2_lymphoma', 'sap2_aids',\n",
    "       'sap2_admit']].sum(axis=1)"
   ]
  },
  {
   "cell_type": "code",
   "execution_count": 54,
   "id": "20a1cea2",
   "metadata": {},
   "outputs": [],
   "source": [
    "burns_merged_4['sap2_logit'] = -7.7631+0.0737*burns_merged_4['sap2']+0.9971*np.log(burns_merged_4['sap2']+1)"
   ]
  },
  {
   "cell_type": "code",
   "execution_count": 55,
   "id": "fb46e2b0",
   "metadata": {},
   "outputs": [],
   "source": [
    "burns_merged_4['sap2_mortality'] = np.exp(burns_merged_4['sap2_logit'])/(1+np.exp(burns_merged_4['sap2_logit']))"
   ]
  },
  {
   "cell_type": "code",
   "execution_count": 56,
   "id": "4fcbe8d8",
   "metadata": {},
   "outputs": [
    {
     "data": {
      "text/plain": [
       "0         0.037205\n",
       "1         0.152870\n",
       "2         0.037205\n",
       "3         0.079390\n",
       "4         0.128048\n",
       "            ...   \n",
       "196174    0.015163\n",
       "196175    0.140051\n",
       "196176    0.064649\n",
       "196177    0.041754\n",
       "196178    0.019976\n",
       "Name: sap2_mortality, Length: 196179, dtype: float64"
      ]
     },
     "execution_count": 56,
     "metadata": {},
     "output_type": "execute_result"
    }
   ],
   "source": [
    "burns_merged_4['sap2_mortality']"
   ]
  },
  {
   "cell_type": "code",
   "execution_count": 57,
   "id": "213802c9",
   "metadata": {},
   "outputs": [
    {
     "data": {
      "text/plain": [
       "ALIVE      181887\n",
       "EXPIRED     14292\n",
       "Name: actualicumortality, dtype: int64"
      ]
     },
     "execution_count": 57,
     "metadata": {},
     "output_type": "execute_result"
    }
   ],
   "source": [
    "burns_merged_4['actualicumortality'].value_counts()"
   ]
  },
  {
   "cell_type": "code",
   "execution_count": 58,
   "id": "7325947f",
   "metadata": {},
   "outputs": [],
   "source": [
    "burns_merged_4['actualicumortality_label'] = burns_merged_4['actualicumortality'].apply(lambda x: 1 if x =='EXPIRED' else 0)"
   ]
  },
  {
   "cell_type": "code",
   "execution_count": 59,
   "id": "468d8155",
   "metadata": {},
   "outputs": [
    {
     "data": {
      "text/plain": [
       "array([0, 0, 0, ..., 0, 0, 0], dtype=int64)"
      ]
     },
     "execution_count": 59,
     "metadata": {},
     "output_type": "execute_result"
    }
   ],
   "source": [
    "burns_merged_4['actualicumortality_label'].values"
   ]
  },
  {
   "cell_type": "code",
   "execution_count": 60,
   "id": "0a15a94d",
   "metadata": {},
   "outputs": [],
   "source": [
    "fpr, tpr, thresholds = metrics.roc_curve(burns_merged_4['actualicumortality_label'].values, burns_merged_4['sap2_mortality'].values, pos_label=1)"
   ]
  },
  {
   "cell_type": "code",
   "execution_count": 61,
   "id": "2a64e187",
   "metadata": {},
   "outputs": [
    {
     "data": {
      "text/plain": [
       "0.8170860739509564"
      ]
     },
     "execution_count": 61,
     "metadata": {},
     "output_type": "execute_result"
    }
   ],
   "source": [
    "metrics.auc(fpr, tpr)"
   ]
  },
  {
   "cell_type": "code",
   "execution_count": null,
   "id": "559a80d0",
   "metadata": {},
   "outputs": [],
   "source": [
    "11"
   ]
  },
  {
   "cell_type": "code",
   "execution_count": null,
   "id": "bb9b481b",
   "metadata": {},
   "outputs": [],
   "source": [
    "6"
   ]
  }
 ],
 "metadata": {
  "kernelspec": {
   "display_name": "Python 3",
   "language": "python",
   "name": "python3"
  },
  "language_info": {
   "codemirror_mode": {
    "name": "ipython",
    "version": 3
   },
   "file_extension": ".py",
   "mimetype": "text/x-python",
   "name": "python",
   "nbconvert_exporter": "python",
   "pygments_lexer": "ipython3",
   "version": "3.7.0"
  }
 },
 "nbformat": 4,
 "nbformat_minor": 5
}
