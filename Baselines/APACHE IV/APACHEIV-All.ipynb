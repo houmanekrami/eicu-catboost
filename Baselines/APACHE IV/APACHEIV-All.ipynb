{
 "cells": [
  {
   "cell_type": "code",
   "execution_count": 1,
   "id": "5c279948",
   "metadata": {},
   "outputs": [],
   "source": [
    "import pandas as pd\n",
    "import numpy as np\n",
    "from sklearn import metrics"
   ]
  },
  {
   "cell_type": "code",
   "execution_count": 2,
   "id": "cf8a142d",
   "metadata": {},
   "outputs": [],
   "source": [
    "burns=pd.read_csv(\"data2/burns-trauma.csv\")\n",
    "cardio=pd.read_csv(\"data2/cardiovascular.csv\")\n",
    "endocrine=pd.read_csv(\"data2/endocrine.csv\")\n",
    "gastrointestinal=pd.read_csv(\"data2/gastrointestinal.csv\")\n",
    "hematology=pd.read_csv(\"data2/hematology.csv\")\n",
    "infectiousdiseases=pd.read_csv(\"data2/infectious diseases.csv\")\n",
    "neurologic=pd.read_csv(\"data2/neurologic.csv\")\n",
    "oncology=pd.read_csv(\"data2/oncology.csv\")\n",
    "pulmonary=pd.read_csv(\"data2/pulmonary.csv\")\n",
    "renal=pd.read_csv(\"data2/renal.csv\")\n",
    "surgery=pd.read_csv(\"data2/surgery.csv\")\n",
    "toxicology=pd.read_csv(\"data2/toxicology.csv\")\n",
    "burns = pd.concat([burns, cardio, endocrine, gastrointestinal, hematology, infectiousdiseases,\n",
    "          neurologic, oncology, pulmonary, renal, surgery, toxicology]).copy()"
   ]
  },
  {
   "cell_type": "code",
   "execution_count": 3,
   "id": "22ab7885",
   "metadata": {},
   "outputs": [],
   "source": [
    "apachepatientresult=pd.read_csv(\"apachePatientResult.csv.gz\")"
   ]
  },
  {
   "cell_type": "code",
   "execution_count": 4,
   "id": "0b98c2bc",
   "metadata": {},
   "outputs": [],
   "source": [
    "burns_merged = pd.merge(apachepatientresult[['patientunitstayid','predictedicumortality']], burns[['patientunitstayid','actualicumortality']], how='right', on='patientunitstayid')"
   ]
  },
  {
   "cell_type": "code",
   "execution_count": 5,
   "id": "84f9c23a",
   "metadata": {},
   "outputs": [],
   "source": [
    "burns_merged['actualicumortality_label'] = burns_merged['actualicumortality'].apply(lambda x: 1 if x =='EXPIRED' else 0)"
   ]
  },
  {
   "cell_type": "code",
   "execution_count": 6,
   "id": "16d22461",
   "metadata": {},
   "outputs": [],
   "source": [
    "fpr, tpr, thresholds = metrics.roc_curve(burns_merged['actualicumortality_label'].values, burns_merged['predictedicumortality'].values, pos_label=1)"
   ]
  },
  {
   "cell_type": "code",
   "execution_count": 7,
   "id": "ca2a35d8",
   "metadata": {},
   "outputs": [
    {
     "data": {
      "text/plain": [
       "0.8537678395143615"
      ]
     },
     "execution_count": 7,
     "metadata": {},
     "output_type": "execute_result"
    }
   ],
   "source": [
    "metrics.auc(fpr, tpr)"
   ]
  },
  {
   "cell_type": "code",
   "execution_count": null,
   "id": "6072b3bb",
   "metadata": {},
   "outputs": [],
   "source": [
    "7"
   ]
  },
  {
   "cell_type": "code",
   "execution_count": null,
   "id": "61d26d2f",
   "metadata": {},
   "outputs": [],
   "source": [
    "2"
   ]
  }
 ],
 "metadata": {
  "kernelspec": {
   "display_name": "Python 3",
   "language": "python",
   "name": "python3"
  },
  "language_info": {
   "codemirror_mode": {
    "name": "ipython",
    "version": 3
   },
   "file_extension": ".py",
   "mimetype": "text/x-python",
   "name": "python",
   "nbconvert_exporter": "python",
   "pygments_lexer": "ipython3",
   "version": "3.7.0"
  }
 },
 "nbformat": 4,
 "nbformat_minor": 5
}
