{
 "cells": [
  {
   "cell_type": "code",
   "execution_count": 1,
   "id": "5c279948",
   "metadata": {},
   "outputs": [],
   "source": [
    "import pandas as pd\n",
    "import numpy as np\n",
    "from sklearn import metrics"
   ]
  },
  {
   "cell_type": "code",
   "execution_count": 2,
   "id": "cf8a142d",
   "metadata": {},
   "outputs": [],
   "source": [
    "burns=pd.read_csv(\"data2/pulmonary.csv\")"
   ]
  },
  {
   "cell_type": "code",
   "execution_count": 3,
   "id": "22ab7885",
   "metadata": {},
   "outputs": [],
   "source": [
    "apachepatientresult=pd.read_csv(\"apachePatientResult.csv.gz\")"
   ]
  },
  {
   "cell_type": "code",
   "execution_count": 4,
   "id": "0b98c2bc",
   "metadata": {},
   "outputs": [],
   "source": [
    "burns_merged = pd.merge(apachepatientresult[['patientunitstayid','predictedicumortality']], burns[['patientunitstayid','actualicumortality']], how='right', on='patientunitstayid')"
   ]
  },
  {
   "cell_type": "code",
   "execution_count": 6,
   "id": "84f9c23a",
   "metadata": {},
   "outputs": [],
   "source": [
    "burns_merged['actualicumortality_label'] = burns_merged['actualicumortality'].apply(lambda x: 1 if x =='EXPIRED' else 0)"
   ]
  },
  {
   "cell_type": "code",
   "execution_count": 8,
   "id": "16d22461",
   "metadata": {},
   "outputs": [],
   "source": [
    "fpr, tpr, thresholds = metrics.roc_curve(burns_merged['actualicumortality_label'].values, burns_merged['predictedicumortality'].values, pos_label=1)"
   ]
  },
  {
   "cell_type": "code",
   "execution_count": 9,
   "id": "ca2a35d8",
   "metadata": {},
   "outputs": [
    {
     "data": {
      "text/plain": [
       "0.8813748632500211"
      ]
     },
     "execution_count": 9,
     "metadata": {},
     "output_type": "execute_result"
    }
   ],
   "source": [
    "metrics.auc(fpr, tpr)"
   ]
  },
  {
   "cell_type": "code",
   "execution_count": null,
   "id": "6072b3bb",
   "metadata": {},
   "outputs": [],
   "source": []
  }
 ],
 "metadata": {
  "kernelspec": {
   "display_name": "Python 3",
   "language": "python",
   "name": "python3"
  },
  "language_info": {
   "codemirror_mode": {
    "name": "ipython",
    "version": 3
   },
   "file_extension": ".py",
   "mimetype": "text/x-python",
   "name": "python",
   "nbconvert_exporter": "python",
   "pygments_lexer": "ipython3",
   "version": "3.7.0"
  }
 },
 "nbformat": 4,
 "nbformat_minor": 5
}
