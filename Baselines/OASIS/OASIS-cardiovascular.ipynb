{
 "cells": [
  {
   "cell_type": "code",
   "execution_count": 1,
   "id": "5c279948",
   "metadata": {},
   "outputs": [],
   "source": [
    "import pandas as pd\n",
    "import numpy as np\n",
    "from sklearn import metrics"
   ]
  },
  {
   "cell_type": "code",
   "execution_count": 2,
   "id": "cf8a142d",
   "metadata": {},
   "outputs": [],
   "source": [
    "burns=pd.read_csv(\"data2/cardiovascular.csv\")"
   ]
  },
  {
   "cell_type": "code",
   "execution_count": 3,
   "id": "7fa3551d",
   "metadata": {},
   "outputs": [],
   "source": [
    "burns_pos = burns[burns['hospitaladmitoffset']<=0]"
   ]
  },
  {
   "cell_type": "code",
   "execution_count": 4,
   "id": "a97e3639",
   "metadata": {},
   "outputs": [],
   "source": [
    "def age(item):\n",
    "    temp = 0\n",
    "    if (item >= 24) & (item <= 53):\n",
    "        temp += 3\n",
    "    elif (54 <= item) & (item <= 77):\n",
    "        temp += 6\n",
    "    elif (78 <= item) & (item <= 89):\n",
    "        temp += 9\n",
    "    elif (90 <= item):\n",
    "        temp += 7\n",
    "    return temp"
   ]
  },
  {
   "cell_type": "code",
   "execution_count": 5,
   "id": "6ecf0825",
   "metadata": {},
   "outputs": [
    {
     "name": "stderr",
     "output_type": "stream",
     "text": [
      "C:\\Users\\nsafa\\Anaconda3\\lib\\site-packages\\ipykernel_launcher.py:1: SettingWithCopyWarning: \n",
      "A value is trying to be set on a copy of a slice from a DataFrame.\n",
      "Try using .loc[row_indexer,col_indexer] = value instead\n",
      "\n",
      "See the caveats in the documentation: https://pandas.pydata.org/pandas-docs/stable/user_guide/indexing.html#returning-a-view-versus-a-copy\n",
      "  \"\"\"Entry point for launching an IPython kernel.\n"
     ]
    }
   ],
   "source": [
    "burns_pos['OASIS_age'] = burns_pos['age'].apply(age)"
   ]
  },
  {
   "cell_type": "code",
   "execution_count": 6,
   "id": "7faa65a2",
   "metadata": {},
   "outputs": [
    {
     "name": "stderr",
     "output_type": "stream",
     "text": [
      "C:\\Users\\nsafa\\Anaconda3\\lib\\site-packages\\ipykernel_launcher.py:1: SettingWithCopyWarning: \n",
      "A value is trying to be set on a copy of a slice from a DataFrame.\n",
      "Try using .loc[row_indexer,col_indexer] = value instead\n",
      "\n",
      "See the caveats in the documentation: https://pandas.pydata.org/pandas-docs/stable/user_guide/indexing.html#returning-a-view-versus-a-copy\n",
      "  \"\"\"Entry point for launching an IPython kernel.\n"
     ]
    }
   ],
   "source": [
    "burns_pos['GCS'] = burns_pos['eyes'] + burns_pos['motor'] + burns_pos['verbal']"
   ]
  },
  {
   "cell_type": "code",
   "execution_count": 7,
   "id": "af1d0dd6",
   "metadata": {},
   "outputs": [],
   "source": [
    "def GCS(item):\n",
    "    temp = 0\n",
    "    if (item >= 3) & (item <= 7):\n",
    "        temp += 10\n",
    "    elif (item >= 8) & (item <= 13):\n",
    "        temp += 4\n",
    "    elif (item == 14):\n",
    "        temp += 3\n",
    "    return temp"
   ]
  },
  {
   "cell_type": "code",
   "execution_count": 8,
   "id": "73286251",
   "metadata": {},
   "outputs": [
    {
     "name": "stderr",
     "output_type": "stream",
     "text": [
      "C:\\Users\\nsafa\\Anaconda3\\lib\\site-packages\\ipykernel_launcher.py:1: SettingWithCopyWarning: \n",
      "A value is trying to be set on a copy of a slice from a DataFrame.\n",
      "Try using .loc[row_indexer,col_indexer] = value instead\n",
      "\n",
      "See the caveats in the documentation: https://pandas.pydata.org/pandas-docs/stable/user_guide/indexing.html#returning-a-view-versus-a-copy\n",
      "  \"\"\"Entry point for launching an IPython kernel.\n"
     ]
    }
   ],
   "source": [
    "burns_pos['OASIS_GCS'] = burns_pos['GCS'].apply(GCS)"
   ]
  },
  {
   "cell_type": "code",
   "execution_count": 9,
   "id": "0948810a",
   "metadata": {},
   "outputs": [],
   "source": [
    "def heartrate(item):\n",
    "    temp = 0\n",
    "    if (item < 33):\n",
    "        temp += 4\n",
    "    elif (item >= 89) & (item <= 106):\n",
    "        temp += 1\n",
    "    elif (item >= 107) & (item <= 125):\n",
    "        temp += 3\n",
    "    elif (item > 125):\n",
    "        temp += 6\n",
    "    return temp"
   ]
  },
  {
   "cell_type": "code",
   "execution_count": 10,
   "id": "3d85f866",
   "metadata": {},
   "outputs": [
    {
     "name": "stderr",
     "output_type": "stream",
     "text": [
      "C:\\Users\\nsafa\\Anaconda3\\lib\\site-packages\\ipykernel_launcher.py:1: SettingWithCopyWarning: \n",
      "A value is trying to be set on a copy of a slice from a DataFrame.\n",
      "Try using .loc[row_indexer,col_indexer] = value instead\n",
      "\n",
      "See the caveats in the documentation: https://pandas.pydata.org/pandas-docs/stable/user_guide/indexing.html#returning-a-view-versus-a-copy\n",
      "  \"\"\"Entry point for launching an IPython kernel.\n"
     ]
    }
   ],
   "source": [
    "burns_pos['OASIS_heartrate'] = burns_pos['heartrate'].apply(heartrate)"
   ]
  },
  {
   "cell_type": "code",
   "execution_count": 11,
   "id": "ea6f06f0",
   "metadata": {},
   "outputs": [],
   "source": [
    "def meanbp(item):\n",
    "    temp = 0\n",
    "    if (item < 20.65):\n",
    "        temp += 4\n",
    "    elif (20.65 <= item) & (item <= 50.99):\n",
    "        temp += 3\n",
    "    elif (51 <= item) & (item <= 61.32):\n",
    "        temp += 2\n",
    "    elif (143.44 < item):\n",
    "        temp += 3\n",
    "    return temp"
   ]
  },
  {
   "cell_type": "code",
   "execution_count": 12,
   "id": "d59c7ca5",
   "metadata": {},
   "outputs": [
    {
     "name": "stderr",
     "output_type": "stream",
     "text": [
      "C:\\Users\\nsafa\\Anaconda3\\lib\\site-packages\\ipykernel_launcher.py:1: SettingWithCopyWarning: \n",
      "A value is trying to be set on a copy of a slice from a DataFrame.\n",
      "Try using .loc[row_indexer,col_indexer] = value instead\n",
      "\n",
      "See the caveats in the documentation: https://pandas.pydata.org/pandas-docs/stable/user_guide/indexing.html#returning-a-view-versus-a-copy\n",
      "  \"\"\"Entry point for launching an IPython kernel.\n"
     ]
    }
   ],
   "source": [
    "burns_pos['OASIS_meanbp'] = burns_pos['meanbp'].apply(meanbp)"
   ]
  },
  {
   "cell_type": "code",
   "execution_count": 13,
   "id": "40e5398a",
   "metadata": {},
   "outputs": [],
   "source": [
    "def respiratoryrate(item):\n",
    "    temp = 0\n",
    "    if (item < 6):\n",
    "        temp += 10\n",
    "    elif (6 <= item) & (item <= 12):\n",
    "        temp += 1\n",
    "    elif (23 <= item) & (item <= 30):\n",
    "        temp += 1\n",
    "    elif (31 <= item) & (item <= 44):\n",
    "        temp += 6\n",
    "    elif (44 < item):\n",
    "        temp += 9\n",
    "    return temp"
   ]
  },
  {
   "cell_type": "code",
   "execution_count": 14,
   "id": "3307efd1",
   "metadata": {},
   "outputs": [
    {
     "name": "stderr",
     "output_type": "stream",
     "text": [
      "C:\\Users\\nsafa\\Anaconda3\\lib\\site-packages\\ipykernel_launcher.py:1: SettingWithCopyWarning: \n",
      "A value is trying to be set on a copy of a slice from a DataFrame.\n",
      "Try using .loc[row_indexer,col_indexer] = value instead\n",
      "\n",
      "See the caveats in the documentation: https://pandas.pydata.org/pandas-docs/stable/user_guide/indexing.html#returning-a-view-versus-a-copy\n",
      "  \"\"\"Entry point for launching an IPython kernel.\n"
     ]
    }
   ],
   "source": [
    "burns_pos['OASIS_respiratoryrate'] = burns_pos['respiratoryrate'].apply(respiratoryrate)"
   ]
  },
  {
   "cell_type": "code",
   "execution_count": 15,
   "id": "e41621e5",
   "metadata": {},
   "outputs": [],
   "source": [
    "def temperature(item):\n",
    "    temp = 0\n",
    "    if (item < 33.22):\n",
    "        temp += 3\n",
    "    elif (33.22 <= item) & (item <= 35.93):\n",
    "        temp += 4\n",
    "    elif (35.94 <= item) & (item <= 36.39):\n",
    "        temp += 2\n",
    "    elif (36.89 <= item) & (item <= 39.88):\n",
    "        temp += 2\n",
    "    elif (39.88 <= item):\n",
    "        temp += 6\n",
    "    return temp"
   ]
  },
  {
   "cell_type": "code",
   "execution_count": 16,
   "id": "8887275b",
   "metadata": {},
   "outputs": [
    {
     "name": "stderr",
     "output_type": "stream",
     "text": [
      "C:\\Users\\nsafa\\Anaconda3\\lib\\site-packages\\ipykernel_launcher.py:1: SettingWithCopyWarning: \n",
      "A value is trying to be set on a copy of a slice from a DataFrame.\n",
      "Try using .loc[row_indexer,col_indexer] = value instead\n",
      "\n",
      "See the caveats in the documentation: https://pandas.pydata.org/pandas-docs/stable/user_guide/indexing.html#returning-a-view-versus-a-copy\n",
      "  \"\"\"Entry point for launching an IPython kernel.\n"
     ]
    }
   ],
   "source": [
    "burns_pos['OASIS_temperature'] = burns_pos['temperature'].apply(temperature)"
   ]
  },
  {
   "cell_type": "code",
   "execution_count": 17,
   "id": "096aa54f",
   "metadata": {},
   "outputs": [],
   "source": [
    "apacheapsdvar = pd.read_csv('ApacheApsVar.csv.gz')"
   ]
  },
  {
   "cell_type": "code",
   "execution_count": 18,
   "id": "3a9f685c",
   "metadata": {},
   "outputs": [],
   "source": [
    "burns_merged = pd.merge(apacheapsdvar[['patientunitstayid','urine']], burns_pos, how='right', on='patientunitstayid')"
   ]
  },
  {
   "cell_type": "code",
   "execution_count": 19,
   "id": "3091e252",
   "metadata": {},
   "outputs": [],
   "source": [
    "def urine(item):\n",
    "    temp = 0\n",
    "    if (item <671) & (item != -1):\n",
    "        temp += 10\n",
    "    elif (item >= 671) & (item <= 1426.99):\n",
    "        temp += 5\n",
    "    elif (item >= 1427) & (item <= 2543.99):\n",
    "        temp += 1\n",
    "    elif (item >= 6896):\n",
    "        temp += 8\n",
    "    return temp"
   ]
  },
  {
   "cell_type": "code",
   "execution_count": 20,
   "id": "2c361b6f",
   "metadata": {},
   "outputs": [],
   "source": [
    "burns_merged['OASIS_urine'] = burns_merged['urine'].apply(urine)"
   ]
  },
  {
   "cell_type": "code",
   "execution_count": 21,
   "id": "1805d1f8",
   "metadata": {},
   "outputs": [],
   "source": [
    "def vent(item):\n",
    "    temp = 0\n",
    "    if (item == 1):\n",
    "        temp += 9\n",
    "    return temp"
   ]
  },
  {
   "cell_type": "code",
   "execution_count": 22,
   "id": "dab81993",
   "metadata": {},
   "outputs": [],
   "source": [
    "burns_merged['OASIS_vent'] = burns_merged['ventday1'].apply(vent)"
   ]
  },
  {
   "cell_type": "code",
   "execution_count": 23,
   "id": "3a2a7b6c",
   "metadata": {},
   "outputs": [
    {
     "data": {
      "text/plain": [
       "Index(['patientunitstayid', 'urine', 'gender', 'age', 'ethnicity',\n",
       "       'apacheadmissiondx', 'admissionheight', 'hospitaladmitoffset',\n",
       "       'unittype', 'unitadmitsource', 'unitstaytype', 'admissionweight',\n",
       "       'intubated', 'dialysis', 'temperature', 'respiratoryrate', 'heartrate',\n",
       "       'meanbp', 'hematocrit', 'actualicumortality', 'preopmi',\n",
       "       'preopcardiaccath', 'ptcawithin24h', 'meds', 'verbal', 'motor', 'eyes',\n",
       "       'thrombolytics', 'aids', 'hepaticfailure', 'lymphoma',\n",
       "       'immunosuppression', 'cirrhosis', 'activetx', 'ima', 'midur',\n",
       "       'ventday1', 'oobventday1', 'oobintubday1', 'diabetes',\n",
       "       'diagnosisstring', 'potassium', 'creatinine', 'sodium', 'BUN',\n",
       "       'glucose', 'chloride', 'calcium', 'Hgb', 'WBC x 1000',\n",
       "       'platelets x 1000', 'RBC', 'bicarbonate', 'MCV', 'MCHC', 'MCH', 'RDW',\n",
       "       'OASIS_age', 'GCS', 'OASIS_GCS', 'OASIS_heartrate', 'OASIS_meanbp',\n",
       "       'OASIS_respiratoryrate', 'OASIS_temperature', 'OASIS_urine',\n",
       "       'OASIS_vent'],\n",
       "      dtype='object')"
      ]
     },
     "execution_count": 23,
     "metadata": {},
     "output_type": "execute_result"
    }
   ],
   "source": [
    "burns_merged.columns"
   ]
  },
  {
   "cell_type": "code",
   "execution_count": 24,
   "id": "df7a4f2b",
   "metadata": {},
   "outputs": [],
   "source": [
    "apachepredvar = pd.read_csv('apachePredVar.csv.gz')"
   ]
  },
  {
   "cell_type": "code",
   "execution_count": 25,
   "id": "10ff40b7",
   "metadata": {},
   "outputs": [],
   "source": [
    "burns_merged_1 = pd.merge(apachepredvar[['patientunitstayid','electivesurgery']], burns_merged, how='right', on='patientunitstayid')"
   ]
  },
  {
   "cell_type": "code",
   "execution_count": 26,
   "id": "2e2c45ab",
   "metadata": {},
   "outputs": [],
   "source": [
    "def electsurgery(item):\n",
    "    temp = 0\n",
    "    if (item == 0):\n",
    "        temp += 6\n",
    "    return temp"
   ]
  },
  {
   "cell_type": "code",
   "execution_count": 27,
   "id": "2613151d",
   "metadata": {},
   "outputs": [],
   "source": [
    "burns_merged_1['OASIS_electsurgery'] = burns_merged_1['electivesurgery'].apply(electsurgery)"
   ]
  },
  {
   "cell_type": "code",
   "execution_count": 28,
   "id": "c6177c35",
   "metadata": {},
   "outputs": [],
   "source": [
    "burns_merged_1['hospitaladmitoffset_hr'] = -burns_merged_1['hospitaladmitoffset']/60"
   ]
  },
  {
   "cell_type": "code",
   "execution_count": 29,
   "id": "bf13dd8d",
   "metadata": {},
   "outputs": [],
   "source": [
    "def preicu(item):\n",
    "    temp = 0\n",
    "    if (item < 0.17):\n",
    "        temp += 5\n",
    "    elif (item >= 0.17) & (item <= 4.94):\n",
    "        temp += 3\n",
    "    elif (item >= 24.01) & (item <= 311.80):\n",
    "        temp += 2\n",
    "    elif (item >= 311.80):\n",
    "        temp += 1\n",
    "    return temp"
   ]
  },
  {
   "cell_type": "code",
   "execution_count": 30,
   "id": "7ea6f69f",
   "metadata": {},
   "outputs": [],
   "source": [
    "burns_merged_1['OASIS_offset'] = burns_merged_1['hospitaladmitoffset_hr'].apply(preicu)"
   ]
  },
  {
   "cell_type": "code",
   "execution_count": 31,
   "id": "4c3ab7eb",
   "metadata": {},
   "outputs": [],
   "source": [
    "burns_merged_1['OASIS'] = burns_merged_1[['OASIS_age', 'OASIS_GCS', 'OASIS_heartrate', 'OASIS_meanbp',\n",
    "       'OASIS_respiratoryrate', 'OASIS_temperature', 'OASIS_urine',\n",
    "       'OASIS_vent', 'OASIS_electsurgery', 'OASIS_offset']].sum(axis=1)"
   ]
  },
  {
   "cell_type": "code",
   "execution_count": 32,
   "id": "f7329ee5",
   "metadata": {},
   "outputs": [],
   "source": [
    "def OASIS_mort(item):\n",
    "    \n",
    "    return 1/(1+np.exp(-(0.1275*item-6.1746)))"
   ]
  },
  {
   "cell_type": "code",
   "execution_count": 33,
   "id": "a7742573",
   "metadata": {},
   "outputs": [],
   "source": [
    "burns_merged_1['OASIS_mort'] = burns_merged_1['OASIS'].apply(OASIS_mort)"
   ]
  },
  {
   "cell_type": "code",
   "execution_count": 34,
   "id": "84f9c23a",
   "metadata": {},
   "outputs": [],
   "source": [
    "burns_merged_1['actualicumortality_label'] = burns_merged_1['actualicumortality'].apply(lambda x: 1 if x =='EXPIRED' else 0)"
   ]
  },
  {
   "cell_type": "code",
   "execution_count": 35,
   "id": "16d22461",
   "metadata": {},
   "outputs": [],
   "source": [
    "fpr, tpr, thresholds = metrics.roc_curve(burns_merged_1['actualicumortality_label'].values, burns_merged_1['OASIS_mort'].values, pos_label=1)"
   ]
  },
  {
   "cell_type": "code",
   "execution_count": 36,
   "id": "ca2a35d8",
   "metadata": {},
   "outputs": [
    {
     "data": {
      "text/plain": [
       "0.8225050626481313"
      ]
     },
     "execution_count": 36,
     "metadata": {},
     "output_type": "execute_result"
    }
   ],
   "source": [
    "metrics.auc(fpr, tpr)"
   ]
  },
  {
   "cell_type": "code",
   "execution_count": 38,
   "id": "6072b3bb",
   "metadata": {},
   "outputs": [
    {
     "data": {
      "text/plain": [
       "Index(['patientunitstayid', 'gender', 'age', 'ethnicity', 'apacheadmissiondx',\n",
       "       'admissionheight', 'hospitaladmitoffset', 'unittype', 'unitadmitsource',\n",
       "       'unitstaytype', 'admissionweight', 'intubated', 'dialysis',\n",
       "       'temperature', 'respiratoryrate', 'heartrate', 'meanbp', 'hematocrit',\n",
       "       'actualicumortality', 'preopmi', 'preopcardiaccath', 'ptcawithin24h',\n",
       "       'meds', 'verbal', 'motor', 'eyes', 'thrombolytics', 'aids',\n",
       "       'hepaticfailure', 'lymphoma', 'immunosuppression', 'cirrhosis',\n",
       "       'activetx', 'ima', 'midur', 'ventday1', 'oobventday1', 'oobintubday1',\n",
       "       'diabetes', 'diagnosisstring', 'potassium', 'creatinine', 'sodium',\n",
       "       'BUN', 'glucose', 'chloride', 'calcium', 'Hgb', 'WBC x 1000',\n",
       "       'platelets x 1000', 'RBC', 'bicarbonate', 'MCV', 'MCHC', 'MCH', 'RDW'],\n",
       "      dtype='object')"
      ]
     },
     "execution_count": 38,
     "metadata": {},
     "output_type": "execute_result"
    }
   ],
   "source": [
    "burns.columns"
   ]
  },
  {
   "cell_type": "code",
   "execution_count": null,
   "id": "b78acec6",
   "metadata": {},
   "outputs": [],
   "source": []
  }
 ],
 "metadata": {
  "kernelspec": {
   "display_name": "Python 3",
   "language": "python",
   "name": "python3"
  },
  "language_info": {
   "codemirror_mode": {
    "name": "ipython",
    "version": 3
   },
   "file_extension": ".py",
   "mimetype": "text/x-python",
   "name": "python",
   "nbconvert_exporter": "python",
   "pygments_lexer": "ipython3",
   "version": "3.7.0"
  }
 },
 "nbformat": 4,
 "nbformat_minor": 5
}
